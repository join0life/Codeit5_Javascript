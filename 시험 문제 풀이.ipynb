{
 "cells": [
  {
   "cell_type": "markdown",
   "id": "d3b07488-9cb6-456b-b9b7-d6b00e58febc",
   "metadata": {},
   "source": [
    "# [4] 사각형 넓이 계산 <5점>\n",
    "• 사각형의 폭과 높이를 각각 키보드로 입력 받아 면적을 구하는 프로그램을 작성 하시오."
   ]
  },
  {
   "cell_type": "code",
   "execution_count": 1,
   "id": "805f16cc-4177-456d-88e6-587e0b5332c4",
   "metadata": {},
   "outputs": [
    {
     "name": "stdin",
     "output_type": "stream",
     "text": [
      "width:  5\n",
      "height:  4\n"
     ]
    },
    {
     "name": "stdout",
     "output_type": "stream",
     "text": [
      "폭 5, 높이 4의 사각형 넓이는: 20\n"
     ]
    }
   ],
   "source": [
    "width = int(input('width: '))\n",
    "height = int(input('height: '))\n",
    "print(f'폭 {width}, 높이 {height}의 사각형 넓이는: {width * height}')"
   ]
  },
  {
   "cell_type": "markdown",
   "id": "fa3719ff-e0bc-4e7b-bc1a-e3f143b059ea",
   "metadata": {},
   "source": [
    "# [5] 전자 출결 시스템 만들기 <10점>\n",
    "• 계정의 ID와 PW를 변수로 미리 지정 > ID: digitalmaster, PW: 12345678\n",
    "• ID와 PW를 입력 받아 로그인\n",
    "• ID, PW가 일치하면 “정상적으로 출결 되었습니다.” 출력\n",
    "• ID, PW가 일치하지 않으면 “ID, PW를 확인하세요.” 출력"
   ]
  },
  {
   "cell_type": "code",
   "execution_count": null,
   "id": "82dc37d1-306f-4518-8965-817b77ff429b",
   "metadata": {},
   "outputs": [],
   "source": [
    "id = 'digitalmaster'\n",
    "pw = '12345678'\n",
    "print('--DIMA4기 전자출결 시스템--')\n",
    "user_id = input('ID를 입력하세요: ')\n",
    "user_pwd = input('PW를 입력하세요: ')\n",
    "if id == user_id and pwd == user_pwd:\n",
    "    print('정상적으로 출결 되었습니다.')\n",
    "else:\n",
    "    print('ID, PW를 확인하세요.')"
   ]
  },
  {
   "cell_type": "markdown",
   "id": "43a0627a-405a-467f-a704-3809cfb24ea0",
   "metadata": {},
   "source": [
    "# [6] 성적 평가 시스템 만들기 <12점>\n",
    "• 100점 단위로 다음 항목에 해당하는 성적을 입력 받고, 각 항목의 반영 비율을 적용하여 총점\n",
    "과 학점을 출력한다.\n",
    "• 출석점수(10%), 과제점수(20%), 중간고사(40%), 기말프로젝트(30%)\n",
    "• 총점에 상관 없이 출석점수가 50점을 넘지 못하면 F학점이며, 총점 점수에 따른 학점 기준은\n",
    "다음과 같다"
   ]
  },
  {
   "cell_type": "code",
   "execution_count": null,
   "id": "de749151-29a4-496f-aead-48f03aab5518",
   "metadata": {},
   "outputs": [],
   "source": [
    "print('성적입력 (100점단위)')\n",
    "attendence = int(input('출석점수: '))\n",
    "homework = int(input('과제점수: '))\n",
    "mid_term = int(input('중간고사: '))\n",
    "final_project = int(input('기말프로젝트: '))\n",
    "total = (attendence*0.1)+(homework*0.2)+(mid_term*0.4)+(final_project*0.3)\n",
    "if attendence < 50:\n",
    "    grade = 'F'\n",
    "else:\n",
    "    if total >= 90:\n",
    "        grade = 'A'\n",
    "    elif total >= 80:\n",
    "        grade = 'B'\n",
    "    elif total >= 70:\n",
    "        grade = 'C'\n",
    "    elif total >= 60:\n",
    "        grade = 'D'\n",
    "    else :\n",
    "        grade = 'F'\n",
    "print(f'총점: {total:.2f}')\n",
    "print(f'{grade}학점')"
   ]
  },
  {
   "cell_type": "markdown",
   "id": "fdfa9f18-ebdf-42f6-aea5-afe33f5eb25b",
   "metadata": {},
   "source": [
    "# [7] 정렬 및 배수 출력 <9점>\n",
    "• 임의의 정수 10개를 입력 받아 오름차순으로 정렬하여 출력하고, 이 중 3의 배수에 해당하는\n",
    "숫자를 출력하는 프로그램을 작성 하시오.\n",
    "숫자 입력: 42\n",
    "숫자 입력: 12\n",
    "숫자 입력: 4\n",
    "숫자 입력: 56\n",
    "숫자 입력: 32\n",
    "숫자 입력: 14\n",
    "숫자 입력: 59\n",
    "숫자 입력: 98\n",
    "숫자 입력: 52\n",
    "숫자 입력: 11\n",
    "[4, 11, 12, 14, 32, 42, 52, 56, 59, 98]\n",
    "42\n",
    "12"
   ]
  },
  {
   "cell_type": "code",
   "execution_count": null,
   "id": "64e2030c-3dad-44b2-9f20-af0692f17db7",
   "metadata": {},
   "outputs": [],
   "source": [
    "num = []\n",
    "for i in range(10):\n",
    "    num.append(int(input('숫자 입력: ')))\n",
    "num.sort()\n",
    "print(num) #num.sort()가 아니라 num을 프린트 안에 넣음\n",
    "for n in num:\n",
    "    if not n%3: print(n)"
   ]
  },
  {
   "cell_type": "markdown",
   "id": "6b79af42-d158-4264-9f94-3584a851122e",
   "metadata": {},
   "source": [
    "# [8] 딕셔너리 변경 <8점>\n",
    "• 아래의 phone 변수의 문자열을 출력결과와 같이 딕셔너리로 변경하여 출력 하시오.\n",
    "• phone = \"서울 02 ~경기 031 ~강원 033 ~충남 041 ~충북 043 ~경북 054 ~경남 055 ~전남 061 ~전북 063\"\n",
    "\n",
    "{'서울': '02', '경기': '031', '강원': '033', '충남': '041', '충북': '043', '경북': '054', '경남': '055', '\n",
    "전남': '061', '전북': '063'}"
   ]
  },
  {
   "cell_type": "code",
   "execution_count": 2,
   "id": "18e53233-9bdc-47d0-b8c7-155d6eeec8b9",
   "metadata": {},
   "outputs": [
    {
     "name": "stdout",
     "output_type": "stream",
     "text": [
      "{'서울': '02', '경기': '031', '강원': '033', '충남': '041', '충북': '043', '경북': '054', '경남': '055', '전남': '061', '전북': '063'}\n"
     ]
    }
   ],
   "source": [
    "phone = \"서울 02 ~경기 031 ~강원 033 ~충남 041 ~충북 043 ~경북 054 ~경남 055 ~전남 061 ~전북 063\"\n",
    "splited_phone = phone.split('~')\n",
    "\n",
    "#딕셔너리 comprehension\n",
    "mydic = {}\n",
    "mydic = {s.split()[0] : s.split()[1] for s in splited_phone}\n",
    "#위 코드를 풀어서\n",
    "# mydic = {}\n",
    "# for s in splited_phone:\n",
    "#     key = s.split()[0]\n",
    "#     value = s.split()[1]\n",
    "#     mydic[key] = value    \n",
    "print(mydic)"
   ]
  },
  {
   "cell_type": "markdown",
   "id": "5e68461e-d2f8-4dee-a14c-00af0670ec39",
   "metadata": {},
   "source": [
    "# [9] 임의의 웹 주소를 입력 받아 이 도메인이 .kr로 끝나는 도메인인지 확인하는 코드를 작성 하시오. <4점>\n",
    "웹 주소 입력: www.naver.com\n",
    "결과: kr 도메인이 아닙니다."
   ]
  },
  {
   "cell_type": "code",
   "execution_count": null,
   "id": "05063bdb-546e-4f21-9090-56ebaf2f4125",
   "metadata": {},
   "outputs": [],
   "source": [
    "url = input('웹 주소 입력: ')\n",
    "if url[-3:] == '.kr':\n",
    "    print('kr 도메인 입니다.')\n",
    "else: \n",
    "    print('kr 도메인이 아닙니다.')"
   ]
  },
  {
   "cell_type": "markdown",
   "id": "2c255cad-471e-4a1c-bf2f-47e9e6e9ef9a",
   "metadata": {},
   "source": [
    "# [10] 리스트 컴프리헨션 문법을 사용하여 1에서 100 사이의 짝수로 구성된 리스트를 생성 하시오. <5점>"
   ]
  },
  {
   "cell_type": "code",
   "execution_count": 3,
   "id": "7bd74fef-13b1-43eb-9e40-66d0d10ee891",
   "metadata": {},
   "outputs": [
    {
     "name": "stdout",
     "output_type": "stream",
     "text": [
      "[2, 4, 6, 8, 10, 12, 14, 16, 18, 20, 22, 24, 26, 28, 30, 32, 34, 36, 38, 40, 42, 44, 46, 48, 50, 52, 54, 56, 58, 60, 62, 64, 66, 68, 70, 72, 74, 76, 78, 80, 82, 84, 86, 88, 90, 92, 94, 96, 98, 100]\n"
     ]
    }
   ],
   "source": [
    "value = [i for i in range(1, 101) if not i%2]\n",
    "print(value)"
   ]
  },
  {
   "cell_type": "markdown",
   "id": "e1954922-2741-4df7-b8e1-ee2952cc4390",
   "metadata": {},
   "source": [
    "# [11] price 리스트에 저장되어 있는 상품 가격 다섯 개를 람다(lambda) 함수를 이용하여 모든 상품의 가격을 20% 세일한 값으로 출력 하시오. <5점>\n",
    "\n",
    "price = [435, 1200, 890, 1350, 995]"
   ]
  },
  {
   "cell_type": "code",
   "execution_count": 11,
   "id": "d375177b-5660-44cb-830e-fc977cd8b7b2",
   "metadata": {},
   "outputs": [
    {
     "name": "stdout",
     "output_type": "stream",
     "text": [
      "348\n",
      "960\n",
      "712\n",
      "1080\n",
      "796\n"
     ]
    }
   ],
   "source": [
    "price = [435, 1200, 890, 1350, 995]\n",
    "for sale_price in map(lambda x:x*0.8, price):\n",
    "    print(f'{sale_price:.0f}')"
   ]
  },
  {
   "cell_type": "markdown",
   "id": "cf861e86-bfcb-4ad1-a5b2-eba97243f5c0",
   "metadata": {},
   "source": [
    "# [12] 평균과 10 이상 차이나는 값 구하기 <8점>\n",
    "• 정수 10개를 입력 받아 그 값들의 평균과 10 이상 차이나는 정수들을 출력하는 프로그램을 작성\n",
    "하시오.\n",
    "값[0] : 1\n",
    "값[1] : 5\n",
    "값[2] : 10\n",
    "값[3] : 25\n",
    "값[4] : -40\n",
    "값[5] : -25\n",
    "값[6] : 100\n",
    "값[7] : 3\n",
    "값[8] : 5\n",
    "값[9] : 7\n",
    "평균 : 9.1\n",
    "평균과 10 이상 차이나는 수 : 25 -40 -25 100"
   ]
  },
  {
   "cell_type": "code",
   "execution_count": 1,
   "id": "2d339642-2c81-4801-b35f-88801dd0d74b",
   "metadata": {},
   "outputs": [
    {
     "name": "stdin",
     "output_type": "stream",
     "text": [
      "값[1] 2\n",
      "값[2] 3\n",
      "값[3] 5\n",
      "값[4] 2\n",
      "값[5] 4\n",
      "값[6] 4\n",
      "값[7] 1\n",
      "값[8] 5\n",
      "값[9] 1\n",
      "값[10] 5\n"
     ]
    },
    {
     "name": "stdout",
     "output_type": "stream",
     "text": [
      "평균: 3.20\n",
      "평균과 10 이상 차이나는 수: "
     ]
    }
   ],
   "source": [
    "nums = []\n",
    "for i in range(1,11):\n",
    "    nums.append(int(input(f'값[{i}]')))\n",
    "\n",
    "avg = sum(nums) / len(nums) #리스트 안 합계 구하는 건 sum 내장함수로 처리\n",
    "print(f'평균: {avg:.2f}')\n",
    "print('평균과 10 이상 차이나는 수: ', end ='')\n",
    "for n in nums:\n",
    "    if n-avg <= -10 or n-avg >= 10:\n",
    "        print(n, end=' ')"
   ]
  },
  {
   "cell_type": "markdown",
   "id": "db00d075-d6ad-403c-9ae5-e3988750802a",
   "metadata": {},
   "source": [
    "# [13] n번째로 큰 수 찾기<8점>\n",
    "• 사용자로부터 정수를 반복적으로 입력 받는다. 반복 입력은 0을 입력하면 반복을 종료한다.\n",
    "• 이 후 검색할 순위를 입력 받으면 해당 순위의 숫자를 출력하되 입력 받은 값의 범위를 벗어난 순위를 입력하면 순위를 다시 입력 받는다.\n",
    "정수를 입력하세요(종료:0)\n",
    "5\n",
    "4\n",
    "6\n",
    "2\n",
    "1\n",
    "0\n",
    "검색할 순위 : -4\n",
    "리스트의 범위를 벗어났습니다. 다시 입력하세요 : 9\n",
    "리스트의 범위를 벗어났습니다. 다시 입력하세요 : 1\n",
    "1번째로 큰 수는 6입니다."
   ]
  },
  {
   "cell_type": "code",
   "execution_count": null,
   "id": "ff5caa28-3a4d-49ce-849c-08666d75146d",
   "metadata": {},
   "outputs": [
    {
     "name": "stdout",
     "output_type": "stream",
     "text": [
      "정수를 입력하세요 (종료:0)\n"
     ]
    },
    {
     "name": "stdin",
     "output_type": "stream",
     "text": [
      " 2\n",
      " 3\n",
      " 2\n",
      " 0\n",
      "검색할 순위: -9\n"
     ]
    },
    {
     "name": "stdout",
     "output_type": "stream",
     "text": [
      "리스트의 범위를 벗어났습니다. 다시 입력하세요.\n"
     ]
    }
   ],
   "source": [
    "nums = []\n",
    "print('정수를 입력하세요 (종료:0)')\n",
    "while True:\n",
    "    num = int(input())\n",
    "    if num == 0: break\n",
    "    nums.append(num)\n",
    "\n",
    "nums.sort(reverse=True)\n",
    "\n",
    "while True:\n",
    "    rank = int(input('검색할 순위:'))\n",
    "    if 0 < rank <= len(nums):\n",
    "        break\n",
    "    else:\n",
    "        print('리스트의 범위를 벗어났습니다. 다시 입력하세요.')\n",
    "print(f'{rank}번째로 큰 수는 {nums[rank-1]}')"
   ]
  },
  {
   "cell_type": "markdown",
   "id": "9f41f4d5-d00b-4a49-be08-e9977b80df2d",
   "metadata": {},
   "source": [
    "# [14] 날짜 수 구하기 <8점>\n",
    "• 년, 월, 일을 입력 받아 서기 1년 1월 1일부터의 날짜 수를 구한다.\n",
    "[참고]\n",
    "1년은 365일이다. 2년 1월 1일은 366일째이다.\n",
    "윤년의 경우에는 366일이다.\n",
    "윤년 조건: 4로 나눠지고, 100으로 나눠지지 않는 해. 또는 400으로 나눠지는 해\n",
    "연도: 2024\n",
    "월: 3\n",
    "일: 26\n",
    "1년 1월 1일 ~ 2024년 3월 26일까지는 총 738,971일 입니다."
   ]
  },
  {
   "cell_type": "code",
   "execution_count": 5,
   "id": "6e618b2d-6e94-4731-989a-1c969d889882",
   "metadata": {},
   "outputs": [
    {
     "name": "stdin",
     "output_type": "stream",
     "text": [
      "연도:  2024\n",
      "월:  3\n",
      "일:  26\n"
     ]
    },
    {
     "name": "stdout",
     "output_type": "stream",
     "text": [
      "1년 1월 1일 ~ 2024년 3월 26일까지는 총 738,971일 입니다.\n"
     ]
    }
   ],
   "source": [
    "monthly_date = [31, 28, 31, 30, 31, 30, 31, 31, 30, 31, 30, 31]\n",
    "\n",
    "year = int(input('연도: '))\n",
    "month = int(input('월: '))\n",
    "day = int(input('일: '))\n",
    "\n",
    "total = 0\n",
    "\n",
    "def isLeapYear(year):\n",
    "    return (not year%4 and year%100) or not year%400\n",
    "    \n",
    "# 전년도까지 총 일수\n",
    "for i in range(1, year):\n",
    "    if isLeapYear(i):\n",
    "        total += 366\n",
    "    else:\n",
    "        total += 365\n",
    "# 전월까지 총 일수\n",
    "for i in range(month-1):\n",
    "    total += monthly_date[i]\n",
    "\n",
    "# 해당 날짜 더하기\n",
    "total += day\n",
    "\n",
    "# 당해 년도가 윤년이고 확인하고자 하는 월이 3월 이후이면 1일 더하기\n",
    "if isLeapYear(year) and month > 2:\n",
    "    total += 1\n",
    "\n",
    "print(f'1년 1월 1일 ~ {year}년 {month}월 {day}일까지는 총 {total:,}일 입니다.')"
   ]
  },
  {
   "cell_type": "markdown",
   "id": "7f30ec0e-adc0-42f6-91c8-578fbecdab34",
   "metadata": {},
   "source": [
    "# [15] 리스트에 저장된 숫자 맞추기 <12점>\n",
    "• 1~20 범위의 중복되지 않는 임의의 정수 5개를 생성하여 리스트에 저장하고 사용자가 입력하\n",
    "여 맞히는 프로그램을 작성한다.\n",
    "• 모든 값을 다 맞힌 후에는 시도 횟수를 출력한다.\n",
    "| X | X | X | X | X |\n",
    ">> X 위치의 숫자를 맞혀보세요 : 1\n",
    "** 정답입니다!\n",
    "| X | X | X | X | 1 |\n",
    ">> X 위치의 숫자를 맞혀보세요 : 2\n",
    "** 정답입니다!\n",
    "| X | X | X | 2 | 1 |\n",
    ">> X 위치의 숫자를 맞혀보세요 : 3\n",
    "** 정답입니다!\n",
    "| X | X | 3 | 2 | 1 |\n",
    ">> X 위치의 숫자를 맞혀보세요 : 4\n",
    "** 정답입니다!\n",
    "\n",
    "| 4 | X | 3 | 2 | 1 |\n",
    ">> X 위치의 숫자를 맞혀보세요 : 5\n",
    "** 없는 숫자입니다.\n",
    "| 4 | X | 3 | 2 | 1 |\n",
    ">> X 위치의 숫자를 맞혀보세요 : 6\n",
    "** 정답입니다!\n",
    "** 6회만에 성공!!!"
   ]
  },
  {
   "cell_type": "code",
   "execution_count": null,
   "id": "96e42510-2b41-4d0c-82ca-52aa881511aa",
   "metadata": {},
   "outputs": [
    {
     "name": "stdout",
     "output_type": "stream",
     "text": [
      "[2, 4, 18, 9, 13]\n",
      "|X|X|X|X|X|"
     ]
    },
    {
     "name": "stdin",
     "output_type": "stream",
     "text": [
      "X 의 위치의 숫자를 맞혀보세요:  6\n"
     ]
    },
    {
     "name": "stdout",
     "output_type": "stream",
     "text": [
      "없는 숫자입니다.\n",
      "|X|X|X|X|X|"
     ]
    },
    {
     "name": "stdin",
     "output_type": "stream",
     "text": [
      "X 의 위치의 숫자를 맞혀보세요:  13\n"
     ]
    },
    {
     "name": "stdout",
     "output_type": "stream",
     "text": [
      "정답입니다!\n",
      "|X|X|X|X|13|"
     ]
    },
    {
     "name": "stdin",
     "output_type": "stream",
     "text": [
      "X 의 위치의 숫자를 맞혀보세요:  9\n"
     ]
    },
    {
     "name": "stdout",
     "output_type": "stream",
     "text": [
      "정답입니다!\n",
      "|X|X|X|9|13|"
     ]
    }
   ],
   "source": [
    "import random\n",
    "\n",
    "nums = random.sample(range(1,21),5)\n",
    "print(nums)\n",
    "\n",
    "mark = ['X'] * 5\n",
    "count = 0\n",
    "while True:\n",
    "    count += 1\n",
    "    print('|', end='')\n",
    "    for m in mark:\n",
    "        print(f'{m}|', end='')\n",
    "\n",
    "    user_input = int(input('X 의 위치의 숫자를 맞혀보세요: '))\n",
    "    for i, n in enumerate(nums): #enumarate: 리스트의 인덱스와 원소를 튜플로 반환\n",
    "        if n == user_input:\n",
    "            print('정답입니다!')\n",
    "            mark[i] = n #mark[i] = str(n)도 가능\n",
    "            break\n",
    "    else: print('없는 숫자입니다.')\n",
    "\n",
    "    if mark.count('X') == 0: break \n",
    "print(f'{count}회 만에 성공!')"
   ]
  }
 ],
 "metadata": {
  "kernelspec": {
   "display_name": "Python 3 (ipykernel)",
   "language": "python",
   "name": "python3"
  },
  "language_info": {
   "codemirror_mode": {
    "name": "ipython",
    "version": 3
   },
   "file_extension": ".py",
   "mimetype": "text/x-python",
   "name": "python",
   "nbconvert_exporter": "python",
   "pygments_lexer": "ipython3",
   "version": "3.11.7"
  }
 },
 "nbformat": 4,
 "nbformat_minor": 5
}
