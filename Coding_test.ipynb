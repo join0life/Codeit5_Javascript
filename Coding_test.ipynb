{
 "cells": [
  {
   "cell_type": "markdown",
   "id": "fcbf845d-c36a-41bf-8c85-0f40569ab71d",
   "metadata": {},
   "source": [
    "#[문제] 문자열을 구성하는 문자의 개수 세기 \n",
    "<pre>\n",
    "    사용자로부터 임의의 문자열을 입력 받아 해당 문자열을 구성하는 문자들 및 각 문자의 개수를 출력하는 코드를 작성하세요.\n",
    "    (실행예시)\n",
    "    입력: 가가가bbbbccc#\n",
    "    출력: 가3b4c3#1\n",
    "</pre>"
   ]
  },
  {
   "cell_type": "code",
   "execution_count": 14,
   "id": "37810fe6-4cb7-45aa-80dc-86e82abe3627",
   "metadata": {},
   "outputs": [
    {
     "name": "stdin",
     "output_type": "stream",
     "text": [
      "입력:  가가가bbbccc#\n"
     ]
    },
    {
     "name": "stdout",
     "output_type": "stream",
     "text": [
      "출력: 가3b3c3#1"
     ]
    }
   ],
   "source": [
    "data = input('입력: ')\n",
    "charDic = {}\n",
    "\n",
    "for s in data:\n",
    "    if charDic.get(s) != None :\n",
    "        charDic[s] += 1\n",
    "    else :\n",
    "        charDic[s] = 1\n",
    "print('출력: ', end = '')\n",
    "keys = charDic.keys() #key값만 뽑아서 리스트로 만듦\n",
    "for k in keys: \n",
    "    print(k, charDic[k], end='', sep='')"
   ]
  },
  {
   "cell_type": "code",
   "execution_count": 20,
   "id": "e31d5490-ef92-42a6-a7c8-6f252fb14c6c",
   "metadata": {},
   "outputs": [
    {
     "name": "stdin",
     "output_type": "stream",
     "text": [
      "입력:  가가가나나나다다다\n"
     ]
    },
    {
     "name": "stdout",
     "output_type": "stream",
     "text": [
      "출력: 가3나3다3"
     ]
    }
   ],
   "source": [
    "data = input('입력: ')\n",
    "charDic = {s:data.count(s) for s in data}\n",
    "print('출력: ', end ='')\n",
    "for k, v in charDic.items():\n",
    "    print(k, v, sep='', end='')"
   ]
  },
  {
   "cell_type": "markdown",
   "id": "77ec489c-6518-435b-8dc2-0acad2a02741",
   "metadata": {},
   "source": [
    "# [문제] 분리한 문자열의 첫 번째 문자 출력하기\n",
    "<pre>\n",
    "    사용자로부터 임의의 문자열을 입력 받아 공백을 기준으로 분리한 후, 분리된 문자열의 첫 번째 글자만 모아서 출력하는 코드를 작성하세요.\n",
    "    (실행예시)\n",
    "    입력 : ABC DEF GHI\n",
    "    출력 : A,D,G\n",
    "</pre> "
   ]
  },
  {
   "cell_type": "code",
   "execution_count": 9,
   "id": "9d40696b-4d65-45d5-9a98-2b238590b05c",
   "metadata": {},
   "outputs": [
    {
     "name": "stdout",
     "output_type": "stream",
     "text": [
      "서울-대전-부산\n"
     ]
    }
   ],
   "source": [
    "# s = ['서울', '대전', '부산']\n",
    "# print('-'.join(s))"
   ]
  },
  {
   "cell_type": "code",
   "execution_count": 13,
   "id": "f358ac7a-60a1-4687-abb9-561a54ecc17a",
   "metadata": {
    "scrolled": true
   },
   "outputs": [
    {
     "name": "stdin",
     "output_type": "stream",
     "text": [
      "입력 :  abc def gds\n"
     ]
    },
    {
     "name": "stdout",
     "output_type": "stream",
     "text": [
      "출력 : a,d,g\n"
     ]
    }
   ],
   "source": [
    "#선생님 코드\n",
    "data = input('입력 : ')\n",
    "print('출력 : ', end='')\n",
    "# for s in data.split():\n",
    "#     print(s[0], end=',') #sep는 하나의 프린트 안에서 여러 개의 값을 구분할 때\n",
    "# print('\\b')\n",
    "\n",
    "print(','.join([s[0] for s in data.split()]))"
   ]
  },
  {
   "cell_type": "markdown",
   "id": "405622a2-ab09-408e-b2f7-6f65ae523aef",
   "metadata": {},
   "source": [
    "# [문제] 순차적으로 문자열 변환하기\n",
    "<pre>\n",
    "    사용자로부터 임의의 문자열을 입력 받아 가장 마지막 문자부터 \"#\"으로 하나씩 변환해가며 출력하는 코드를 작성하세요.\n",
    "    (실행예시)\n",
    "    입력 : AbcdEf\n",
    "    출력 : \n",
    "    AbcdE#\n",
    "    Abcd##\n",
    "    Abc###\n",
    "    Ab####\n",
    "    A#####\n",
    "    ######\n",
    "</pre>"
   ]
  },
  {
   "cell_type": "code",
   "execution_count": 38,
   "id": "5b9071cd-dcb8-492d-915c-4c71b06a7c65",
   "metadata": {},
   "outputs": [
    {
     "name": "stdin",
     "output_type": "stream",
     "text": [
      "입력:  asdfasdf\n"
     ]
    },
    {
     "name": "stdout",
     "output_type": "stream",
     "text": [
      "asdfasd#\n",
      "asdfas##\n",
      "asdfa###\n",
      "asdf####\n",
      "asd#####\n",
      "as######\n",
      "a#######\n",
      "########\n"
     ]
    }
   ],
   "source": [
    "data = input('입력: ')\n",
    "\n",
    "for i in range(len(data)):\n",
    "    print(data[:len(data)-(i+1)] + '#'*(i+1))"
   ]
  },
  {
   "cell_type": "code",
   "execution_count": 37,
   "id": "af50249f-5763-4d57-b622-624d7dbece4e",
   "metadata": {
    "scrolled": true
   },
   "outputs": [],
   "source": [
    "# #data = input('입력: ')\n",
    "# print('출력:')\n",
    "# s = len(data)\n",
    "# for i in range(s):\n",
    "#     print(data[:s-(i+1)]+'#'* (i+1))"
   ]
  },
  {
   "cell_type": "code",
   "execution_count": 45,
   "id": "806ae07e-7d16-4e0e-bdd3-a96c2b3b092b",
   "metadata": {},
   "outputs": [
    {
     "name": "stdin",
     "output_type": "stream",
     "text": [
      "입력:  asdggasd\n"
     ]
    },
    {
     "name": "stdout",
     "output_type": "stream",
     "text": [
      "asdggas#\n",
      "asdgga##\n",
      "asdgg###\n",
      "asdg####\n",
      "asd#####\n",
      "as######\n",
      "a#######\n",
      "########\n"
     ]
    }
   ],
   "source": [
    "data = input('입력: ')\n",
    "for i in range(len(data)):\n",
    "    print(data[0:len(data)-(i+1)]+'#'*(i+1))"
   ]
  },
  {
   "cell_type": "markdown",
   "id": "bb3315cf-5a33-4135-9266-797fa23af70e",
   "metadata": {},
   "source": [
    "# [문제] 소문자 변환\n",
    "<pre>\n",
    "    사용자로부터 임의의 문자열을 입력 받아 해당 문자열 내 모든 소문자를 \"#\"으로 변환하여 출력하는 코드를 작성하세요.\n",
    "    (실행예시)\n",
    "    입력 : abCDeFg\n",
    "    출력 : ##CD#F#\n",
    "    Hint : 문자열의 소문자 여부 판단 함수 사용, islower()\n",
    "</pre>"
   ]
  },
  {
   "cell_type": "code",
   "execution_count": 55,
   "id": "219a8c70-85c8-4b30-9aea-00bb6634c4c7",
   "metadata": {
    "scrolled": true
   },
   "outputs": [
    {
     "name": "stdin",
     "output_type": "stream",
     "text": [
      "입력:  adfeEDF\n"
     ]
    },
    {
     "name": "stdout",
     "output_type": "stream",
     "text": [
      "출력: ####EDF\n"
     ]
    }
   ],
   "source": [
    "data = input('입력: ')\n",
    "result =''\n",
    "\n",
    "for s in data:\n",
    "    if s.islower() :\n",
    "        result += '#'\n",
    "    else : \n",
    "        result += s\n",
    "print('출력:', result)"
   ]
  },
  {
   "cell_type": "code",
   "execution_count": 59,
   "id": "b03e2676-15d8-4733-8b73-3e42f45eceb7",
   "metadata": {},
   "outputs": [
    {
     "name": "stdin",
     "output_type": "stream",
     "text": [
      "입력:  asdfdEDF\n"
     ]
    },
    {
     "name": "stdout",
     "output_type": "stream",
     "text": [
      "출력 :  #####EDF\n"
     ]
    }
   ],
   "source": [
    "data = input('입력: ')\n",
    "result = ['#' if s.islower() else s for s in data]\n",
    "print('출력 : ',''.join(result))"
   ]
  },
  {
   "cell_type": "markdown",
   "id": "31a775cc-2869-455e-b802-928b23b55eb2",
   "metadata": {},
   "source": [
    "# [문제] 문자열 검색\n",
    "사용자로부터 입력 받을 문자열의 개수를 입력 받고, 검색할 단어를 입력받은 후, 앞서 입력 받은 숫자만큼 문자열을 입력 받는다.\n",
    "이후 해당 문자열에서 검색어를 포함하는 문자열을 출력하되, 검색어가 존재하지 않을 경우 '검색결과 없음'을 출력하는 코드를 작성하세요.\n",
    "(실행예시)\n",
    "입력할 단어 개수: 3\n",
    "검색할 단어: ab\n",
    "\n",
    "단어입력 1: abba\n",
    "단어입력 2: oppa\n",
    "단어입력 3: BCabD\n",
    "검색결과:\n",
    "abba\n",
    "BCabD"
   ]
  },
  {
   "cell_type": "code",
   "execution_count": null,
   "id": "c3058c7c-846b-4cec-9f03-59b27c9211d0",
   "metadata": {
    "scrolled": true
   },
   "outputs": [],
   "source": [
    "count_word = int(input('입력할 단어 개수: '))\n",
    "word = input('검색할 단어: ')\n",
    "\n",
    "for s in range(count_word):\n",
    "    w = input(f'단어 입력 {s+1}: ')\n",
    "    \n",
    "if word in w:\n",
    "    print(f'검색결과: {w}')\n",
    "else :\n",
    "    print('검색결과 없음')"
   ]
  },
  {
   "cell_type": "code",
   "execution_count": 12,
   "id": "6854a823-9a74-4f5d-931b-cdbd4fe339dd",
   "metadata": {},
   "outputs": [
    {
     "name": "stdin",
     "output_type": "stream",
     "text": [
      "입력할 단어 개수:  3\n",
      "검색할 단어:  ab\n",
      "단어 입력 1:  abba\n",
      "단어 입력 2:  opopa\n",
      "단어 입력 3:  abbb\n"
     ]
    },
    {
     "name": "stdout",
     "output_type": "stream",
     "text": [
      "검색결과 없음\n"
     ]
    }
   ],
   "source": [
    "# 짜다 만 코드\n",
    "# count_word = int(input('입력할 단어 개수: '))\n",
    "# word = input('검색할 단어: ')\n",
    "\n",
    "# word_list = []\n",
    "\n",
    "# for s in range(count_word):\n",
    "#     word_list.append(input(f'단어 입력 {s+1}: '))\n",
    "\n",
    "# if word in word_list:\n",
    "#     print(f'검색결과: {word_list}')\n",
    "# else :\n",
    "#     print('검색결과 없음')"
   ]
  },
  {
   "cell_type": "code",
   "execution_count": 11,
   "id": "cd0ec745-7601-4665-a21e-ab259fe77d62",
   "metadata": {
    "scrolled": true
   },
   "outputs": [
    {
     "name": "stdin",
     "output_type": "stream",
     "text": [
      "입력 문자열 개수:  3\n",
      "검색할 문자열:  aa\n",
      "단어입력 1: bbb\n",
      "단어입력 2: aavv\n",
      "단어입력 3: aavbb\n"
     ]
    },
    {
     "name": "stdout",
     "output_type": "stream",
     "text": [
      "검색결과: \n",
      "aavv\n",
      "aavbb\n"
     ]
    }
   ],
   "source": [
    "num = int(input('입력 문자열 개수: '))\n",
    "keyword = input('검색할 문자열: ')\n",
    "input_strings = [input('단어입력 %d:' %(i+1))for i in range(num)]\n",
    "print('검색결과: ')\n",
    "\n",
    "find = False #flag 변수\n",
    "for s in input_strings:\n",
    "    #if keyword in s:\n",
    "    if s.find(keyword) != -1\n",
    "        print(s)\n",
    "        find = True \n",
    "if not find: print('검색결과 없음')"
   ]
  },
  {
   "cell_type": "code",
   "execution_count": 12,
   "id": "897675c3-a358-4265-afc1-d0e2a7001197",
   "metadata": {
    "scrolled": true
   },
   "outputs": [
    {
     "name": "stdin",
     "output_type": "stream",
     "text": [
      "입력 문자열 개수:  3\n",
      "검색할 문자열:  ab\n",
      "단어입력 1 :  abba\n",
      "단어입력 2 :  opa\n",
      "단어입력 3 :  kdf\n"
     ]
    },
    {
     "name": "stdout",
     "output_type": "stream",
     "text": [
      "검색결과: \n",
      "abba\n"
     ]
    }
   ],
   "source": [
    "num = int(input('입력 문자열 개수: '))\n",
    "keyword = input('검색할 문자열: ')\n",
    "input_strings = []\n",
    "for i in range(num):\n",
    "    s = input(f'단어입력 {i+1} : ')\n",
    "    if keyword in s:\n",
    "        input_strings.append(s)\n",
    "        \n",
    "if input_strings: #input_strings에 뭔가 들어 있을 때\n",
    "    print('검색결과: ')\n",
    "    print('\\n'.join(input_strings))\n",
    "else :\n",
    "    print('검색결과 없음') #input_strings가 비어있을 때"
   ]
  },
  {
   "cell_type": "markdown",
   "id": "7c9de4b7-5ef4-4fd9-ac46-4db25d5461da",
   "metadata": {},
   "source": [
    "# [문제] 규칙에 따라 문자 변환하기\n",
    "<pre>\n",
    "    사용자로부터 임의의 문자열을 입력 받아 아래와 같은 규칙에 따라 변환한 후 출력하는 코드를 작성하세요.\n",
    "    (규칙)\n",
    "    A -> 4\n",
    "    E -> 3\n",
    "    G -> 6\n",
    "    I -> 1\n",
    "    O -> 0\n",
    "    S -> 5\n",
    "    Z -> 2\n",
    "    (실행예시)\n",
    "    입력 : Ag#IZkiS\n",
    "    출력 : 4g#12ki5 \n",
    "</pre>"
   ]
  },
  {
   "cell_type": "code",
   "execution_count": 69,
   "id": "aad2ee15-716c-4f81-9471-4836c417130c",
   "metadata": {
    "scrolled": true
   },
   "outputs": [
    {
     "name": "stdin",
     "output_type": "stream",
     "text": [
      "입력:  Ag#IZkiS\n"
     ]
    },
    {
     "name": "stdout",
     "output_type": "stream",
     "text": [
      "출력:  4g#12ki5\n"
     ]
    }
   ],
   "source": [
    "code = {'A':'4', 'E':'3', 'G':'6', 'I':'1', 'O':'0', 'S':'5', 'Z':'2'}\n",
    "text = input('입력: ')\n",
    "# result = [code[s] if code.get(s) != None else s for s in text]\n",
    "result = [code.get(s,s) for s in text]\n",
    "print('출력: ',''.join(result))"
   ]
  },
  {
   "cell_type": "markdown",
   "id": "c3a5a1f1-6a83-427a-983b-b80044ad928e",
   "metadata": {},
   "source": [
    "# [문제] key 기준으로 합계 구하기\n",
    "<pre>\n",
    "    사용자로부터 key:value 형태로 반복해서 데이터를 입력 받는다. 이때 key는 문자열, value는 정수의 형태이며, 중복되는 key를 입력 받을 경우 기존에 입력 되어 있던 value에 새로 입력 받은 value를 합한다. 그리고 사용자가 'exit'를 입력하면 이전까지 입력 받았던 모든 key와 value를 key = value 형태로 출력하면서 종료하는 코드를 작성하세요.\n",
    "    (실행예시)\n",
    "    입력:\n",
    "    a:1 \n",
    "    b:2\n",
    "    c:3\n",
    "    a:4\n",
    "    c:1\n",
    "    exit\n",
    "    출력: \n",
    "    a=5\n",
    "    b=2\n",
    "    c=4\n",
    "</pre>"
   ]
  },
  {
   "cell_type": "code",
   "execution_count": 104,
   "id": "98040ebe-0ab8-4245-9892-65ffb125db04",
   "metadata": {},
   "outputs": [
    {
     "name": "stdout",
     "output_type": "stream",
     "text": [
      "['a', '1']\n"
     ]
    }
   ],
   "source": [
    "# r = 'a:1'.split(':')\n",
    "# print(r[0])"
   ]
  },
  {
   "cell_type": "code",
   "execution_count": 109,
   "id": "79238812-6851-45b5-a196-c424c1bfeb5e",
   "metadata": {
    "scrolled": true
   },
   "outputs": [
    {
     "name": "stdout",
     "output_type": "stream",
     "text": [
      "입력: \n"
     ]
    },
    {
     "name": "stdin",
     "output_type": "stream",
     "text": [
      " a:4\n",
      " a:6\n",
      " exit\n"
     ]
    },
    {
     "name": "stdout",
     "output_type": "stream",
     "text": [
      "출력: \n",
      "a = 10\n"
     ]
    }
   ],
   "source": [
    "print('입력: ')\n",
    "data = {}\n",
    "\n",
    "while True:\n",
    "    input_data = input()\n",
    "    if input_data == 'exit' : break\n",
    "    split_data = input_data.split(':')\n",
    "    key = split_data[0]\n",
    "    value = int(split_data[1])\n",
    "    data[key] = data.get(key,0) + value\n",
    "    # if data.get(key) == None:\n",
    "    #     data[key] = value #새로운 값을 사전에 추가\n",
    "    # else:\n",
    "    #     data[key] += value\n",
    "print('출력: ')\n",
    "for k,v in data.items():\n",
    "    print(k,'=',v)"
   ]
  },
  {
   "cell_type": "markdown",
   "id": "38ba88b5-1a53-475d-80cd-7a5a585b2e2f",
   "metadata": {},
   "source": [
    "# [문제] 성적 처리 프로그램\n",
    "<pre>\n",
    "    사용자로부터 총 학생의 수와 합격 기준 점수를 입력 받는다.\n",
    "    그리고 각 학생의 성적과 결석 일수를 공백으로 구분하여 순차적으로 입력 받는다.\n",
    "    결석 일수 1일당 5점씸 감점하여 최종 성적을 계산한다.\n",
    "    점수와 결석일수, 최종 성적과 합격 여부를 출력한다.\n",
    "    (실행예시)\n",
    "    입력:\n",
    "    학생 수: 3\n",
    "    합격 기준 점수: 60\n",
    "\n",
    "    1번 학생 점수와 결석 일수 (\"100 0\" 형식) 100 0\n",
    "    2번 학생 점수와 결석 일수 (\"100 0\" 형식) 60 0\n",
    "    3번 학생 점수와 결석 일수 (\"100 0\" 형식) 80 5\n",
    "\n",
    "    출력: \n",
    "    점수      결석     성적     합격여부\n",
    "    100        0       100        합격\n",
    "    60         0        60        합격\n",
    "    80         5        55       불합격\n",
    "</pre>"
   ]
  },
  {
   "cell_type": "code",
   "execution_count": 133,
   "id": "928673cd-a9e2-4f82-800a-ba6d4aa8bd81",
   "metadata": {
    "scrolled": true
   },
   "outputs": [
    {
     "name": "stdout",
     "output_type": "stream",
     "text": [
      "입력: \n"
     ]
    },
    {
     "name": "stdin",
     "output_type": "stream",
     "text": [
      "학생 수:  3\n",
      "합격 기준 점수:  60\n",
      "1번 학생 점수와 결석 일수(\"100 0\"):  100 0\n",
      "2번 학생 점수와 결석 일수(\"100 0\"):  60 0\n",
      "3번 학생 점수와 결석 일수(\"100 0\"):  80 5\n"
     ]
    },
    {
     "name": "stdout",
     "output_type": "stream",
     "text": [
      "출력: \n",
      "점수\t결석\t성적\t합격여부\n",
      "100\t  0\t100\t 합격\n",
      " 60\t  0\t 60\t 합격\n",
      " 80\t  5\t 55\t불합격\n"
     ]
    }
   ],
   "source": [
    "# i) 이중리스트 # ii) 딕셔너리 -> 리스트에 담기\n",
    "print('입력: ')\n",
    "num_of_students = int(input('학생 수: '))\n",
    "cut_line = int(input('합격 기준 점수: '))\n",
    "\n",
    "score_data = [] #전체 학생 성적 저장\n",
    "for i in range(1, num_of_students+1):\n",
    "    input_data = input(f'{i}번 학생 점수와 결석 일수(\"100 0\"): ')\n",
    "    score = int(input_data.split()[0])\n",
    "    absent = int(input_data.split()[1])\n",
    "    final_score = score - (absent*5)\n",
    "    pass_fail = '합격' if final_score >= cut_line else '불합격'\n",
    "    score_data.append([score, absent, final_score, pass_fail])\n",
    "\n",
    "print('출력: ')\n",
    "print('점수','결석','성적','합격여부',sep='\\t')\n",
    "for student in score_data:\n",
    "    print('%3d\\t%3d\\t%3d\\t%3s'%(student[0],student[1],student[2],student[3]))"
   ]
  },
  {
   "cell_type": "markdown",
   "id": "0e2e4984-cc02-4efe-8f2f-dd3c5e1f6774",
   "metadata": {},
   "source": [
    "# [문제] 팩토리얼 값 구하기\n",
    "<pre>\n",
    "    n!(n 팩토리얼)은 1부터 n까지 존재하는 모든 자연수의 곱을 의미한다. 사용자로부터 어떤 자연수 n을 입력 받아 n!의 값을 출력하는 코드를 작성하세요.\n",
    "    (실행예시)\n",
    "    양의 정수 값 입력: 10\n",
    "    10! = 3,628,800\n",
    "</pre>"
   ]
  },
  {
   "cell_type": "code",
   "execution_count": 151,
   "id": "63f4c4c8-16ad-4e84-897d-9ece66878be7",
   "metadata": {
    "scrolled": true
   },
   "outputs": [
    {
     "name": "stdin",
     "output_type": "stream",
     "text": [
      "양의 정수 값 입력:  10\n"
     ]
    },
    {
     "name": "stdout",
     "output_type": "stream",
     "text": [
      "10! = 3,628,800\n"
     ]
    }
   ],
   "source": [
    "n = int(input('양의 정수 값 입력: '))\n",
    "result = n #result값을 n으로 초기화\n",
    "\n",
    "for i in range(n-1, 0, -1): #[9,8,7,6,5,4,3,2,1]\n",
    "    result *= i #result = result * i\n",
    "print(f'{n}! = {result:,}')"
   ]
  },
  {
   "cell_type": "markdown",
   "id": "f8b711e8-e0b7-4c30-a9cc-c95a1393257e",
   "metadata": {},
   "source": [
    "# [문제] 피보나치 수열 구현하기\n",
    "<pre>\n",
    "    피보나치 수열은 첫째 및 둘째 항이 1이며, 그 이후의 항은 바로 앞 두 항의 합으로 이루어진 수열을 말한다.\n",
    "    사용자로부터 어떤 정수를 입력 받아 입력 받은 수보다 작거나 같은 수로만 이루어진 피보나치 수열을 출력하는 코드를 작성하세요.\n",
    "    (실행예시)\n",
    "    입력: 10\n",
    "    출력: 1 1 2 3 5 8 \n",
    "</pre>"
   ]
  },
  {
   "cell_type": "code",
   "execution_count": 180,
   "id": "c6c89ce9-197a-4352-9690-f61b52e7c586",
   "metadata": {},
   "outputs": [
    {
     "name": "stdin",
     "output_type": "stream",
     "text": [
      "입력:  10\n"
     ]
    },
    {
     "name": "stdout",
     "output_type": "stream",
     "text": [
      "1 1 2 3 5 8 "
     ]
    }
   ],
   "source": [
    "n = int(input('입력: '))\n",
    "first = 1\n",
    "second = 1\n",
    "sum =0\n",
    "print(1,1, end =' ')\n",
    "while True:\n",
    "    sum = first + second\n",
    "    if sum >= n: break\n",
    "    print(sum, end=' ')\n",
    "    first = second \n",
    "    second = sum"
   ]
  },
  {
   "cell_type": "code",
   "execution_count": 181,
   "id": "7c717837-376f-4adf-925a-6bf56dee1b9e",
   "metadata": {},
   "outputs": [
    {
     "name": "stdin",
     "output_type": "stream",
     "text": [
      "입력:  10\n"
     ]
    },
    {
     "name": "stdout",
     "output_type": "stream",
     "text": [
      "1 1 2 3 5 8 "
     ]
    }
   ],
   "source": [
    "n = int(input('입력: '))\n",
    "first = 0\n",
    "second = 1\n",
    "temp = 0\n",
    "while second <= n:\n",
    "    print(second, end =' ')\n",
    "    temp = second #다음 항을 구할 때 first 값이 되어야 하기 때문에\n",
    "    second = first + second\n",
    "    first = temp"
   ]
  },
  {
   "cell_type": "code",
   "execution_count": 1,
   "id": "b6213b02-73ad-4815-b045-259420632009",
   "metadata": {},
   "outputs": [
    {
     "name": "stdin",
     "output_type": "stream",
     "text": [
      "입력:  10\n"
     ]
    },
    {
     "name": "stdout",
     "output_type": "stream",
     "text": [
      "[1, 1, 2, 3, 5, 8]\n"
     ]
    }
   ],
   "source": [
    "n = int(input('입력: '))\n",
    "result = [1,1]\n",
    "while sum(result[-2:]) <= n: #전체 원소 중 끝 2개\n",
    "    result.append(sum(result[-2:]))\n",
    "print(result)"
   ]
  },
  {
   "cell_type": "markdown",
   "id": "6b7a642e-2e43-4063-8d51-b89def2f79b0",
   "metadata": {},
   "source": [
    "# [문제] 버블 정렬 알고리즘\n",
    "<pre>\n",
    "    버블 정렬은 리스트에서 인접한 두 원소의 크기를 비교하여 순서에 맞게 정렬하는 알고리즘을 말한다.\n",
    "    일반적으로 첫 번째 요소부터 시작해서, 첫 번째 요소의 크기와 두 번째 요소의 크기를 비교하여 미리 정한 오름차순 또는 내림차순에 따라 두 요소가 순서에 맞지 않게 위치한 경우 서로 교환한다.\n",
    "    이후 두 번째 요소와 세 번째 요소 또한 같은 방식의 작업을 거치며 이와 같은 작업을 마지막 요소까지 반복해서 수행한다. \n",
    "\n",
    "    [5, 3, 7, 2, 11]\n",
    "    위와 같은 요소로 이루어진 리스트를 선언하고 버블 정렬 알고리즘을 통해 오름차순으로 정렬한 후 결과를 출력하는 코드를 작성하세요.\n",
    "</pre>"
   ]
  },
  {
   "cell_type": "code",
   "execution_count": 16,
   "id": "5b7b6e6a-2bfe-4bf1-a75b-8620f52b793e",
   "metadata": {},
   "outputs": [
    {
     "name": "stdout",
     "output_type": "stream",
     "text": [
      "정렬 전:  [5, 3, 7, 2, 11]\n",
      "정렬 후:  [2, 3, 5, 7, 11]\n"
     ]
    }
   ],
   "source": [
    "values = [5, 3, 7, 2, 11]\n",
    "print('정렬 전: ',values)\n",
    "for n in range(len(values)):\n",
    "    for i in range(len(values)-1):\n",
    "        left = i #왼쪽 요소\n",
    "        right = i+1 #오른쪽 요소\n",
    "        if values[left] > values[right]: #내림차순 하려면 부등호만 바꿔주기\n",
    "            temp = values[left]\n",
    "            values[left] = values[right]\n",
    "            values[right] = temp\n",
    "print('정렬 후: ',values)"
   ]
  },
  {
   "cell_type": "markdown",
   "id": "fc653bea-651d-4abd-9e12-42046d8ade82",
   "metadata": {},
   "source": [
    "# [문제] 삽입 정렬 알고리즘\n",
    "<pre>\n",
    "    삽입 정렬은 리스트의 모든 요소를 앞에서부터 차례로 이미 정렬된 부분과 비교하여, 자신의 위치를 찾아 삽입함으로써 정렬을 완성하는 알고리즘이다.\n",
    "    [31, 25, 12, 22, 11]\n",
    "    위와 같은 요소로 이루어진 리스트를 선언하고 삽입 정렬 알고리즘을 통해 오름차순으로 정렬한 후 결과를 출력하는 코드를 작성하세요.\n",
    "</pre>"
   ]
  },
  {
   "cell_type": "code",
   "execution_count": 15,
   "id": "aabb86fb-6adc-4d3b-8c59-727cbf8ef8ec",
   "metadata": {},
   "outputs": [
    {
     "name": "stdout",
     "output_type": "stream",
     "text": [
      "정렬 전:  [31, 25, 12, 22, 11]\n",
      "정렬 후:  [11, 12, 22, 25, 31]\n"
     ]
    }
   ],
   "source": [
    "# 이중 for문 \n",
    "values = [31, 25, 12, 22, 11]\n",
    "print('정렬 전: ',values)\n",
    "\n",
    "for i in range(1, len(values)):\n",
    "    key = values[i] # 비교 기준이 되는 값\n",
    "    j = i - 1 # 비교 기준 값 왼쪽에 있는 값의 인덱스 (하나씩 감소해 가며 해당 위치의 값과 비교)\n",
    "    while j >= 0 and values[j] > key : #기준 값보다 왼쪽 값이 크면 \n",
    "        values[j+1] = values[j] # 오른쪽으로 값 이동\n",
    "        j -= 1\n",
    "    values[j+1] = key # 기준 값 삽입 \n",
    "print('정렬 후: ', values)  "
   ]
  }
 ],
 "metadata": {
  "kernelspec": {
   "display_name": "Python 3 (ipykernel)",
   "language": "python",
   "name": "python3"
  },
  "language_info": {
   "codemirror_mode": {
    "name": "ipython",
    "version": 3
   },
   "file_extension": ".py",
   "mimetype": "text/x-python",
   "name": "python",
   "nbconvert_exporter": "python",
   "pygments_lexer": "ipython3",
   "version": "3.11.7"
  }
 },
 "nbformat": 4,
 "nbformat_minor": 5
}
