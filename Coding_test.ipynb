{
 "cells": [
  {
   "cell_type": "markdown",
   "id": "fcbf845d-c36a-41bf-8c85-0f40569ab71d",
   "metadata": {},
   "source": [
    "#[문제] 문자열을 구성하는 문자의 개수 세기 \n",
    "<pre>\n",
    "    사용자로부터 임의의 문자열을 입력 받아 해당 문자열을 구성하는 문자들 및 각 문자의 개수를 출력하는 코드를 작성하세요.\n",
    "    (실행예시)\n",
    "    입력: 가가가bbbbccc#\n",
    "    출력: 가3b4c3#1\n",
    "</pre>"
   ]
  },
  {
   "cell_type": "code",
   "execution_count": 14,
   "id": "37810fe6-4cb7-45aa-80dc-86e82abe3627",
   "metadata": {},
   "outputs": [
    {
     "name": "stdin",
     "output_type": "stream",
     "text": [
      "입력:  가가가bbbccc#\n"
     ]
    },
    {
     "name": "stdout",
     "output_type": "stream",
     "text": [
      "출력: 가3b3c3#1"
     ]
    }
   ],
   "source": [
    "data = input('입력: ')\n",
    "charDic = {}\n",
    "\n",
    "for s in data:\n",
    "    if charDic.get(s) != None :\n",
    "        charDic[s] += 1\n",
    "    else :\n",
    "        charDic[s] = 1\n",
    "print('출력: ', end = '')\n",
    "keys = charDic.keys() #key값만 뽑아서 리스트로 만듦\n",
    "for k in keys: \n",
    "    print(k, charDic[k], end='', sep='')"
   ]
  },
  {
   "cell_type": "code",
   "execution_count": 20,
   "id": "e31d5490-ef92-42a6-a7c8-6f252fb14c6c",
   "metadata": {},
   "outputs": [
    {
     "name": "stdin",
     "output_type": "stream",
     "text": [
      "입력:  가가가나나나다다다\n"
     ]
    },
    {
     "name": "stdout",
     "output_type": "stream",
     "text": [
      "출력: 가3나3다3"
     ]
    }
   ],
   "source": [
    "data = input('입력: ')\n",
    "charDic = {s:data.count(s) for s in data}\n",
    "print('출력: ', end ='')\n",
    "for k, v in charDic.items():\n",
    "    print(k, v, sep='', end='')"
   ]
  },
  {
   "cell_type": "code",
   "execution_count": null,
   "id": "6b24f721-6f58-4caa-b8d0-d1a77cede295",
   "metadata": {},
   "outputs": [],
   "source": []
  },
  {
   "cell_type": "code",
   "execution_count": null,
   "id": "6bbbb5ab-b459-4de1-9bc4-531d44403ac8",
   "metadata": {},
   "outputs": [],
   "source": []
  },
  {
   "cell_type": "markdown",
   "id": "77ec489c-6518-435b-8dc2-0acad2a02741",
   "metadata": {},
   "source": [
    "# [문제] 분리한 문자열의 첫 번째 문자 출력하기\n",
    "<pre>\n",
    "    사용자로부터 임의의 문자열을 입력 받아 공백을 기준으로 분리한 후, 분리된 문자열의 첫 번째 글자만 모아서 출력하는 코드를 작성하세요.\n",
    "    (실행예시)\n",
    "    입력 : ABC DEF GHI\n",
    "    출력 : A,D,G\n",
    "</pre> "
   ]
  },
  {
   "cell_type": "code",
   "execution_count": 7,
   "id": "251b2f53-4694-41bc-a7ec-ea048d3da480",
   "metadata": {},
   "outputs": [
    {
     "name": "stdin",
     "output_type": "stream",
     "text": [
      "입력:  df dsfd\n"
     ]
    },
    {
     "name": "stdout",
     "output_type": "stream",
     "text": [
      "dd"
     ]
    }
   ],
   "source": [
    "#짜다 만 코드\n",
    "data = input('입력: ')\n",
    "data = data.split()\n",
    "first = ''\n",
    "#print(data)\n",
    "\n",
    "first = [s[0] for s in data]\n",
    "for element in first:\n",
    "    print(element, end ='', sep=',')"
   ]
  },
  {
   "cell_type": "code",
   "execution_count": 9,
   "id": "9d40696b-4d65-45d5-9a98-2b238590b05c",
   "metadata": {},
   "outputs": [
    {
     "name": "stdout",
     "output_type": "stream",
     "text": [
      "서울-대전-부산\n"
     ]
    }
   ],
   "source": [
    "# s = ['서울', '대전', '부산']\n",
    "# print('-'.join(s))"
   ]
  },
  {
   "cell_type": "code",
   "execution_count": 13,
   "id": "f358ac7a-60a1-4687-abb9-561a54ecc17a",
   "metadata": {
    "scrolled": true
   },
   "outputs": [
    {
     "name": "stdin",
     "output_type": "stream",
     "text": [
      "입력 :  abc def gds\n"
     ]
    },
    {
     "name": "stdout",
     "output_type": "stream",
     "text": [
      "출력 : a,d,g\n"
     ]
    }
   ],
   "source": [
    "#선생님 코드\n",
    "data = input('입력 : ')\n",
    "print('출력 : ', end='')\n",
    "# for s in data.split():\n",
    "#     print(s[0], end=',') #sep는 하나의 프린트 안에서 여러 개의 값을 구분할 때\n",
    "# print('\\b')\n",
    "\n",
    "print(','.join([s[0] for s in data.split()]))"
   ]
  },
  {
   "cell_type": "markdown",
   "id": "405622a2-ab09-408e-b2f7-6f65ae523aef",
   "metadata": {},
   "source": [
    "# [문제] 순차적으로 문자열 변환하기\n",
    "<pre>\n",
    "    사용자로부터 임의의 문자열을 입력 받아 가장 마지막 문자부터 \"#\"으로 하나씩 변환해가며 출력하는 코드를 작성하세요.\n",
    "    (실행예시)\n",
    "    입력 : AbcdEf\n",
    "    출력 : \n",
    "    AbcdE#\n",
    "    Abcd##\n",
    "    Abc###\n",
    "    Ab####\n",
    "    A#####\n",
    "    ######\n",
    "</pre>"
   ]
  },
  {
   "cell_type": "code",
   "execution_count": 37,
   "id": "af50249f-5763-4d57-b622-624d7dbece4e",
   "metadata": {
    "scrolled": true
   },
   "outputs": [],
   "source": [
    "# #data = input('입력: ')\n",
    "# print('출력:')\n",
    "# s = len(data)\n",
    "# for i in range(s):\n",
    "#     print(data[:s-(i+1)]+'#'* (i+1))"
   ]
  },
  {
   "cell_type": "code",
   "execution_count": 45,
   "id": "806ae07e-7d16-4e0e-bdd3-a96c2b3b092b",
   "metadata": {},
   "outputs": [
    {
     "name": "stdin",
     "output_type": "stream",
     "text": [
      "입력:  asdggasd\n"
     ]
    },
    {
     "name": "stdout",
     "output_type": "stream",
     "text": [
      "asdggas#\n",
      "asdgga##\n",
      "asdgg###\n",
      "asdg####\n",
      "asd#####\n",
      "as######\n",
      "a#######\n",
      "########\n"
     ]
    }
   ],
   "source": [
    "data = input('입력: ')\n",
    "for i in range(len(data)):\n",
    "    print(data[0:len(data)-(i+1)]+'#'*(i+1))"
   ]
  },
  {
   "cell_type": "markdown",
   "id": "bb3315cf-5a33-4135-9266-797fa23af70e",
   "metadata": {},
   "source": [
    "# [문제] 소문자 변환\n",
    "<pre>\n",
    "    사용자로부터 임의의 문자열을 입력 받아 해당 문자열 내 모든 소문자를 \"#\"으로 변환하여 출력하는 코드를 작성하세요.\n",
    "    (실행예시)\n",
    "    입력 : abCDeFg\n",
    "    출력 : ##CD#F#\n",
    "    Hint : 문자열의 소문자 여부 판단 함수 사용, islower()\n",
    "</pre>"
   ]
  },
  {
   "cell_type": "code",
   "execution_count": 55,
   "id": "219a8c70-85c8-4b30-9aea-00bb6634c4c7",
   "metadata": {
    "scrolled": true
   },
   "outputs": [
    {
     "name": "stdin",
     "output_type": "stream",
     "text": [
      "입력:  adfeEDF\n"
     ]
    },
    {
     "name": "stdout",
     "output_type": "stream",
     "text": [
      "출력: ####EDF\n"
     ]
    }
   ],
   "source": [
    "data = input('입력: ')\n",
    "result =''\n",
    "\n",
    "for s in data:\n",
    "    if s.islower() :\n",
    "        result += '#'\n",
    "    else : \n",
    "        result += s\n",
    "print('출력:', result)"
   ]
  },
  {
   "cell_type": "code",
   "execution_count": 59,
   "id": "b03e2676-15d8-4733-8b73-3e42f45eceb7",
   "metadata": {},
   "outputs": [
    {
     "name": "stdin",
     "output_type": "stream",
     "text": [
      "입력:  asdfdEDF\n"
     ]
    },
    {
     "name": "stdout",
     "output_type": "stream",
     "text": [
      "출력 :  #####EDF\n"
     ]
    }
   ],
   "source": [
    "data = input('입력: ')\n",
    "result = ['#' if s.islower() else s for s in data]\n",
    "print('출력 : ',''.join(result))"
   ]
  },
  {
   "cell_type": "markdown",
   "id": "31a775cc-2869-455e-b802-928b23b55eb2",
   "metadata": {},
   "source": [
    "# [문제] 문자열 검색\n",
    "사용자로부터 입력 받을 문자열의 개수를 입력 받고, 검색할 단어를 입력받은 후, 앞서 입력 받은 숫자만큼 문자열을 입력 받는다.\n",
    "이후 해당 문자열에서 검색어를 포함하는 문자열을 출력하되, 검색어가 존재하지 않을 경우 '검색결과 없음'을 출력하는 코드를 작성하세요.\n",
    "(실행예시)\n",
    "입력할 단어 개수: 3\n",
    "검색할 단어: ab\n",
    "\n",
    "단어입력 1: abba\n",
    "단어입력 2: oppa\n",
    "단어입력 3: BCabD\n",
    "검색결과:\n",
    "abba\n",
    "BCabD"
   ]
  },
  {
   "cell_type": "code",
   "execution_count": null,
   "id": "c3058c7c-846b-4cec-9f03-59b27c9211d0",
   "metadata": {
    "scrolled": true
   },
   "outputs": [],
   "source": [
    "count_word = int(input('입력할 단어 개수: '))\n",
    "word = input('검색할 단어: ')\n",
    "\n",
    "for s in range(count_word):\n",
    "    w = input(f'단어 입력 {s+1}: ')\n",
    "    \n",
    "if word in w:\n",
    "    print(f'검색결과: {w}')\n",
    "else :\n",
    "    print('검색결과 없음')"
   ]
  },
  {
   "cell_type": "code",
   "execution_count": 12,
   "id": "6854a823-9a74-4f5d-931b-cdbd4fe339dd",
   "metadata": {},
   "outputs": [
    {
     "name": "stdin",
     "output_type": "stream",
     "text": [
      "입력할 단어 개수:  3\n",
      "검색할 단어:  ab\n",
      "단어 입력 1:  abba\n",
      "단어 입력 2:  opopa\n",
      "단어 입력 3:  abbb\n"
     ]
    },
    {
     "name": "stdout",
     "output_type": "stream",
     "text": [
      "검색결과 없음\n"
     ]
    }
   ],
   "source": [
    "count_word = int(input('입력할 단어 개수: '))\n",
    "word = input('검색할 단어: ')\n",
    "\n",
    "word_list = []\n",
    "\n",
    "for s in range(count_word):\n",
    "    word_list.append(input(f'단어 입력 {s+1}: '))\n",
    "\n",
    "if word in word_list:\n",
    "    print(f'검색결과: {word_list}')\n",
    "else :\n",
    "    print('검색결과 없음')"
   ]
  }
 ],
 "metadata": {
  "kernelspec": {
   "display_name": "Python 3 (ipykernel)",
   "language": "python",
   "name": "python3"
  },
  "language_info": {
   "codemirror_mode": {
    "name": "ipython",
    "version": 3
   },
   "file_extension": ".py",
   "mimetype": "text/x-python",
   "name": "python",
   "nbconvert_exporter": "python",
   "pygments_lexer": "ipython3",
   "version": "3.11.7"
  }
 },
 "nbformat": 4,
 "nbformat_minor": 5
}
