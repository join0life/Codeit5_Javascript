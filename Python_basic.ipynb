{
 "cells": [
  {
   "cell_type": "markdown",
   "id": "d7945546-4b2b-4857-8c8e-b5d6b7702918",
   "metadata": {},
   "source": [
    "# 주석문"
   ]
  },
  {
   "cell_type": "markdown",
   "id": "38b03a51-6bb1-4f31-aadf-7706d489ef3e",
   "metadata": {},
   "source": [
    "- **주석**은 코드의 실행과 무관한 문장을 기록하기 위한 기능이다"
   ]
  },
  {
   "cell_type": "code",
   "execution_count": 3,
   "id": "e44303df-4db8-4656-b4ee-f40449b20024",
   "metadata": {},
   "outputs": [
    {
     "name": "stdout",
     "output_type": "stream",
     "text": [
      "10\n"
     ]
    }
   ],
   "source": [
    "#  변수 선언\n",
    "a = 10\n",
    "print(a)"
   ]
  },
  {
   "cell_type": "markdown",
   "id": "0ac38235-0e9e-41ea-afb8-2b53387e582f",
   "metadata": {},
   "source": [
    "# Mark Down 실습"
   ]
  },
  {
   "cell_type": "markdown",
   "id": "18f73a2f-4783-40ae-8553-e0ea683b0b0d",
   "metadata": {},
   "source": [
    "## 블록 인용문"
   ]
  },
  {
   "cell_type": "markdown",
   "id": "3fb82ba8-1c16-4f30-9f18-775f59164d72",
   "metadata": {},
   "source": [
    "- 블록 인용문 실습\n",
    "> 첫 번째 블록 인용문\n",
    "> > 두 번째 블록 인용문"
   ]
  },
  {
   "cell_type": "markdown",
   "id": "e9b33517-7de5-4491-b3eb-8f2c48dad244",
   "metadata": {},
   "source": [
    "## 순서 있는 목록\n",
    "- 숫자와 마침표 사용"
   ]
  },
  {
   "cell_type": "markdown",
   "id": "f54c8a39-1d36-4386-b760-22bd5707aca1",
   "metadata": {},
   "source": [
    "1. 첫 번째 목록\n",
    "2. 두 번째 목록"
   ]
  },
  {
   "cell_type": "markdown",
   "id": "0298ecb7-7db0-4983-ba37-605424d03f6f",
   "metadata": {},
   "source": [
    "## 줄바꿈\n",
    "- \\<br\\> 태그 또는 공백 두 칸 다음에 엔터"
   ]
  },
  {
   "cell_type": "markdown",
   "id": "cda2910e-0c2b-4785-92bf-798ed77ae92e",
   "metadata": {},
   "source": [
    "문장 1<br>문장 2\n",
    "문장 3  \n",
    "문장 4"
   ]
  },
  {
   "cell_type": "markdown",
   "id": "ed9f7112-8645-4f73-a792-8d9df94c15fb",
   "metadata": {},
   "source": [
    "## 기울여 쓰기\n",
    "- '*', '_' 로 감싼 텍스트 "
   ]
  },
  {
   "cell_type": "markdown",
   "id": "ab68040b-c335-4e8f-83f4-c9b2466ed9c5",
   "metadata": {},
   "source": [
    "- 문장 *기울여* 쓰기"
   ]
  },
  {
   "cell_type": "markdown",
   "id": "21ed9ffe-df21-4db6-9a20-4c7af214d57b",
   "metadata": {},
   "source": [
    "## 취소선\n",
    "- '~~'로 감싼 텍스트"
   ]
  },
  {
   "cell_type": "markdown",
   "id": "42be24ee-26a4-413a-90dc-bdb32e51b079",
   "metadata": {},
   "source": [
    "- ~~취소 문장~~"
   ]
  },
  {
   "cell_type": "markdown",
   "id": "f6cceadd-59e8-441f-8360-35b5b9bc20c3",
   "metadata": {},
   "source": [
    "## 글상자\n",
    "- '`'로 감싼 텍스트"
   ]
  },
  {
   "cell_type": "markdown",
   "id": "fbe7c446-6448-4c1b-a281-a8e71c15559d",
   "metadata": {},
   "source": [
    "- `글상자` 테스트"
   ]
  },
  {
   "cell_type": "markdown",
   "id": "6febfe16-6a75-4c5b-a886-4d4c150d78c1",
   "metadata": {},
   "source": [
    "## 링크\n",
    "- 사이트 및 이메일 링크, \\[제목](주소)"
   ]
  },
  {
   "cell_type": "markdown",
   "id": "e4eab84c-77cf-453a-910e-3e6b4d4734ef",
   "metadata": {},
   "source": [
    "[네이버](http://www.naver.com)"
   ]
  },
  {
   "cell_type": "markdown",
   "id": "14226114-b771-4107-8ed4-285949d1e5ad",
   "metadata": {},
   "source": [
    "## 내부 링크\n",
    "- 내부 헤더로 이동하는 링크\n",
    "- \\[제목](#이동할 헤더 제목)\n",
    "- 제목에 띄어쓰기가 있는 경우 '-'로 연결"
   ]
  },
  {
   "cell_type": "markdown",
   "id": "e1363a53-cebd-4804-8f4d-47276ec9036c",
   "metadata": {},
   "source": [
    "[마크다운 실습](#Mark-Down-실습)  \n",
    "[제어문](#제어문)"
   ]
  },
  {
   "cell_type": "markdown",
   "id": "8d7c31d1-c08c-4b4c-821e-548a89748f59",
   "metadata": {},
   "source": [
    "## 이미지 삽입\n",
    "- \\![제목](파일 이름(또는 웹 주소))"
   ]
  },
  {
   "cell_type": "markdown",
   "id": "1203604b-9a97-4ea2-a863-77b4a1815109",
   "metadata": {},
   "source": [
    "![파이썬 로고](python.jpg)"
   ]
  },
  {
   "cell_type": "markdown",
   "id": "da2f2b46-ac50-4685-95e7-682d944d15a8",
   "metadata": {},
   "source": [
    "<img src='python.jpg' width='100px' height='120px'>"
   ]
  },
  {
   "cell_type": "markdown",
   "id": "38ba2d0d-7d48-42ba-9e34-e67d4269188b",
   "metadata": {},
   "source": [
    "## 코드 삽입\n",
    "- \\```코드이름``` 사이에 코드 블록 삽입\n",
    "- 코드이름: python, html, javascript, java..."
   ]
  },
  {
   "cell_type": "markdown",
   "id": "ecd04549-5962-4a09-bda4-05fd9c56971a",
   "metadata": {},
   "source": [
    "- 파이썬 코드 삽입\n",
    "- ```python\n",
    "  import time\n",
    "  print('hello')\n",
    "  ```"
   ]
  },
  {
   "cell_type": "markdown",
   "id": "0f402295-0ad4-4866-822f-0b1bad2579a9",
   "metadata": {},
   "source": [
    "## 표\n",
    "- 헤더 셀을 구분할 때 3개 이상의 --- 기호 사용\n",
    "- 콜론(:)으로 정렬 방식을 지정"
   ]
  },
  {
   "cell_type": "markdown",
   "id": "2909b79e-2f1f-471a-b61c-424a31132e8a",
   "metadata": {},
   "source": [
    "|Type-A|Predict|Type-B|\n",
    "|---:|:---:|---|\n",
    "|kind|Positive|Negative|\n",
    "|Positive|10|20|\n",
    "|Negative|10|20|"
   ]
  },
  {
   "cell_type": "markdown",
   "id": "c8b0ea21-1f81-4d1b-a8b1-3b1eb9cb594b",
   "metadata": {},
   "source": [
    "# 연산자와 데이터"
   ]
  },
  {
   "cell_type": "code",
   "execution_count": 16,
   "id": "aa3acc20-aa19-4d14-b7e9-d0afc8944ef2",
   "metadata": {},
   "outputs": [
    {
     "name": "stdout",
     "output_type": "stream",
     "text": [
      "45\n",
      "-25\n",
      "350\n",
      "0.2857142857142857\n",
      "0\n",
      "3\n"
     ]
    }
   ],
   "source": [
    "# 산술 연산자\n",
    "\n",
    "a = 10\n",
    "b = 35\n",
    "\n",
    "print(a+b)\n",
    "print(a-b)\n",
    "print(a*b)\n",
    "print(a/b)\n",
    "print(a//b)\n",
    "print(b//a)"
   ]
  },
  {
   "cell_type": "code",
   "execution_count": 21,
   "id": "d3a1d43d-724f-4072-b90b-1ba48eca590e",
   "metadata": {},
   "outputs": [
    {
     "name": "stdout",
     "output_type": "stream",
     "text": [
      "사과10\n"
     ]
    }
   ],
   "source": [
    "# + 연산자 오버로딩: 문자 결합. 단! 숫자와 문자열의 결합은 불가\n",
    "c = '사과'\n",
    "d = 10\n",
    "print(c+str(d)) # d변수의 데이터 타입을 문자열로 변환"
   ]
  },
  {
   "cell_type": "code",
   "execution_count": 22,
   "id": "15d28e5a-3aeb-444c-9777-5ae24ea63bc0",
   "metadata": {},
   "outputs": [
    {
     "name": "stdout",
     "output_type": "stream",
     "text": [
      "하하하하하\n"
     ]
    }
   ],
   "source": [
    "# * 연산자 오버로딩: 문자열 반복\n",
    "e = '하'\n",
    "print(e*5)"
   ]
  },
  {
   "cell_type": "code",
   "execution_count": 23,
   "id": "6d6edaed-cafc-4802-aad4-715dac8aa471",
   "metadata": {},
   "outputs": [
    {
     "name": "stdout",
     "output_type": "stream",
     "text": [
      "1.5\n"
     ]
    }
   ],
   "source": [
    "# 나머지 연산자(mod): %\n",
    "f = 25.5\n",
    "g = 3\n",
    "print(f % g)"
   ]
  },
  {
   "cell_type": "code",
   "execution_count": 24,
   "id": "24dc782a-a2b5-4b9a-93e7-4cfe1bd47710",
   "metadata": {},
   "outputs": [
    {
     "name": "stdout",
     "output_type": "stream",
     "text": [
      "9\n"
     ]
    }
   ],
   "source": [
    "# 거듭제곱 연산자: **\n",
    "print(g**2)"
   ]
  },
  {
   "cell_type": "code",
   "execution_count": 27,
   "id": "8ee9d69e-075b-46a0-9827-c3e7b12f0f42",
   "metadata": {},
   "outputs": [
    {
     "name": "stdout",
     "output_type": "stream",
     "text": [
      "0\n",
      "1\n"
     ]
    }
   ],
   "source": [
    "# 논리 연산자\n",
    "\n",
    "x = 1 #True\n",
    "y = 0 #False\n",
    "print(x and y)\n",
    "print(x or y)"
   ]
  },
  {
   "cell_type": "code",
   "execution_count": 17,
   "id": "09695bf7-2c30-491e-acd4-0626e4eb6390",
   "metadata": {},
   "outputs": [
    {
     "name": "stdout",
     "output_type": "stream",
     "text": [
      "10 20\n",
      "10,20\n",
      "10\n",
      "10 20\n"
     ]
    }
   ],
   "source": [
    "a=10\n",
    "b=20\n",
    "print(a, b)\n",
    "print(a,b, sep=',') # sep 파라미터: 하나의 프린트 함수에 여러 값을 출력할 때 사용할 구분 문자열\n",
    "print(a)\n",
    "print(a, end=' ') # end 파라미터: 값을 출력 후 끝에 출력할 문자열, 기본 값은 '\\n' (new line)이다.\n",
    "print(b)"
   ]
  },
  {
   "cell_type": "markdown",
   "id": "5d055579-7112-4ad5-a4f9-77837139e884",
   "metadata": {},
   "source": [
    "[문제] A 회사의 주가가 56,000원이고 B 회사의 주가가 125,000원이라고 할 때, 어떤 사람이 A 주식 100주와 B 주식 35주를 가지고 있다면 그 사람이 가지고 있는 주식의 총액을 계산하는 코드를 변수 선언 및 연산자를 사용하여 작성하시오."
   ]
  },
  {
   "cell_type": "code",
   "execution_count": 45,
   "id": "0114363b-47cd-44c8-866d-3aba8b52e2f7",
   "metadata": {},
   "outputs": [
    {
     "name": "stdout",
     "output_type": "stream",
     "text": [
      "총 주식액 :  9975000\n",
      "총 주식액 :  9,975,000\n"
     ]
    }
   ],
   "source": [
    "A = 56000\n",
    "B = 125000\n",
    "total_money = (A * 100) + ( B * 35)\n",
    "print('총 주식액 : ', total_money)\n",
    "print(f'총 주식액 :  {total_money:,}') # formated string 형식을 지정한 문자열 "
   ]
  },
  {
   "cell_type": "markdown",
   "id": "09c38cfd-6102-4551-b5b0-ad854e4b001d",
   "metadata": {},
   "source": [
    "[문제] 화씨 온도(F)를 섭씨 온도(C)로 변환하는 다음 공식을 이용하여 화씨 온도가 50일 때 섭씨 온도를 계산하시오.\n",
    "- C = (F - 32) / 1.8"
   ]
  },
  {
   "cell_type": "code",
   "execution_count": 48,
   "id": "6ac065a9-c981-4153-919d-798cd7e9a82c",
   "metadata": {},
   "outputs": [
    {
     "name": "stdout",
     "output_type": "stream",
     "text": [
      "화씨 온도가 50일 때 섭씨 온도는 10.0이다.\n"
     ]
    }
   ],
   "source": [
    "F = 50\n",
    "C = (F -32) / 1.8\n",
    "\n",
    "print(f'화씨 온도가 {F}일 때 섭씨 온도는 {C}이다.')"
   ]
  },
  {
   "cell_type": "markdown",
   "id": "93e6ca93-803c-4547-91be-d75ce5394f34",
   "metadata": {},
   "source": [
    "# 표준 입출력"
   ]
  },
  {
   "cell_type": "code",
   "execution_count": 51,
   "id": "fff9123d-1101-44d2-9fba-594edf0a7d29",
   "metadata": {},
   "outputs": [
    {
     "name": "stdin",
     "output_type": "stream",
     "text": [
      "밑변의 길이 입력 :  10\n",
      "높이의 길이 입력 :  30\n"
     ]
    },
    {
     "name": "stdout",
     "output_type": "stream",
     "text": [
      "밑변의 길이가 10 이고 높이가 30 인 사각형의 넓이: 300\n",
      "밑변의 길이가 10이고 높이가 30인 사각형의 넓이: 300\n"
     ]
    }
   ],
   "source": [
    "a = int(input('밑변의 길이 입력 : '))\n",
    "b = int(input('높이의 길이 입력 : '))\n",
    "print('밑변의 길이가',a,'이고 높이가',b,'인 사각형의 넓이:',a*b)\n",
    "print(f'밑변의 길이가 {a}이고 높이가 {b}인 사각형의 넓이: {a*b}')"
   ]
  },
  {
   "cell_type": "markdown",
   "id": "e9bd71e8-3f6a-4f43-af7f-53a16c683c79",
   "metadata": {},
   "source": [
    "# 제어문"
   ]
  },
  {
   "cell_type": "code",
   "execution_count": 55,
   "id": "572db498-1284-430f-a870-53f63875eb5b",
   "metadata": {},
   "outputs": [
    {
     "name": "stdin",
     "output_type": "stream",
     "text": [
      "점수 입력:  99.8\n"
     ]
    },
    {
     "name": "stdout",
     "output_type": "stream",
     "text": [
      "합격\n"
     ]
    }
   ],
   "source": [
    "score = float(input('점수 입력: '))\n",
    "\n",
    "if score >= 90:\n",
    "    print('합격')\n",
    "elif 70 <= score < 90:\n",
    "    print('재시험')\n",
    "else:\n",
    "    print('탈락')"
   ]
  },
  {
   "cell_type": "code",
   "execution_count": 60,
   "id": "414a78bd-5680-4eee-9b57-7d35b17ecc7a",
   "metadata": {},
   "outputs": [
    {
     "name": "stdout",
     "output_type": "stream",
     "text": [
      "문자열이 비어있지 않습니다.\n"
     ]
    }
   ],
   "source": [
    "notEmptyString = 'test' \n",
    "\n",
    "if notEmptyString:\n",
    "    print('문자열이 비어있지 않습니다.')\n",
    "else:\n",
    "    print('문자열이 비어있습니다.') #문자열이 차있어서 true로 인식, 비어있으면 false로 인식"
   ]
  },
  {
   "cell_type": "code",
   "execution_count": 62,
   "id": "e06ec893-0a75-48dd-82ad-6ee47e8e5fa7",
   "metadata": {},
   "outputs": [
    {
     "name": "stdout",
     "output_type": "stream",
     "text": [
      "짝수\n"
     ]
    }
   ],
   "source": [
    "i = 20\n",
    "\n",
    "if not i % 2 :# 0은 false로 인식되기 때문에 앞에 not을 붙이면 true\n",
    "    print('짝수')\n",
    "else:\n",
    "    print('홀수')"
   ]
  },
  {
   "cell_type": "markdown",
   "id": "1272507a-0fa9-4c21-b309-1cbd771fc323",
   "metadata": {},
   "source": [
    "[문제] 정수 하나를 입력받아 5의 배수인지를 조사하여 그 결과를 출력하시오."
   ]
  },
  {
   "cell_type": "code",
   "execution_count": 65,
   "id": "5d00c0c0-ea15-4c30-9c96-323a8c126a47",
   "metadata": {},
   "outputs": [
    {
     "name": "stdin",
     "output_type": "stream",
     "text": [
      "정수 입력:  52\n"
     ]
    },
    {
     "name": "stdout",
     "output_type": "stream",
     "text": [
      "5의 배수가 아님\n"
     ]
    }
   ],
   "source": [
    "num = int(input('정수 입력: '))\n",
    "\n",
    "if num % 5 == 0:\n",
    "    print('5의 배수.')\n",
    "else:\n",
    "    print('5의 배수가 아님')"
   ]
  },
  {
   "cell_type": "markdown",
   "id": "a62c4175-cbe9-44b8-b9e2-82677d66e876",
   "metadata": {},
   "source": [
    "[문제] 화폐 단위 계산\n",
    "사용자로부터 금액을 입력 받아 화폐의 단위별 개수를 출력하는 프로그램을 작성하시오.\n",
    "조건) 화폐의 종류: 만원0000, 천원000, 백원00, 십원0 (일원 단위는 절사)\n",
    "<실행 예>\n",
    "금액을 입력하세요: 45630\n",
    "만원: 4개\n",
    "천원: 5개\n",
    "백원: 6개\n",
    "십원: 3개"
   ]
  },
  {
   "cell_type": "code",
   "execution_count": 71,
   "id": "4be6b7f8-f44f-4aae-8fd4-17846160f63f",
   "metadata": {},
   "outputs": [
    {
     "name": "stdin",
     "output_type": "stream",
     "text": [
      "금액을 입력하세요:  45630\n"
     ]
    },
    {
     "name": "stdout",
     "output_type": "stream",
     "text": [
      "만원: 4개 천원: 5개 백원: 6개 십원: 3개\n"
     ]
    }
   ],
   "source": [
    "# 내가 짠 코드\n",
    "money = int(input('금액을 입력하세요: '))\n",
    "\n",
    "m = money//10000\n",
    "c = (money%10000)//1000\n",
    "b = ((money%10000)%1000)//100\n",
    "s = (((money%10000)%1000)%100)//10\n",
    "\n",
    "print(f'만원: {m}개 천원: {c}개 백원: {b}개 십원: {s}개')"
   ]
  },
  {
   "cell_type": "code",
   "execution_count": 73,
   "id": "1137abb9-3a34-41db-8220-894e4643a41c",
   "metadata": {
    "scrolled": true
   },
   "outputs": [
    {
     "name": "stdin",
     "output_type": "stream",
     "text": [
      "금액을 입력하세요:  45630\n"
     ]
    },
    {
     "name": "stdout",
     "output_type": "stream",
     "text": [
      "만원:4개\n",
      "천원:5개\n",
      "백원:6개\n",
      "십원:3개\n"
     ]
    }
   ],
   "source": [
    "# 선생님 코드\n",
    "money = int(input('금액을 입력하세요: '))\n",
    "만원 = money // 10000\n",
    "천원 = (money % 10000)//1000 #(money-만원*10000)//1000\n",
    "백원 = (money%1000)//100 \n",
    "십원 = (money % 100) // 10\n",
    "\n",
    "print(f'만원:{만원}개')\n",
    "print(f'천원:{천원}개')\n",
    "print(f'백원:{백원}개')\n",
    "print(f'십원:{십원}개')"
   ]
  },
  {
   "cell_type": "markdown",
   "id": "5c795cfa-d691-4c0e-ae59-df3ce5ab64e3",
   "metadata": {},
   "source": [
    "## 삼항 연산자\n",
    "- 결과값 변수 = \\[참인 경우 선택될 값\\] if \\[조건식\\] else \\[거짓인 경우 선택될 값\\]"
   ]
  },
  {
   "cell_type": "code",
   "execution_count": 75,
   "id": "d40ba201-2ec1-48da-b0e9-212043bddcc6",
   "metadata": {},
   "outputs": [
    {
     "name": "stdout",
     "output_type": "stream",
     "text": [
      "a와 b는 같지 않다\n"
     ]
    }
   ],
   "source": [
    "a = 10\n",
    "b = 20\n",
    "result = 'a와 b는 같지 않다' if a != b else 'a와 b는 같다'\n",
    "print(result)"
   ]
  },
  {
   "cell_type": "markdown",
   "id": "74636356-c9ce-4e88-997f-364a5cca8924",
   "metadata": {},
   "source": [
    "[문제] 대도시 판단 여부\n",
    "[판단 조건]\n",
    "수도이면서 인구가 100만 이상인 도시\n",
    "또는, 부자가 200만 이상인 도시 \n",
    "\n",
    "[실행예시]\n",
    "수도입니까? (수도:1, 수도아님:0) 1\n",
    "인구(단위:만) 150\n",
    "부자의 수(단위:만) 50\n",
    "대도시 여부: True\n",
    "\n",
    "수도입니까? (수도:1, 수도아님:0) 0\n",
    "인구(단위:만) 90\n",
    "부자의 수(단위:만) 210\n",
    "대도시 여부: True\n",
    "\n",
    "** 처리조건: 삼항 연산자 이용"
   ]
  },
  {
   "cell_type": "code",
   "execution_count": 83,
   "id": "90a62f00-c6a3-4e67-896d-e99dd647e086",
   "metadata": {},
   "outputs": [
    {
     "name": "stdin",
     "output_type": "stream",
     "text": [
      "수도입니까? (수도:1, 수도아님:0):  1\n",
      "인구(단위:만):  300\n",
      "부자의 수(단위:만):  20\n"
     ]
    },
    {
     "name": "stdout",
     "output_type": "stream",
     "text": [
      "대도시 여부: True\n"
     ]
    }
   ],
   "source": [
    "# 내가 짠 코드\n",
    "capital = int(input('수도입니까? (수도:1, 수도아님:0): '))\n",
    "population = int(input('인구(단위:만): '))\n",
    "rich = int(input('부자의 수(단위:만): '))\n",
    "\n",
    "result = '대도시 여부: True' if capital == 1 and population >=100 or rich >=200 else '대도시 여부: False'\n",
    "print(result)"
   ]
  },
  {
   "cell_type": "code",
   "execution_count": 81,
   "id": "4163beed-bc49-4524-826f-9fc6196524fd",
   "metadata": {},
   "outputs": [
    {
     "name": "stdin",
     "output_type": "stream",
     "text": [
      "수도입니까? (수도:1, 수도아님:0)  0\n",
      "인구(단위:만)  20\n",
      "부자의 수(단위:만)  30\n"
     ]
    },
    {
     "name": "stdout",
     "output_type": "stream",
     "text": [
      "대도시 여부:  False\n"
     ]
    }
   ],
   "source": [
    "# 선생님 코드\n",
    "isCapital = input('수도입니까? (수도:1, 수도아님:0) ')\n",
    "citizens = int(input('인구(단위:만) '))\n",
    "riches = int(input('부자의 수(단위:만) '))\n",
    "\n",
    "result = True if (isCapital == '1' and citizens >= 100) or riches >= 200 else False\n",
    "print('대도시 여부: ',result)"
   ]
  },
  {
   "cell_type": "markdown",
   "id": "31aec6f9-a305-43ae-b0db-63c0a4f3fe0c",
   "metadata": {},
   "source": [
    "[문제] 시간제 임금 계산\n",
    "근무한 시간을 입력 받아 다음과 같은 규칙에 맞게 임금을 계산하시오.\n",
    "- 8시간까지는 시간당 9,900원이고, 8시간 초과분에 대해서는 1.5배를 지급한다.\n",
    "\n",
    "[실행예시]\n",
    "근무시간을 입력하세요: 25\n",
    "임금은 331,650원 입니다."
   ]
  },
  {
   "cell_type": "code",
   "execution_count": 91,
   "id": "78f24939-c0f1-4d81-b707-aa4117deb5ef",
   "metadata": {},
   "outputs": [
    {
     "name": "stdin",
     "output_type": "stream",
     "text": [
      "근무시간을 입력하세요:  25\n"
     ]
    },
    {
     "name": "stdout",
     "output_type": "stream",
     "text": [
      "임금은 331,650.0원 입니다.\n"
     ]
    }
   ],
   "source": [
    "# 내 코드\n",
    "t = int(input('근무시간을 입력하세요: '))\n",
    "\n",
    "if t - 8 <= 0:\n",
    "    result = t*9900\n",
    "elif t - 8 > 0:\n",
    "    result = (9900*8) + ((t - 8)*9900*1.5)\n",
    "\n",
    "\n",
    "print(f'임금은 {result:,}원 입니다.')"
   ]
  },
  {
   "cell_type": "code",
   "execution_count": 97,
   "id": "07ea43d6-2714-41ea-9187-dcab2c05aefd",
   "metadata": {},
   "outputs": [
    {
     "name": "stdin",
     "output_type": "stream",
     "text": [
      "근무시간을 입력하세요:  25\n"
     ]
    },
    {
     "name": "stdout",
     "output_type": "stream",
     "text": [
      "임금은 331,650원 입니다.\n"
     ]
    }
   ],
   "source": [
    "base_pay = 9900\n",
    "hour = int(input('근무시간을 입력하세요: '))\n",
    "pay = 0 #최종 임금을 저장할 변수\n",
    "\n",
    "if hour > 8:\n",
    "    pay = 8 * base_pay + (hour - 8)*base_pay*1.5\n",
    "else:\n",
    "    pay = hour * base_pay\n",
    "\n",
    "print(f'임금은 {pay:,.0f}원 입니다.') #.2f 소수점 이하 두자리까지 출력"
   ]
  },
  {
   "cell_type": "code",
   "execution_count": 1,
   "id": "095e4899-c806-4ddd-add7-23ec2f49ddbf",
   "metadata": {},
   "outputs": [
    {
     "name": "stdout",
     "output_type": "stream",
     "text": [
      "0 0 0 1 0 2 0 3 0 4 0 5 0 6 0 7 0 8 0 9 1 0 1 1 1 2 1 3 1 4 1 5 1 6 1 7 1 8 1 9 2 0 2 1 2 2 2 3 2 4 2 5 2 6 2 7 2 8 2 9 3 0 3 1 3 2 3 3 3 4 3 5 3 6 3 7 3 8 3 9 4 0 4 1 4 2 4 3 4 4 4 5 4 6 4 7 4 8 4 9 5 0 5 1 5 2 5 3 5 4 5 5 5 6 5 7 5 8 5 9 6 0 6 1 6 2 6 3 6 4 6 5 6 6 6 7 6 8 6 9 7 0 7 1 7 2 7 3 7 4 7 5 7 6 7 7 7 8 7 9 8 0 8 1 8 2 8 3 8 4 8 5 8 6 8 7 8 8 8 9 9 0 9 1 9 2 9 3 9 4 9 5 9 6 9 7 9 8 9 9 "
     ]
    }
   ],
   "source": [
    "for i in range(10):\n",
    "    for j in range(10):\n",
    "        print(i,j,end=' ')"
   ]
  },
  {
   "cell_type": "markdown",
   "id": "c02855e0-ed62-453c-acf9-39073d8aa0d5",
   "metadata": {},
   "source": [
    "# 반복문"
   ]
  },
  {
   "cell_type": "code",
   "execution_count": null,
   "id": "7aa4422d-940e-48bc-a5dd-3f9cfa773d03",
   "metadata": {},
   "outputs": [],
   "source": [
    "c = 1\n",
    "while c <= 5:\n",
    "    print(c, end=' ')\n",
    "    c += 1\n",
    "print('End')"
   ]
  },
  {
   "cell_type": "code",
   "execution_count": null,
   "id": "12169c09-4b7a-4d76-b406-e9dc4f2de933",
   "metadata": {},
   "outputs": [],
   "source": [
    "#1~10 합\n",
    "sum = 0\n",
    "\n",
    "for i in range(1,11):\n",
    "    sum += i # sum = sum + i\n",
    "print(sum)"
   ]
  },
  {
   "cell_type": "code",
   "execution_count": 2,
   "id": "5239848f-8296-4466-b6ce-51d98203cb4a",
   "metadata": {},
   "outputs": [
    {
     "name": "stdin",
     "output_type": "stream",
     "text": [
      "영어 단어를 입력하세요(종료:q)  hello\n"
     ]
    },
    {
     "name": "stdout",
     "output_type": "stream",
     "text": [
      "HELLO\n"
     ]
    },
    {
     "name": "stdin",
     "output_type": "stream",
     "text": [
      "영어 단어를 입력하세요(종료:q)  q\n"
     ]
    },
    {
     "name": "stdout",
     "output_type": "stream",
     "text": [
      "End\n"
     ]
    }
   ],
   "source": [
    "while True : #무한 반복\n",
    "    s = input('영어 단어를 입력하세요(종료:q) ')\n",
    "    if s == 'q' : break\n",
    "    print(s.upper())\n",
    "print('End')"
   ]
  },
  {
   "cell_type": "markdown",
   "id": "a4d9da9f-4133-4cae-aeeb-2272a1023e18",
   "metadata": {},
   "source": [
    "[문제] 1~100 사이의 값 중 짝수에 해당하는 값의 총 합을 구하는 프로그램을 작성하세요."
   ]
  },
  {
   "cell_type": "code",
   "execution_count": 3,
   "id": "122b8cda-e802-4a53-8ca6-3a7c37394e2e",
   "metadata": {},
   "outputs": [
    {
     "name": "stdout",
     "output_type": "stream",
     "text": [
      "2550\n"
     ]
    }
   ],
   "source": [
    "# 내 코드\n",
    "sum = 0\n",
    "\n",
    "for i in range(0,101,2):\n",
    "    sum += i\n",
    "print(sum)"
   ]
  },
  {
   "cell_type": "code",
   "execution_count": 4,
   "id": "edb7e5f9-cc44-4a50-9750-e3a7b5c848ea",
   "metadata": {},
   "outputs": [
    {
     "name": "stdout",
     "output_type": "stream",
     "text": [
      "2550\n"
     ]
    }
   ],
   "source": [
    "# 선생님 코드\n",
    "sum = 0\n",
    "\n",
    "for i in range(1,101):\n",
    "    if i % 2 != 0: continue\n",
    "    sum += i\n",
    "print(sum)"
   ]
  },
  {
   "cell_type": "code",
   "execution_count": 93,
   "id": "aa38e34a-41c8-45a0-9550-08ac05f64487",
   "metadata": {},
   "outputs": [
    {
     "name": "stdout",
     "output_type": "stream",
     "text": [
      "a,b,c,d,e,f\n"
     ]
    }
   ],
   "source": [
    "# 파이썬에서 문자열은 집합형 데이터(리스트)로 관리한다.\n",
    "for s in 'abcdef':\n",
    "    print(s, end=',')\n",
    "print('\\b') #백스페이스"
   ]
  },
  {
   "cell_type": "code",
   "execution_count": 9,
   "id": "3ab9162a-e27a-49b4-8f40-35dfed4ad48e",
   "metadata": {},
   "outputs": [
    {
     "name": "stdout",
     "output_type": "stream",
     "text": [
      "[3, 6, 9, 12]\n"
     ]
    }
   ],
   "source": [
    "a = [1,2,3,4] # a는 list 객체\n",
    "result = []\n",
    "for i in a:\n",
    "    result.append(i*3) #append()는 리스트 객체에 값을 추가하는 함수\n",
    "print(result)"
   ]
  },
  {
   "cell_type": "code",
   "execution_count": 10,
   "id": "2c832345-9ec3-4c97-98a7-79cd9aea2cd9",
   "metadata": {},
   "outputs": [
    {
     "name": "stdout",
     "output_type": "stream",
     "text": [
      "[3, 6, 9, 12]\n"
     ]
    }
   ],
   "source": [
    "# list comprehension\n",
    "result = [i*3 for i in a]\n",
    "print(result)"
   ]
  },
  {
   "cell_type": "code",
   "execution_count": 11,
   "id": "89e83c7e-aeda-4c65-8216-ab3c67de5337",
   "metadata": {},
   "outputs": [
    {
     "name": "stdout",
     "output_type": "stream",
     "text": [
      "[6, 12]\n"
     ]
    }
   ],
   "source": [
    "# list comprehension with if\n",
    "result = [i*3 for i in a if not i%2]\n",
    "print(result)"
   ]
  },
  {
   "cell_type": "code",
   "execution_count": 14,
   "id": "1451521d-29fa-4095-bfee-0e7fdad9d8e6",
   "metadata": {},
   "outputs": [
    {
     "name": "stdout",
     "output_type": "stream",
     "text": [
      "[1, 6, 3, 12]\n"
     ]
    }
   ],
   "source": [
    "# a 원소 중 짝수는 3배수하고 홀수는 원래의 값을 갖는 리스트를 생성\n",
    "result = [i*3 if not i%2 else i for i in a] #삼항 연산자는 표현식 부분에(for의 왼쪽)\n",
    "print(result)"
   ]
  },
  {
   "cell_type": "code",
   "execution_count": null,
   "id": "d834d5ee-11f7-4c47-8d1f-61898e0feec2",
   "metadata": {
    "scrolled": true
   },
   "outputs": [],
   "source": [
    "for i in range(5):\n",
    "    for j in range(5):\n",
    "        print(f'i={i}, j={j}')"
   ]
  },
  {
   "cell_type": "markdown",
   "id": "265e2bab-6d71-4833-8ada-c6a40ee1e904",
   "metadata": {},
   "source": [
    "## for ~ else 문\n",
    "- while ~ else / for ~ else: 반복문이 break 등으로 중간에 빠져나오지 않고 끝까지 실행됐을 경우 else문이 실행된다. "
   ]
  },
  {
   "cell_type": "code",
   "execution_count": 96,
   "id": "a0d602a0-cfb3-457f-9c0f-a42be25fdf30",
   "metadata": {},
   "outputs": [
    {
     "name": "stdin",
     "output_type": "stream",
     "text": [
      "검색 단어를 입력하세요:  java\n"
     ]
    },
    {
     "name": "stdout",
     "output_type": "stream",
     "text": [
      "검색 결과: java\n"
     ]
    }
   ],
   "source": [
    "word_list = ['java','python','c++','pascal']\n",
    "key_word = input('검색 단어를 입력하세요: ')\n",
    "\n",
    "for word in word_list:\n",
    "    if word == key_word:\n",
    "        print('검색 결과:', word)\n",
    "        break\n",
    "else: print('검색 결과가 없습니다.')"
   ]
  },
  {
   "cell_type": "markdown",
   "id": "90b748fe-3a1d-4cd9-a821-1ce0ba50a1d1",
   "metadata": {},
   "source": [
    "[문제] for문과 문자열 반복을 이용하여 다음 문자열을 출력하세요.\n",
    "---------+---------+---------+---------+---------+"
   ]
  },
  {
   "cell_type": "code",
   "execution_count": 15,
   "id": "08d777ca-e0b7-4df6-a39e-ca77de32be0b",
   "metadata": {},
   "outputs": [
    {
     "name": "stdout",
     "output_type": "stream",
     "text": [
      "---------+---------+---------+---------+---------+"
     ]
    }
   ],
   "source": [
    "for i in range(5):\n",
    "    print('-'*9, end = '+')"
   ]
  },
  {
   "cell_type": "code",
   "execution_count": 16,
   "id": "09b48e2c-66b2-4f68-a54b-1b41f875bda9",
   "metadata": {},
   "outputs": [
    {
     "name": "stdout",
     "output_type": "stream",
     "text": [
      "---------+---------+---------+---------+---------+"
     ]
    }
   ],
   "source": [
    "#선생님 코드\n",
    "for i in range(5):\n",
    "    print('-'*9, end = '')\n",
    "    print('+', end = '')"
   ]
  },
  {
   "cell_type": "code",
   "execution_count": 18,
   "id": "cc714b13-521f-4a98-aeff-644f100b0b23",
   "metadata": {},
   "outputs": [
    {
     "name": "stdout",
     "output_type": "stream",
     "text": [
      "---------+---------+---------+---------+---------+"
     ]
    }
   ],
   "source": [
    "for i in range(5):\n",
    "    for j in range(9):\n",
    "        print('-', end = '')\n",
    "    print('+', end ='')"
   ]
  },
  {
   "cell_type": "markdown",
   "id": "c6e50e89-efb9-468a-8f7b-905f5f8478bb",
   "metadata": {},
   "source": [
    "[문제] 사용자로부터 입력받은 단의 구구단을 출력하는 프로그램을 작성하세요.\n",
    "[실행예시]\n",
    "단을 입력하세요: 3\n",
    "3 x 1 = 3\n",
    "3 x 2 = 6\n",
    "    :\n",
    "3 x 9 = 27"
   ]
  },
  {
   "cell_type": "code",
   "execution_count": 26,
   "id": "0f14b500-a7b7-401a-b56b-7e51d37fd208",
   "metadata": {},
   "outputs": [
    {
     "name": "stdin",
     "output_type": "stream",
     "text": [
      "단을 입력하세요:  8\n"
     ]
    },
    {
     "name": "stdout",
     "output_type": "stream",
     "text": [
      "8 x 1 = 8\n",
      "8 x 2 = 16\n",
      "8 x 3 = 24\n",
      "8 x 4 = 32\n",
      "8 x 5 = 40\n",
      "8 x 6 = 48\n",
      "8 x 7 = 56\n",
      "8 x 8 = 64\n",
      "8 x 9 = 72\n"
     ]
    }
   ],
   "source": [
    "num = int(input('단을 입력하세요: '))\n",
    "\n",
    "for i in range(1,10,1):\n",
    "    result = num*i\n",
    "    print(f'{num} x {i} = {result}')"
   ]
  },
  {
   "cell_type": "code",
   "execution_count": null,
   "id": "c7843596-cf5c-488e-b932-5a2ca37b4f95",
   "metadata": {},
   "outputs": [],
   "source": [
    "# 선생님 코드\n",
    "dan = int(input('단을 입력하세요: '))\n",
    "\n",
    "for i in range(1,10):\n",
    "    #print(dan,'x',i,'=',dan*i)\n",
    "    print(f'{dan} x {i} = {dan*i:2d}') #:2d 두자릿수, :02d 두자릿수 채우고 빈자리는 0, :<2d 왼쪽 정렬 두자릿수"
   ]
  },
  {
   "cell_type": "markdown",
   "id": "e1da13fd-509c-4bcb-9e3d-ba1ebc1087aa",
   "metadata": {},
   "source": [
    "[문제] 합계 구하기\n",
    "정수를 입력받아 1부터 입력받은 정수까지의 합을 구하여 출력하는 프로그램을 작성하세요.\n",
    "단, 반복문은 while을 이용할 것"
   ]
  },
  {
   "cell_type": "code",
   "execution_count": 4,
   "id": "2c79c234-91cb-4085-9426-3438296ee027",
   "metadata": {},
   "outputs": [
    {
     "name": "stdin",
     "output_type": "stream",
     "text": [
      "정수 입력:  10\n"
     ]
    },
    {
     "name": "stdout",
     "output_type": "stream",
     "text": [
      "1~10까지의 합 : 55 \n"
     ]
    }
   ],
   "source": [
    "num = int(input('정수 입력: '))\n",
    "sum = 0 # 전체 합계를 저장\n",
    "cnt = 0 # 반복 횟수\n",
    "\n",
    "while True :\n",
    "    cnt += 1\n",
    "    if cnt > num: break \n",
    "    sum += cnt\n",
    "\n",
    "print(f'1~{num}까지의 합 : {sum} ')"
   ]
  },
  {
   "cell_type": "markdown",
   "id": "017f9308-6b28-4e82-9f93-a5055eb55475",
   "metadata": {},
   "source": [
    "[문제] 연도를 입력받아 윤년인지 평년인지를 판단하는 프로그램을 작성하세요.\n",
    "프로그램은 반복적으로 수행되며 0을 입력 받으면 프로그램을 종료한다.\n",
    "윤년조건: 4로 나누어 떨어지고, 100으로 나누어 떨어지지 않는 해, 또는 400으로 나누어 떨어지는 \n",
    "[실행예시]\n",
    "연도를 입력하세요(종료:0) 2023\n",
    "2023년은 평년입니다.\n",
    "연도를 입력하세요(종료:0) 2024\n",
    "2024년은 윤년입니다."
   ]
  },
  {
   "cell_type": "code",
   "execution_count": 25,
   "id": "7e60a130-d39c-4094-a14d-105274e2203a",
   "metadata": {},
   "outputs": [
    {
     "name": "stdin",
     "output_type": "stream",
     "text": [
      "연도를 입력하세요(종료:0)  2023\n"
     ]
    },
    {
     "name": "stdout",
     "output_type": "stream",
     "text": [
      "2023년은 평년입니다.\n"
     ]
    },
    {
     "name": "stdin",
     "output_type": "stream",
     "text": [
      "연도를 입력하세요(종료:0)  3030\n"
     ]
    },
    {
     "name": "stdout",
     "output_type": "stream",
     "text": [
      "3030년은 평년입니다.\n"
     ]
    },
    {
     "name": "stdin",
     "output_type": "stream",
     "text": [
      "연도를 입력하세요(종료:0)  0\n"
     ]
    }
   ],
   "source": [
    "while True :\n",
    "    year = int(input('연도를 입력하세요(종료:0) '))\n",
    "    if year == 0: break\n",
    "    result = '윤년' if (not year % 4 and year % 100) or (not year % 400) else '평년'\n",
    "    print(f'{year}년은 {result}입니다.') # print 안에 삼항 연산자를 넣을 수는 없음"
   ]
  },
  {
   "cell_type": "code",
   "execution_count": 32,
   "id": "7f2a68e1-f56f-4744-afd1-c360e494838b",
   "metadata": {},
   "outputs": [
    {
     "name": "stdin",
     "output_type": "stream",
     "text": [
      "연도를 입력하세요(종료:0)  0\n"
     ]
    },
    {
     "name": "stdout",
     "output_type": "stream",
     "text": [
      "End\n"
     ]
    }
   ],
   "source": [
    "# 선생님 코드\n",
    "while True:\n",
    "    year = int(input('연도를 입력하세요(종료:0) '))\n",
    "    if year == 0: break\n",
    "    result = '윤년' if (year % 4 == 0 and year % 100 != 0) or (year % 400 == 0) else '평년'\n",
    "    print(f'{year}년은(는) {result}입니다.')\n",
    "print('End')"
   ]
  },
  {
   "cell_type": "markdown",
   "id": "70887010-f21a-440c-b796-4f549b91d7d9",
   "metadata": {},
   "source": [
    "[문제] BMI 측정 프로그램\n",
    "키와 몸무게를 입력받아 BMI 측정 결과를 출력하는 프로그램을 작성하세요.\n",
    "[BMI 계산식]\n",
    "BMI = 몸무게(kg) / 키(m)의 제곱\n",
    "** BMI 비만도 판단 결과 지표\n",
    "18.5 미만: 저체중\n",
    "18.5 ~ 22.9: 정상체중\n",
    "23 ~ 29.9: 비만 1단계\n",
    "29.9 초과: 비만 2단계 \n",
    "[실행예시]\n",
    "키를 입력하세요(cm): 170\n",
    "몸무게를 입력하세요(kg): 85\n",
    "당신의 BMI는 비만 1단계 입니다."
   ]
  },
  {
   "cell_type": "code",
   "execution_count": 41,
   "id": "2446b456-9d15-47af-861b-f0fdcb2cbe4a",
   "metadata": {},
   "outputs": [
    {
     "name": "stdin",
     "output_type": "stream",
     "text": [
      "키를 입력하세요(cm):  170\n",
      "몸무게를 입력하세요(kg):  85\n"
     ]
    },
    {
     "name": "stdout",
     "output_type": "stream",
     "text": [
      "당신의 BMI는 비만 1단계 입니다.\n"
     ]
    }
   ],
   "source": [
    "# 내 코드\n",
    "cm = int(input('키를 입력하세요(cm): '))\n",
    "kg = int(input('몸무게를 입력하세요(kg): '))\n",
    "BMI = kg / (cm / 100)**2\n",
    "\n",
    "if BMI < 18.5:\n",
    "    result = '저체중'\n",
    "elif 18.5 <= BMI <= 22.9:\n",
    "    result = '정상체중'\n",
    "elif 23 <= BMI <= 29.9:\n",
    "    result = '비만 1단계'\n",
    "else: result = '비만 2단계'\n",
    "print(f'당신의 BMI는 {result} 입니다.')"
   ]
  },
  {
   "cell_type": "code",
   "execution_count": null,
   "id": "90c6af6f-ac63-4cbc-b52d-b1a7f0377a5f",
   "metadata": {},
   "outputs": [],
   "source": [
    "# 선생님 코드\n",
    "height = int(input('키를 입력하세요(cm): '))\n",
    "weight = int(input('몸무게를 입력하세요(kg): '))\n",
    "BMI = weight / ((height/100)**2)\n",
    "result = '' # 변수는 사용하기 전 항상 null 값으로 선언하는 습관을 들이기 (숫자는 0으로, 문자열은 ''으로)\n",
    "\n",
    "if BMI < 18.5:\n",
    "    result = '저체중'\n",
    "elif 18.5 <= BMI < 23:\n",
    "    result = '정상체중'\n",
    "elif 23 <= BMI < 30:\n",
    "    result = '비만 1단계'\n",
    "elif BMI >= 30:\n",
    "    result = '비만 2단계'\n",
    "print(f'당신의 BMI는 {result}입니다.')"
   ]
  },
  {
   "cell_type": "code",
   "execution_count": null,
   "id": "dcef3a9e-4ed5-4fb7-b097-bb59818d77f0",
   "metadata": {},
   "outputs": [],
   "source": []
  },
  {
   "cell_type": "markdown",
   "id": "ed249fa7-e7be-4990-b3ab-2fbd748723d8",
   "metadata": {},
   "source": [
    "# 문자열 처리"
   ]
  },
  {
   "cell_type": "code",
   "execution_count": 47,
   "id": "9bb852ea-8723-451b-913e-05e1091e508e",
   "metadata": {
    "scrolled": true
   },
   "outputs": [
    {
     "name": "stdout",
     "output_type": "stream",
     "text": [
      "학\n",
      "땡\n",
      "학\n",
      "교\n",
      " \n",
      "종\n",
      "이\n",
      " \n",
      "땡\n",
      "땡\n",
      "땡\n"
     ]
    }
   ],
   "source": [
    "mystr = '학교 종이 땡땡땡'\n",
    "print(mystr[0])\n",
    "print(mystr[-1])\n",
    "# mystr[1] = '원' : 이렇게 하면 안됨\n",
    "for s in mystr:\n",
    "    print(s)"
   ]
  },
  {
   "cell_type": "code",
   "execution_count": 48,
   "id": "17331f2e-8b7f-42c4-a10a-98152d5b1356",
   "metadata": {},
   "outputs": [
    {
     "name": "stdout",
     "output_type": "stream",
     "text": [
      "동해물과 백두산이 마르고 닳도록\n",
      "하느님이 보우하사 우리나라 만세\n",
      "무궁화 삼천리 화려 강산\n",
      "대한사람 대한으로 길이 보전하세\n"
     ]
    }
   ],
   "source": [
    "mystr = '''동해물과 백두산이 마르고 닳도록\n",
    "하느님이 보우하사 우리나라 만세\n",
    "무궁화 삼천리 화려 강산\n",
    "대한사람 대한으로 길이 보전하세'''\n",
    "print(mystr)"
   ]
  },
  {
   "cell_type": "code",
   "execution_count": 51,
   "id": "edf0086e-0046-4457-be88-caa76443c88f",
   "metadata": {},
   "outputs": [
    {
     "name": "stdout",
     "output_type": "stream",
     "text": [
      "나는 \"안녕하세요\"라고 인사합니다.\n",
      "나는 \"안녕하세요\"라고 인사합니다.\n",
      "철수\t영희\n"
     ]
    }
   ],
   "source": [
    "hello = '나는 \"안녕하세요\"라고 인사합니다.'\n",
    "print(hello)\n",
    "hello2 = \"나는 \\\"안녕하세요\\\"라고 인사합니다.\"\n",
    "print(hello2)\n",
    "print(\"철수\\t영희\")"
   ]
  },
  {
   "cell_type": "markdown",
   "id": "d43e3a5a-d1a1-4ccb-98da-dce5376ba2f1",
   "metadata": {},
   "source": [
    "[문제] 파일이름 슬라이싱\n",
    "- 파일이름: \"20240315-163750.jpg\"\n",
    "[출력결과]\n",
    "촬영 날짜 : 2024년 03월 15일\n",
    "촬영 시간 : 16시 37분\n",
    "확장자 : jpg #음수 인덱스 사용"
   ]
  },
  {
   "cell_type": "code",
   "execution_count": 4,
   "id": "a3a4b8a5-b555-4f17-b4b0-fba888d87d52",
   "metadata": {},
   "outputs": [
    {
     "name": "stdout",
     "output_type": "stream",
     "text": [
      "촬영 날짜 : 2024년 03월 15일\n",
      "촬영 시간 : 16시 37분\n",
      "확장자 : jpg\n",
      ".jpg\n"
     ]
    }
   ],
   "source": [
    "f = \"20240315-163750.jpg\"\n",
    "\n",
    "print(f'촬영 날짜 : {f[0:4]}년 {f[4:6]}월 {f[6:8]}일')\n",
    "print(f'촬영 시간 : {f[9:11]}시 {f[11:13]}분')\n",
    "print(f'확장자 : {f[-3:]}') # f[-3:len(f)]\n",
    "print(f[f.find('.'):]) #print(f'확장자: {f[f.find('.')+1:]}')"
   ]
  },
  {
   "cell_type": "code",
   "execution_count": 74,
   "id": "0e7e4120-a4a3-4d12-8db2-701b93fddd8f",
   "metadata": {},
   "outputs": [
    {
     "name": "stdout",
     "output_type": "stream",
     "text": [
      "olleh\n"
     ]
    }
   ],
   "source": [
    "# 문자열 뒤집기\n",
    "str = 'hello'\n",
    "print(str[::-1])"
   ]
  },
  {
   "cell_type": "markdown",
   "id": "88e4f4dc-fd85-4013-a976-8d688010b757",
   "metadata": {},
   "source": [
    "## 문자열 함수"
   ]
  },
  {
   "cell_type": "code",
   "execution_count": 75,
   "id": "382caeab-0813-4c38-bfab-be149328442a",
   "metadata": {},
   "outputs": [
    {
     "name": "stdout",
     "output_type": "stream",
     "text": [
      "9\n"
     ]
    }
   ],
   "source": [
    "s = '''생각이란 생각할수록 생각나므로\n",
    "생각하지 말아야 할 생각은 생각하지 않으려고 하는 생각이\n",
    "옳은 생각이라고 생각합니다.''' \n",
    "print(s.count('생각'))"
   ]
  },
  {
   "cell_type": "code",
   "execution_count": 77,
   "id": "b4413e3e-711b-442f-a2f3-de3c43e22f49",
   "metadata": {},
   "outputs": [
    {
     "name": "stdout",
     "output_type": "stream",
     "text": [
      "True\n",
      "False\n"
     ]
    }
   ],
   "source": [
    "s = 'Python Programming'\n",
    "print('a' in s) \n",
    "print('z' in s)"
   ]
  },
  {
   "cell_type": "code",
   "execution_count": 79,
   "id": "ed61f0d3-802d-4c20-a3cf-f9bd86dce713",
   "metadata": {},
   "outputs": [
    {
     "name": "stdout",
     "output_type": "stream",
     "text": [
      "['짜장', '짬뽕', '탕수육']\n",
      "['서울', '대전', '대구', '부산']\n"
     ]
    }
   ],
   "source": [
    "s = '짜장 짬뽕 탕수육'\n",
    "print(s.split()) #아무 것도 안넣으면 기본 세팅이 공백\n",
    "\n",
    "s2 = '서울->대전->대구->부산'\n",
    "print(s2.split('->'))"
   ]
  },
  {
   "cell_type": "code",
   "execution_count": 80,
   "id": "ad16017a-31a4-4e1a-91e2-8746a9ecfa1c",
   "metadata": {},
   "outputs": [
    {
     "name": "stdout",
     "output_type": "stream",
     "text": [
      "서울,대전,대구,부산\n"
     ]
    }
   ],
   "source": [
    "city_list = ['서울', '대전', '대구', '부산']\n",
    "city_string = ','.join(city_list)\n",
    "print(city_string)"
   ]
  },
  {
   "cell_type": "code",
   "execution_count": 83,
   "id": "938174e9-2b12-4a9c-a8ea-a8cbf1f584f2",
   "metadata": {},
   "outputs": [
    {
     "name": "stdout",
     "output_type": "stream",
     "text": [
      "대.한.민.국\n"
     ]
    }
   ],
   "source": [
    "s = '대한민국'\n",
    "print('.'.join(s))"
   ]
  },
  {
   "cell_type": "markdown",
   "id": "502eb6b0-8bd7-4b64-95ba-167722ea731a",
   "metadata": {},
   "source": [
    "# 데이터 분석할 때 유용하게 쓰이는 유형\n",
    "[문제] 주민등록번호 분석하기\n",
    "- 임의의 주민등록번호를 입력 받아 다음과 같이 생년과 성별을 추출하는 프로그램을 작성하세요.\n",
    "- 성별 값은 1~4 사이의 값만 유효\n",
    "[실행예시]\n",
    "주민등록번호 : 881234-1234567\n",
    "88년생 남자\n",
    "88년생 성별오류 "
   ]
  },
  {
   "cell_type": "code",
   "execution_count": 2,
   "id": "4454a719-f2b4-454f-bccf-eb75d5a77dd2",
   "metadata": {
    "jupyter": {
     "source_hidden": true
    }
   },
   "outputs": [
    {
     "name": "stdin",
     "output_type": "stream",
     "text": [
      "주민등록번호:  881234-1234567\n"
     ]
    },
    {
     "name": "stdout",
     "output_type": "stream",
     "text": [
      "88년생 남자\n"
     ]
    }
   ],
   "source": [
    "jumin = input('주민등록번호: ')\n",
    "year = jumin[:2]\n",
    "gender = jumin[7]\n",
    "s_gender = ''\n",
    "\n",
    "if gender in ['1', '3']:\n",
    "    s_gender = '남자'\n",
    "elif gender in ['2', '4']:\n",
    "    s_gender = '여자'\n",
    "else: s_gender = '성별오류'\n",
    "print(f'{year}년생 {s_gender}')"
   ]
  },
  {
   "cell_type": "markdown",
   "id": "d508e8ba-83e3-43e3-ad04-a44414aecf4e",
   "metadata": {},
   "source": [
    "## 문자열 대입"
   ]
  },
  {
   "cell_type": "code",
   "execution_count": 9,
   "id": "3b1183c1-8aeb-4dea-b235-e31c921616cc",
   "metadata": {},
   "outputs": [
    {
     "name": "stdout",
     "output_type": "stream",
     "text": [
      "I eat 3 apples\n",
      "I eat five apples\n",
      "I eat 95% apples\n"
     ]
    }
   ],
   "source": [
    "print('I eat %d apples' %3)\n",
    "print('I eat %s apples' %'five')\n",
    "print('I eat %d%% apples' %95)"
   ]
  },
  {
   "cell_type": "code",
   "execution_count": 10,
   "id": "7aed56a9-8ee5-4881-becb-06b0069aed0c",
   "metadata": {},
   "outputs": [
    {
     "name": "stdout",
     "output_type": "stream",
     "text": [
      "8월 15일은 광복절이다.\n"
     ]
    }
   ],
   "source": [
    "month = 8\n",
    "day = 15\n",
    "anni = '광복절'\n",
    "print('%d월 %d일은 %s이다.'%(month, day, anni))"
   ]
  },
  {
   "cell_type": "code",
   "execution_count": 13,
   "id": "9fc7c8f8-680e-46a9-bc91-e94b940881a0",
   "metadata": {},
   "outputs": [
    {
     "name": "stdout",
     "output_type": "stream",
     "text": [
      "나는 사과 4개를 먹고 삼일 동안 아팠다.\n",
      "나는 사과 4개를 먹고 삼일 동안 아팠다.\n",
      "나는 사과 7개를 먹고 3일 동안 아팠다.\n"
     ]
    }
   ],
   "source": [
    "number = 4\n",
    "day = '삼'\n",
    "print('나는 사과 {}개를 먹고 {}일 동안 아팠다.'.format(number, day))\n",
    "print('나는 사과 {1}개를 먹고 {0}일 동안 아팠다.'.format(day, number))\n",
    "print('나는 사과 {number}개를 먹고 {day}일 동안 아팠다.'.format(number = 7, day = 3))"
   ]
  },
  {
   "cell_type": "code",
   "execution_count": 20,
   "id": "ce92afcb-a149-4200-8886-3b0cb218f5a9",
   "metadata": {},
   "outputs": [
    {
     "name": "stdout",
     "output_type": "stream",
     "text": [
      "내 이름은 홍길동  입니다.\n",
      "내 이름은   홍길동입니다.\n",
      "내 이름은 **홍길동입니다.\n"
     ]
    }
   ],
   "source": [
    "print('내 이름은 {:5s}입니다.'.format('홍길동'))\n",
    "print('내 이름은 {:>5s}입니다.'.format('홍길동'))\n",
    "print('내 이름은 {:*>5s}입니다.'.format('홍길동'))"
   ]
  },
  {
   "cell_type": "markdown",
   "id": "6898d823-c349-4411-894b-669f1f089be9",
   "metadata": {},
   "source": [
    "[문제] 단어 수 세기 \n",
    "- 문자열 내 전체 단어가 몇 개인가?\n",
    "- 문자열 내 'like' 단어의 갯수가 몇 개인가?\n",
    "- 문자열 내 가장 많이 포함되어 있는 단어는 무엇인가?\n",
    "> 1. 문자열 끝의 개행('\\n') 문자를 공백 문자로 치환한다.\n",
    "> 2. 문자열을 단어로 나눈다\n",
    "> 3. 모든 단어를 소문자로 수정한다. "
   ]
  },
  {
   "cell_type": "code",
   "execution_count": null,
   "id": "77c50524-3397-41bf-9a33-505687861587",
   "metadata": {},
   "outputs": [],
   "source": [
    "song = song.lower().replace('\\n',' ')\n",
    "\n",
    "\n",
    "song = \"\"\"Hello, it's me \n",
    "I was wondering if after all these years you'd like to meet\n",
    "To go over everything\n",
    "They say that time's supposed to heal ya\n",
    "But I ain't done much healing\n",
    "Hello, can you hear me?\n",
    "I'm in California dreaming about who we used to be\n",
    "When we were younger and free\n",
    "I've forgotten how it felt before the world fell at our feet\n",
    "There's such a difference between us\n",
    "And a million miles\n",
    "Hello from the other side\n",
    "I must've called a thousand times\n",
    "To tell you I'm sorry for everything that I've done\n",
    "But when I call, you never seem to be home\n",
    "Hello from the outside\n",
    "At least I can say that I've tried\n",
    "To tell you I'm sorry for breaking your heart\n",
    "But it don't matter, it clearly doesn't tear you apart anymore\n",
    "Hello, how are you?\n",
    "It's so typical of me to talk about myself, I'm sorry\n",
    "I hope that you're well\n",
    "Did you ever make it out of that town where nothing ever happened?\n",
    "It's no secret that the both of us are running out of time\n",
    "So hello from the other side (Other side)\n",
    "I must've called a thousand times (Thousand times)\n",
    "To tell you I'm sorry for everything that I've done\n",
    "But when I call, you never seem to be home\n",
    "Hello from the outside (Outside)\n",
    "At least I can say that I've tried (I've tried)\n",
    "To tell you I'm sorry for breaking your heart\n",
    "But it don't matter, it clearly doesn't tear you apart anymore\n",
    "Ooh-ooh, anymore\n",
    "Ooh-ooh-ooh, anymore\n",
    "Ooh-ooh, anymore\n",
    "Anymore\n",
    "Hello from the other side (Other side)\n",
    "I must've called a thousand times (Thousand times)\n",
    "To tell you I'm sorry for everything that I've done\n",
    "But when I call, you never seem to be home\n",
    "Hello from the outside (Outside)\n",
    "At least I can say that I've tried (I've tried)\n",
    "To tell you I'm sorry for breaking your heart\n",
    "But it don't matter, it clearly doesn't tear you apart anymore\"\"\"\n"
   ]
  },
  {
   "cell_type": "code",
   "execution_count": 87,
   "id": "3d45bd62-75ef-4129-8038-807b10810281",
   "metadata": {},
   "outputs": [
    {
     "name": "stdout",
     "output_type": "stream",
     "text": [
      "like 단어의 갯수 :  1\n",
      "전체 단어 갯수 :  333\n",
      "가장 많이 나온 단어는 you이며 횟수는 15이다\n"
     ]
    }
   ],
   "source": [
    "song = \"\"\"Hello, it's me \n",
    "I was wondering if after all these years you'd like to meet\n",
    "To go over everything\n",
    "They say that time's supposed to heal ya\n",
    "But I ain't done much healing\n",
    "Hello, can you hear me?\n",
    "I'm in California dreaming about who we used to be\n",
    "When we were younger and free\n",
    "I've forgotten how it felt before the world fell at our feet\n",
    "There's such a difference between us\n",
    "And a million miles\n",
    "Hello from the other side\n",
    "I must've called a thousand times\n",
    "To tell you I'm sorry for everything that I've done\n",
    "But when I call, you never seem to be home\n",
    "Hello from the outside\n",
    "At least I can say that I've tried\n",
    "To tell you I'm sorry for breaking your heart\n",
    "But it don't matter, it clearly doesn't tear you apart anymore\n",
    "Hello, how are you?\n",
    "It's so typical of me to talk about myself, I'm sorry\n",
    "I hope that you're well\n",
    "Did you ever make it out of that town where nothing ever happened?\n",
    "It's no secret that the both of us are running out of time\n",
    "So hello from the other side (Other side)\n",
    "I must've called a thousand times (Thousand times)\n",
    "To tell you I'm sorry for everything that I've done\n",
    "But when I call, you never seem to be home\n",
    "Hello from the outside (Outside)\n",
    "At least I can say that I've tried (I've tried)\n",
    "To tell you I'm sorry for breaking your heart\n",
    "But it don't matter, it clearly doesn't tear you apart anymore\n",
    "Ooh-ooh, anymore\n",
    "Ooh-ooh-ooh, anymore\n",
    "Ooh-ooh, anymore\n",
    "Anymore\n",
    "Hello from the other side (Other side)\n",
    "I must've called a thousand times (Thousand times)\n",
    "To tell you I'm sorry for everything that I've done\n",
    "But when I call, you never seem to be home\n",
    "Hello from the outside (Outside)\n",
    "At least I can say that I've tried (I've tried)\n",
    "To tell you I'm sorry for breaking your heart\n",
    "But it don't matter, it clearly doesn't tear you apart anymore\"\"\"\n",
    "\n",
    "song = song.lower().replace('\\n',' ')\n",
    "punctuation = \".,'`?!()-\"\n",
    "for p in punctuation: #punctuation의 값을 p로 \n",
    "    song = song.replace(p,'')\n",
    "#print(song)\n",
    "\n",
    "print('like 단어의 갯수 : ', song.count('like'))\n",
    "word_list = song.split()\n",
    "print('전체 단어 갯수 : ',len(word_list))\n",
    "\n",
    "max_word_count = 0 # 가장 많이 나온 단어의 횟수\n",
    "max_word = '' # 가장 많이 나온 단어\n",
    "for word in word_list:\n",
    "    word_count = word_list.count(word)\n",
    "    if word_count > max_word_count:\n",
    "        max_word_count = word_count\n",
    "        max_word = word\n",
    "print('가장 많이 나온 단어는 %s이며 횟수는 %d이다'%(max_word, max_word_count))"
   ]
  },
  {
   "cell_type": "markdown",
   "id": "0a719c8d-989c-4e37-89b1-779bc21278f2",
   "metadata": {},
   "source": [
    "<pre>\n",
    "    [문제] 영화예매\n",
    "    10개 좌석만 있는 극장의 예매 프로그램 만들기\n",
    "    비어있는 좌석은 0으로 표기하고, 예매가 된 좌석은 1로 표기한다.\n",
    "    만약 예약되어 있는 좌석을 예약하려고 했을 때 적절한 오류 메세지를 출력하고 다시 예약을 받는다. \n",
    "    [실행예시]\n",
    "    좌석을 예약하시겠습니까? (예약:1, 종료:0) 1\n",
    "    현재의 예약 상태는 다음과 같습니다.\n",
    "    ---------------------\n",
    "    1 2 3 4 5 6 7 8 9 10\n",
    "    ---------------------\n",
    "    0 0 0 0 0 0 0 0 0 0\n",
    "    몇 번째 좌석을 예약하시겠습니까? 2\n",
    "    예약되었습니다.\n",
    "    좌석을 예약하시겠습니까? (예약:1, 종료:0) 1\n",
    "    현재의 예약 상태는 다음과 같습니다.\n",
    "    ---------------------\n",
    "    1 2 3 4 5 6 7 8 9 10\n",
    "    ---------------------\n",
    "    0 1 0 0 0 0 0 0 0 0\n",
    "    몇 번째 좌석을 예약하시겠습니까? 2\n",
    "    이미 선택된 좌석입니다.\n",
    "    좌석을 예약하시겠습니까? (예약:1, 종료:0) 1\n",
    "</pre>"
   ]
  },
  {
   "cell_type": "code",
   "execution_count": 103,
   "id": "6ae70c15-7431-4807-a176-999a03c7267e",
   "metadata": {
    "scrolled": true
   },
   "outputs": [
    {
     "name": "stdin",
     "output_type": "stream",
     "text": [
      "좌석을 예약하시겠습니까? (예약:1, 종료:0)  1\n"
     ]
    },
    {
     "name": "stdout",
     "output_type": "stream",
     "text": [
      "현재의 예약 상태는 다음과 같습니다.\n",
      "---------------------\n",
      "1 2 3 4 5 6 7 8 9 10\n",
      "---------------------\n",
      "[0, 0, 0, 0, 0, 0, 0, 0, 0, 0]\n"
     ]
    },
    {
     "name": "stdin",
     "output_type": "stream",
     "text": [
      "몇번째 좌석을 예약하시겠습니까? 3\n"
     ]
    },
    {
     "name": "stdout",
     "output_type": "stream",
     "text": [
      "예약되었습니다.\n",
      "현재의 예약 상태는 다음과 같습니다.\n",
      "---------------------\n",
      "1 2 3 4 5 6 7 8 9 10\n",
      "---------------------\n",
      "[0, 0, 1, 0, 0, 0, 0, 0, 0, 0]\n"
     ]
    },
    {
     "name": "stdin",
     "output_type": "stream",
     "text": [
      "좌석을 예약하시겠습니까? (예약:1, 종료:0)  0\n"
     ]
    }
   ],
   "source": [
    "# 좌석 예약 정보를 저장하는 리스트\n",
    "# 2번 좌석 예약 : seats[1] = 1\n",
    "seats = [0,0,0,0,0,0,0,0,0,0]\n",
    "\n",
    "while True:\n",
    "    reservation = int(input('좌석을 예약하시겠습니까? (예약:1, 종료:0) '))\n",
    "    if reservation == 0:\n",
    "        print('예약을 종료합니다.')\n",
    "        break\n",
    "    elif reservation == 1:\n",
    "        print('현재의 예약 상태는 다음과 같습니다.')\n",
    "        print('---------------------')\n",
    "        print('1 2 3 4 5 6 7 8 9 10')\n",
    "        print('---------------------')\n",
    "        print(seats)\n",
    "        selection = int(input('몇번째 좌석을 예약하시겠습니까?'))    \n",
    "        print('예약되었습니다.')\n",
    "        print('현재의 예약 상태는 다음과 같습니다.')\n",
    "        print('---------------------')\n",
    "        print('1 2 3 4 5 6 7 8 9 10')\n",
    "        print('---------------------')\n",
    "        seats[selection-1] = 1\n",
    "        print(seats)\n",
    "            \n",
    "        \n",
    "        #occupied = seats[selection-1]\n",
    "        #if occupied == 1:\n",
    "            #print('이미 선택된 좌석입니다.')\n",
    "        "
   ]
  },
  {
   "cell_type": "code",
   "execution_count": null,
   "id": "b84cdb53-6cfa-4351-9f42-d135c5ecb3f2",
   "metadata": {},
   "outputs": [],
   "source": [
    "# 좌석 예약 정보를 저장하는 리스트\n",
    "# 2번 좌석 예약 : seats[1] = 1\n",
    "seats = [0,0,0,0,0,0,0,0,0,0]\n",
    "\n",
    "while True:\n",
    "    isContinue = int(input('좌석을 예약하시겠습니까? (예약:1, 종료:0) '))\n",
    "    if isContinue == 0 :\n",
    "        break\n",
    "    elif isContinue == 1 :\n",
    "        print('현재의 예약 상태는 다음과 같습니다.')\n",
    "        print('---------------------')\n",
    "        print('1 2 3 4 5 6 7 8 9 10')\n",
    "        print('---------------------')\n",
    "        for s in seats:\n",
    "            print('%2d'%s, end='')\n",
    "        while True:\n",
    "            seat_num = int(input('몇번째 좌석을 예약하시겠습니까? '))\n",
    "            if seats[seat_num-1] == 1:\n",
    "                print('이미 선택된 좌석입니다.')\n",
    "            else :\n",
    "                seats[seat_num-1] = 1\n",
    "                print('예약되었습니다.')\n",
    "                break"
   ]
  },
  {
   "cell_type": "markdown",
   "id": "7ad0965d-cda0-446b-9a17-7d6ed824f10f",
   "metadata": {},
   "source": [
    "# 리스트(List)"
   ]
  },
  {
   "cell_type": "code",
   "execution_count": null,
   "id": "711083cd-23d5-4c69-b814-20135df92791",
   "metadata": {},
   "outputs": [],
   "source": [
    "# 리스트 선언\n",
    "a = []\n",
    "b = list() #다른 데이터 타입을 list로 바꿀 때 많이 씀\n",
    "c = [1,2,3]"
   ]
  },
  {
   "cell_type": "code",
   "execution_count": 120,
   "id": "80941b2b-c1e4-438a-9319-13bb1f8f36e6",
   "metadata": {},
   "outputs": [
    {
     "name": "stdout",
     "output_type": "stream",
     "text": [
      "[1, 2]\n",
      "[1, 2, 3, 4, 5, 6, 7]\n"
     ]
    }
   ],
   "source": [
    "# 슬라이싱\n",
    "a = [1,2,3,4,5,6,7]\n",
    "b = a[:2]\n",
    "print(b)\n",
    "c = a[:]\n",
    "print(c)"
   ]
  },
  {
   "cell_type": "code",
   "execution_count": 123,
   "id": "913e7319-d0bc-4116-8be7-6cac6f0452b7",
   "metadata": {
    "jp-MarkdownHeadingCollapsed": true
   },
   "outputs": [
    {
     "name": "stdout",
     "output_type": "stream",
     "text": [
      "[1, 2, 3, 4, 5, 6, 7]\n",
      "[1, 2, 20, 4, 5, 6, 7]\n",
      "[1, 2, 20, 4, 5, 6, 7]\n",
      "True\n",
      "False\n"
     ]
    }
   ],
   "source": [
    "# 리스트 복사\n",
    "a = [1,2,3,4,5,6,7]\n",
    "\n",
    "# 얕은 복사\n",
    "b = a\n",
    "print(b)\n",
    "b[2] = 20\n",
    "print(a)\n",
    "\n",
    "# 깊은 복사\n",
    "c = a[:]\n",
    "c [0] = 200\n",
    "print(a)\n",
    "\n",
    "print(a is b)\n",
    "print(a is c)"
   ]
  },
  {
   "cell_type": "code",
   "execution_count": 125,
   "id": "aafd8fa8-8fe4-466d-9153-e511b3e41ceb",
   "metadata": {},
   "outputs": [
    {
     "name": "stdout",
     "output_type": "stream",
     "text": [
      "[1, 2, 3, 4, 5, 6]\n",
      "[1, 2, 3, 1, 2, 3, 1, 2, 3]\n"
     ]
    }
   ],
   "source": [
    "# 리스트의 연결(+), 반복(*)\n",
    "a =[1,2,3]\n",
    "b = [4,5,6]\n",
    "print(a+b)\n",
    "print(a*3)"
   ]
  },
  {
   "cell_type": "code",
   "execution_count": 129,
   "id": "d2d94f41-905d-44de-8bb5-e6dcd834afa2",
   "metadata": {
    "scrolled": true
   },
   "outputs": [
    {
     "name": "stdout",
     "output_type": "stream",
     "text": [
      "[1, 2, 3, 40, 5]\n",
      "[1, 40, 5]\n",
      "[1, 5]\n"
     ]
    }
   ],
   "source": [
    "# list에 들어있는 요소 삭제, 수정\n",
    "a = [1,2,3,4,5]\n",
    "a[3] = 40\n",
    "print(a)\n",
    "\n",
    "a[1:3] = []\n",
    "print(a)\n",
    "\n",
    "del a[1]\n",
    "print(a)"
   ]
  },
  {
   "cell_type": "code",
   "execution_count": 130,
   "id": "81f78501-115c-427b-afb7-01eb955176bb",
   "metadata": {},
   "outputs": [],
   "source": [
    "## 리스트의 함수들"
   ]
  },
  {
   "cell_type": "code",
   "execution_count": 133,
   "id": "5082c35f-9387-4fb8-9997-099cd7e6a0e4",
   "metadata": {},
   "outputs": [
    {
     "name": "stdout",
     "output_type": "stream",
     "text": [
      "None\n",
      "[7, 6, 5, 3, 1]\n"
     ]
    }
   ],
   "source": [
    "a = [1,5,3,6,7]\n",
    "r = a.sort(reverse = True) #주의 : 정렬의 결과를 반환하지 않는다. \n",
    "print(r)\n",
    "print(a)"
   ]
  },
  {
   "cell_type": "code",
   "execution_count": 136,
   "id": "874b8031-d320-4c1c-b375-8b20334da5e4",
   "metadata": {
    "scrolled": true
   },
   "outputs": [
    {
     "name": "stdout",
     "output_type": "stream",
     "text": [
      "[1, 3, 2, 1, 10, 22]\n",
      "22\n",
      "[1, 3, 2, 1, 10]\n"
     ]
    }
   ],
   "source": [
    "a = [1,3,4,2,1,10,22]\n",
    "a.remove(4) # index로 삭제하는 것이 아니고 실제 값을 삭제\n",
    "print(a)\n",
    "temp = a.pop() # 가장 마지막 데이터를 꺼낸 후 삭제\n",
    "print(temp)\n",
    "print(a)"
   ]
  },
  {
   "cell_type": "code",
   "execution_count": 142,
   "id": "3300a1f1-7fa7-439b-92bd-e6198f69d6b2",
   "metadata": {},
   "outputs": [
    {
     "name": "stdout",
     "output_type": "stream",
     "text": [
      "7\n",
      "22\n",
      "1\n",
      "43\n",
      "6.142857142857143\n"
     ]
    }
   ],
   "source": [
    "a = [1,3,4,2,1,10,22]\n",
    "# 다음 함수는 리스트 객체의 함수가 아닌, 파이썬의 내장 함수 \n",
    "print(len(a)) \n",
    "print(max(a))\n",
    "print(min(a))\n",
    "print(sum(a))\n",
    "print(sum(a) / len(a)) # 평균"
   ]
  },
  {
   "cell_type": "code",
   "execution_count": 146,
   "id": "d428de25-d44b-4427-a3ad-be2da3506157",
   "metadata": {},
   "outputs": [
    {
     "name": "stdin",
     "output_type": "stream",
     "text": [
      "결제를 하시겠습니까?  yes\n"
     ]
    },
    {
     "name": "stdout",
     "output_type": "stream",
     "text": [
      "구매해 주셔서 감사합니다.\n"
     ]
    }
   ],
   "source": [
    "ans = input('결제를 하시겠습니까? ')\n",
    "if ans in ['yes', 'y', 'ok', '네', '예']:\n",
    "    print('구매해 주셔서 감사합니다.')\n",
    "else :\n",
    "    print('안녕히 가세요!')"
   ]
  },
  {
   "cell_type": "markdown",
   "id": "a2db77aa-3138-48e0-a2c6-2457556a49e2",
   "metadata": {},
   "source": [
    "## 이중 리스트\n",
    "- 리스트의 요소로 리스트를 갖는 형태"
   ]
  },
  {
   "cell_type": "code",
   "execution_count": 148,
   "id": "f4b2e252-54b9-4354-8efb-78d9fb92382d",
   "metadata": {},
   "outputs": [
    {
     "name": "stdout",
     "output_type": "stream",
     "text": [
      "[1, 2, 3]\n",
      "1\n",
      "1 2 3 \n",
      "4 5 6 \n",
      "7 8 9 \n"
     ]
    }
   ],
   "source": [
    "l = [[1,2,3],\n",
    "    [4,5,6],\n",
    "    [7,8,9]]\n",
    "print(l[0])\n",
    "print(l[0][0])\n",
    "\n",
    "for  x in l:\n",
    "    for y in x:\n",
    "        print(y, end=' ')\n",
    "    print() # 리스트마다 줄바꿈"
   ]
  },
  {
   "cell_type": "markdown",
   "id": "ba618a08-8456-4481-b442-95ac7da0a984",
   "metadata": {},
   "source": [
    "- [:]과 deepcopy()의 차이"
   ]
  },
  {
   "cell_type": "code",
   "execution_count": 6,
   "id": "292e55bb-4959-44a9-85a3-c1f558360e87",
   "metadata": {},
   "outputs": [
    {
     "name": "stdout",
     "output_type": "stream",
     "text": [
      "2396259827072\n",
      "2396259822784\n"
     ]
    }
   ],
   "source": [
    "import copy \n",
    "\n",
    "matrix = [[1,2,3],\n",
    "         [4,5,6],\n",
    "         [7,8,9]]\n",
    "# [:]를 이용한 깊은 복사는 서브 리스트까지 깊은 복사를 수행하지 않는다. \n",
    "#copy_m = matrix[:]\n",
    "# 반면 deepcopy() 함수는 모든 요소에 대한 깊은 복사를 수행한다.\n",
    "copy_m = copy.deepcopy(matrix)\n",
    "print(id(matrix[0])) #id는 참조값\n",
    "print(id(copy_m[0]))"
   ]
  },
  {
   "cell_type": "markdown",
   "id": "c2b6edfc-b5d0-480e-9399-bc26ed1b3164",
   "metadata": {},
   "source": [
    "[문제] 성적 총점과 평균 구하기\n",
    "학생 3명의 성적에 대해 각각 총점과 평균을 구하고, 전체 평균을 구하세요.\n",
    "[실행결과]\n",
    "1번 학생 : 총점 : 300, 평균: 82.50\n",
    "2번 학생 : 총점 : 345, 평균: 92.12\n",
    "3번 학생 : 총점 : 280, 평균: 79.50\n",
    "전체 평균 : 78.34"
   ]
  },
  {
   "cell_type": "code",
   "execution_count": 197,
   "id": "07186e7f-acea-487c-a66f-1081ef998d89",
   "metadata": {
    "scrolled": true
   },
   "outputs": [
    {
     "name": "stdout",
     "output_type": "stream",
     "text": [
      "1번 학생 : 총점 : 354, 평균 : 88.5\n",
      "2번 학생 : 총점 : 275, 평균 : 68.75\n",
      "3번 학생 : 총점 : 328, 평균 : 82.0\n"
     ]
    }
   ],
   "source": [
    "score = [[88, 76, 92, 98],\n",
    "        [65, 70, 58, 82],\n",
    "        [82, 80, 78, 88]]\n",
    "\n",
    "#내가 쓰다 만 코드 \n",
    "i = 0\n",
    "while i < len(score):    \n",
    "    sum_score = score[i][0]+score[i][1]+score[i][2]+score[i][3]\n",
    "    # print(sum_score)\n",
    "    \n",
    "    average = sum_score / len(score[i])\n",
    "    print(f'{i+1}번 학생 : 총점 : {sum_score}, 평균 : {average}')\n",
    "    i+=1"
   ]
  },
  {
   "cell_type": "code",
   "execution_count": 196,
   "id": "bece31fa-4005-48e2-948c-f462431beea8",
   "metadata": {
    "scrolled": true
   },
   "outputs": [
    {
     "name": "stdout",
     "output_type": "stream",
     "text": [
      "1번 학생: 총점: 354, 평균 : 88.50\n",
      "2번 학생: 총점: 275, 평균 : 68.75\n",
      "3번 학생: 총점: 328, 평균 : 82.00\n",
      "전체 평균 : 79.75\n"
     ]
    }
   ],
   "source": [
    "#선생님 코드\n",
    "score = [[88, 76, 92, 98],\n",
    "        [65, 70, 58, 82],\n",
    "        [82, 80, 78, 88]]\n",
    "index = 1\n",
    "total = 0 #전체 모든 학생의 총점을 저장\n",
    "all_subjects = 0 #전체 과목 수 \n",
    "for student in score:\n",
    "    print(f'{index}번 학생: 총점: {sum(student)}, 평균 : {sum(student) / len(student):.2f}')\n",
    "    index += 1\n",
    "    total += sum(student)\n",
    "    all_subjects += len(student)\n",
    "print(f'전체 평균 : {total/all_subjects:.2f}')"
   ]
  },
  {
   "cell_type": "markdown",
   "id": "e2d53d4f-a084-48ce-9a84-7abb08202416",
   "metadata": {},
   "source": [
    "[문제] 일수 계산\n",
    "1~12월 중 입력 받은 월이 몇일까지 있는지를 계산하는 프로그램을 작성하세요.\n",
    "\n",
    "[실행예시]\n",
    "년도를 입력하세요: 2024\n",
    "월을 입력하세요: 2\n",
    "2024년 2월은 29일까지 있습니다.\n",
    "\n",
    "[참고]\n",
    "윤년 조건 : 4로 나눠지고 100으로 나눠지지 않는 해 또는 400으로 나눠지는 해"
   ]
  },
  {
   "cell_type": "code",
   "execution_count": 215,
   "id": "c2e4b7d4-021e-4430-ab1a-a18dd8ca4543",
   "metadata": {
    "scrolled": true
   },
   "outputs": [
    {
     "name": "stdin",
     "output_type": "stream",
     "text": [
      "년도를 입력하세요:  2023\n",
      "월을 입력하세요:  2\n"
     ]
    },
    {
     "name": "stdout",
     "output_type": "stream",
     "text": [
      "2023년 2월은 28일까지 있습니다.\n"
     ]
    }
   ],
   "source": [
    "daysInMonth = [31, 28, 31, 30, 31, 30, 31, 31, 30, 31, 30, 31]\n",
    "\n",
    "year = int(input('년도를 입력하세요: '))\n",
    "month = int(input('월을 입력하세요: '))\n",
    "days = 0\n",
    "\n",
    "if month == 2:\n",
    "    days = 29 if not year % 4 and year % 100 or not year % 400 else 28\n",
    "else:\n",
    "    days = daysInMonth[month-1]\n",
    "print(f'{year}년 {month}월은 {days}일까지 있습니다.')"
   ]
  },
  {
   "cell_type": "markdown",
   "id": "70c60b5e-f6f7-4a1d-adcf-2b3e01adf683",
   "metadata": {},
   "source": [
    "# 딕셔너리(Dictionary)"
   ]
  },
  {
   "cell_type": "code",
   "execution_count": 35,
   "id": "593ae49a-2a0f-448f-8419-709a96091e7f",
   "metadata": {},
   "outputs": [
    {
     "name": "stdout",
     "output_type": "stream",
     "text": [
      "홍길동\n",
      "서울시 강남구\n",
      "{'name': '홍길동', 'age': 32, 'address': '서울시 강서구'}\n",
      "생일 미등록\n"
     ]
    }
   ],
   "source": [
    "# 딕셔너리 생성\n",
    "x = {'name': '홍길동', 'age' : 32}\n",
    "print(x['name'])\n",
    "x['address'] = '서울시 강남구'\n",
    "print(x['address'])\n",
    "x['address'] = '서울시 강서구'\n",
    "print(x)\n",
    "print(x.get('birth', '생일 미등록'))"
   ]
  },
  {
   "cell_type": "code",
   "execution_count": 40,
   "id": "c7009c80-278a-4044-82c7-99eb0bf70df6",
   "metadata": {},
   "outputs": [
    {
     "name": "stdout",
     "output_type": "stream",
     "text": [
      "dict_keys(['name', 'phone', 'age'])\n",
      "dict_items([('name', '전우치'), ('phone', '010-1234-5367'), ('age', 25)])\n",
      "name 전우치\n",
      "phone 010-1234-5367\n",
      "age 25\n",
      "---------------\n",
      "name 전우치\n",
      "phone 010-1234-5367\n",
      "age 25\n"
     ]
    }
   ],
   "source": [
    "# 딕셔너리 데이터 순회\n",
    "y = {'name':'전우치', 'phone':'010-1234-5367', 'age':25}\n",
    "print(y.keys())\n",
    "print(y.items())\n",
    "\n",
    "for key in y.keys():\n",
    "     print(key, y[key])\n",
    "print('-'*15)\n",
    "\n",
    "for key, value in y.items():\n",
    "     print(key,value)"
   ]
  },
  {
   "cell_type": "code",
   "execution_count": 236,
   "id": "306dd2c9-77dd-430d-b649-3e374afbe1bc",
   "metadata": {},
   "outputs": [
    {
     "name": "stdout",
     "output_type": "stream",
     "text": [
      "합계:  324\n",
      "[('전우치', 67), ('손오공', 80), ('임꺽정', 88), ('홍길동', 89)]\n"
     ]
    }
   ],
   "source": [
    "score = {'홍길동':89, '임꺽정':88, '손오공':80, '전우치':67}\n",
    "\n",
    "print('합계: ', sum(score.values()))\n",
    "print(sorted(score.items(), key=lambda  x:x[1])) #x:x[0]이면 key값을 기준으로 정렬, x:x[1]이면 value값을 기준으로 정렬"
   ]
  },
  {
   "cell_type": "markdown",
   "id": "980f7e16-e157-43b2-9fcb-e718c1fa5169",
   "metadata": {},
   "source": [
    "[문제] 단어 빈도수 구하기\n",
    "- text 문장 안에 포함된 각 단어의 빈도수를 구하여 dictionary 형태로 결과를 출력하세요.\n",
    "- 단어는 key가 되고 빈도수는 value가 된다."
   ]
  },
  {
   "cell_type": "code",
   "execution_count": 33,
   "id": "133afb5d-a224-4210-8cbe-66218cd44e54",
   "metadata": {
    "scrolled": true
   },
   "outputs": [
    {
     "name": "stdout",
     "output_type": "stream",
     "text": [
      "[('you', 15), ('to', 14), ('i', 12), ('that', 10), ('hello', 9), ('ive', 9), ('im', 8), ('it', 8), ('the', 8), ('but', 7), ('sorry', 7), ('anymore', 7), ('times', 6), ('from', 6), ('tell', 6), ('for', 6), ('a', 5), ('other', 5), ('side', 5), ('thousand', 5), ('outside', 5), ('tried', 5), ('everything', 4), ('say', 4), ('done', 4), ('can', 4), ('be', 4), ('when', 4), ('at', 4), ('of', 4), ('its', 3), ('me', 3), ('mustve', 3), ('called', 3), ('call', 3), ('never', 3), ('seem', 3), ('home', 3), ('least', 3), ('breaking', 3), ('your', 3), ('heart', 3), ('dont', 3), ('matter', 3), ('clearly', 3), ('doesnt', 3), ('tear', 3), ('apart', 3), ('about', 2), ('we', 2), ('and', 2), ('how', 2), ('us', 2), ('are', 2), ('so', 2), ('ever', 2), ('out', 2), ('oohooh', 2), ('was', 1), ('wondering', 1), ('if', 1), ('after', 1), ('all', 1), ('these', 1), ('years', 1), ('youd', 1), ('like', 1), ('meet', 1), ('go', 1), ('over', 1), ('they', 1), ('supposed', 1), ('heal', 1), ('ya', 1), ('aint', 1), ('much', 1), ('healing', 1), ('hear', 1), ('in', 1), ('california', 1), ('dreaming', 1), ('who', 1), ('used', 1), ('were', 1), ('younger', 1), ('free', 1), ('forgotten', 1), ('felt', 1), ('before', 1), ('world', 1), ('fell', 1), ('our', 1), ('feet', 1), ('theres', 1), ('such', 1), ('difference', 1), ('between', 1), ('million', 1), ('miles', 1), ('typical', 1), ('talk', 1), ('myself', 1), ('hope', 1), ('youre', 1), ('well', 1), ('did', 1), ('make', 1), ('town', 1), ('where', 1), ('nothing', 1), ('happened', 1), ('no', 1), ('secret', 1), ('both', 1), ('running', 1), ('time', 1), ('oohoohooh', 1)]\n"
     ]
    }
   ],
   "source": [
    "song = \"\"\"Hello, it's me \n",
    "I was wondering if after all these years you'd like to meet\n",
    "To go over everything\n",
    "They say that time's supposed to heal ya\n",
    "But I ain't done much healing\n",
    "Hello, can you hear me?\n",
    "I'm in California dreaming about who we used to be\n",
    "When we were younger and free\n",
    "I've forgotten how it felt before the world fell at our feet\n",
    "There's such a difference between us\n",
    "And a million miles\n",
    "Hello from the other side\n",
    "I must've called a thousand times\n",
    "To tell you I'm sorry for everything that I've done\n",
    "But when I call, you never seem to be home\n",
    "Hello from the outside\n",
    "At least I can say that I've tried\n",
    "To tell you I'm sorry for breaking your heart\n",
    "But it don't matter, it clearly doesn't tear you apart anymore\n",
    "Hello, how are you?\n",
    "It's so typical of me to talk about myself, I'm sorry\n",
    "I hope that you're well\n",
    "Did you ever make it out of that town where nothing ever happened?\n",
    "It's no secret that the both of us are running out of time\n",
    "So hello from the other side (Other side)\n",
    "I must've called a thousand times (Thousand times)\n",
    "To tell you I'm sorry for everything that I've done\n",
    "But when I call, you never seem to be home\n",
    "Hello from the outside (Outside)\n",
    "At least I can say that I've tried (I've tried)\n",
    "To tell you I'm sorry for breaking your heart\n",
    "But it don't matter, it clearly doesn't tear you apart anymore\n",
    "Ooh-ooh, anymore\n",
    "Ooh-ooh-ooh, anymore\n",
    "Ooh-ooh, anymore\n",
    "Anymore\n",
    "Hello from the other side (Other side)\n",
    "I must've called a thousand times (Thousand times)\n",
    "To tell you I'm sorry for everything that I've done\n",
    "But when I call, you never seem to be home\n",
    "Hello from the outside (Outside)\n",
    "At least I can say that I've tried (I've tried)\n",
    "To tell you I'm sorry for breaking your heart\n",
    "But it don't matter, it clearly doesn't tear you apart anymore\"\"\"\n",
    "\n",
    "song = song.lower().replace('\\n',' ')\n",
    "punctuation = \".,'`?!()-\"\n",
    "for p in punctuation:\n",
    "    song = song.replace(p,'')\n",
    "word_list = song.split()\n",
    "\n",
    "dic = {} # dic = dic()\n",
    "\n",
    "# for word in word_list:\n",
    "#     if dic.get(word) == None: \n",
    "#         dic[word] = 1 #이 방법은 원래 있는 key가 아니면 error가 남.\n",
    "#     else: #elif dic.get(word) != None:\n",
    "#         dic[word] += 1\n",
    "for word in word_list:\n",
    "    dic[word] = dic.get(word, 0) + 1\n",
    "\n",
    "print(sorted(dic.items(), key=lambda  x:x[1], reverse=True))"
   ]
  },
  {
   "cell_type": "markdown",
   "id": "d57f47e1-7afd-4d5c-8368-480dd42713b7",
   "metadata": {},
   "source": [
    "# 집합(Set)"
   ]
  },
  {
   "cell_type": "code",
   "execution_count": 34,
   "id": "70165f81-371a-446a-9f09-959ae1b9feaa",
   "metadata": {},
   "outputs": [
    {
     "name": "stdout",
     "output_type": "stream",
     "text": [
      "{'n', 'o', 'h', 't', 'l', 'H', ' ', 'e', 'P', 'y'}\n"
     ]
    }
   ],
   "source": [
    "print(set('Hello Python')) #중복된 데이터 삭제"
   ]
  },
  {
   "cell_type": "code",
   "execution_count": 39,
   "id": "d801d1c2-a924-4f46-98d9-023693dcb38a",
   "metadata": {},
   "outputs": [
    {
     "name": "stdout",
     "output_type": "stream",
     "text": [
      "합집합:  {1, 2, 3, 4, 5, 6, 7, 8}\n",
      "교집합:  {5, 6}\n",
      "차집합:  {1, 2, 3, 4}\n"
     ]
    }
   ],
   "source": [
    "a = {1,2,3,4,5,6}\n",
    "b = {5,6,7,8}\n",
    "print('합집합: ', a.union(b))\n",
    "print('교집합: ', a.intersection(b))\n",
    "print('차집합: ', a.difference(b))"
   ]
  },
  {
   "cell_type": "markdown",
   "id": "4419113f-ef70-405c-a123-2ad641530caf",
   "metadata": {},
   "source": [
    "#Comprehension"
   ]
  },
  {
   "cell_type": "code",
   "execution_count": 45,
   "id": "c68af882-3822-4b11-9a1f-c3bd656ce70f",
   "metadata": {},
   "outputs": [
    {
     "name": "stdout",
     "output_type": "stream",
     "text": [
      "[1, 3, 4, 64, 6, 7, 45, 0]\n",
      "[3, 9, 12, 192, 18, 21, 135, 0]\n",
      "[4, 64, 6, 0]\n",
      "4\n",
      "[[0, 0, 0, 0, 0, 0, 0], [0, 0, 0, 0, 0, 0, 0], [0, 0, 0, 0, 0, 0, 0], [0, 0, 0, 0, 0, 0, 0]]\n"
     ]
    }
   ],
   "source": [
    "tmp = [1,3,4,64,6,7,45,0]\n",
    "a = [i for i in tmp]\n",
    "print(a)\n",
    "\n",
    "b = [i*3 for i in tmp]\n",
    "print(b)\n",
    "\n",
    "c = [i for i in tmp if not i%2] #짝수\n",
    "print(c)\n",
    "\n",
    "# 4행 7열 형태의 이중 리스트\n",
    "double_list = [[0,0,0,0,0,0,0],\n",
    "               [0,0,0,0,0,0,0],\n",
    "               [0,0,0,0,0,0,0],\n",
    "               [0,0,0,0,0,0,0]]\n",
    "# print(len(double_list)) #double_list 길이는 4\n",
    "double_list = [[0 for col in range(7)] for row in range(4)]\n",
    "print(double_list)"
   ]
  },
  {
   "cell_type": "code",
   "execution_count": 51,
   "id": "75abd697-7087-4265-94a8-636081bd00a5",
   "metadata": {},
   "outputs": [
    {
     "name": "stdout",
     "output_type": "stream",
     "text": [
      "{1, 2, 3, 4, 5, 6, 7, 8, 9, 10}\n"
     ]
    }
   ],
   "source": [
    "# set comprehension\n",
    "s = {i for i in range(1,11)}\n",
    "print(s)"
   ]
  },
  {
   "cell_type": "code",
   "execution_count": 53,
   "id": "938670ea-1429-4b3d-a3fe-2d96c132677a",
   "metadata": {
    "scrolled": true
   },
   "outputs": [
    {
     "name": "stdout",
     "output_type": "stream",
     "text": [
      "{'hello': 9, 'its': 3, 'me': 3, 'i': 12, 'was': 1, 'wondering': 1, 'if': 1, 'after': 1, 'all': 1, 'these': 1, 'years': 1, 'youd': 1, 'like': 1, 'to': 14, 'meet': 1, 'go': 1, 'over': 1, 'everything': 4, 'they': 1, 'say': 4, 'that': 10, 'times': 6, 'supposed': 1, 'heal': 1, 'ya': 1, 'but': 7, 'aint': 1, 'done': 4, 'much': 1, 'healing': 1, 'can': 4, 'you': 15, 'hear': 1, 'im': 8, 'in': 1, 'california': 1, 'dreaming': 1, 'about': 2, 'who': 1, 'we': 2, 'used': 1, 'be': 4, 'when': 4, 'were': 1, 'younger': 1, 'and': 2, 'free': 1, 'ive': 9, 'forgotten': 1, 'how': 2, 'it': 8, 'felt': 1, 'before': 1, 'the': 8, 'world': 1, 'fell': 1, 'at': 4, 'our': 1, 'feet': 1, 'theres': 1, 'such': 1, 'a': 5, 'difference': 1, 'between': 1, 'us': 2, 'million': 1, 'miles': 1, 'from': 6, 'other': 5, 'side': 5, 'mustve': 3, 'called': 3, 'thousand': 5, 'tell': 6, 'sorry': 7, 'for': 6, 'call': 3, 'never': 3, 'seem': 3, 'home': 3, 'outside': 5, 'least': 3, 'tried': 5, 'breaking': 3, 'your': 3, 'heart': 3, 'dont': 3, 'matter': 3, 'clearly': 3, 'doesnt': 3, 'tear': 3, 'apart': 3, 'anymore': 7, 'are': 2, 'so': 2, 'typical': 1, 'of': 4, 'talk': 1, 'myself': 1, 'hope': 1, 'youre': 1, 'well': 1, 'did': 1, 'ever': 2, 'make': 1, 'out': 2, 'town': 1, 'where': 1, 'nothing': 1, 'happened': 1, 'no': 1, 'secret': 1, 'both': 1, 'running': 1, 'time': 1, 'oohooh': 2, 'oohoohooh': 1}\n"
     ]
    }
   ],
   "source": [
    "# dictionary comprehension\n",
    "dic = {word:word_list.count(word) for word in word_list}\n",
    "print(dic)"
   ]
  },
  {
   "cell_type": "markdown",
   "id": "d2a5d998-1d3d-42db-9f8d-940ae5a90a35",
   "metadata": {},
   "source": [
    "[문제] 1~100까지 1씩 증가하는 데이터를 생성해서 3의 배수이거나 5의 배수인 데이터만 리스트에 포함시키는 프로그램을 작성하세요. (조건:list comprehension)"
   ]
  },
  {
   "cell_type": "code",
   "execution_count": 54,
   "id": "a5231827-b78b-4fab-8128-c263ba2a6e9b",
   "metadata": {},
   "outputs": [
    {
     "name": "stdout",
     "output_type": "stream",
     "text": [
      "[3, 5, 6, 9, 10, 12, 15, 18, 20, 21, 24, 25, 27, 30, 33, 35, 36, 39, 40, 42, 45, 48, 50, 51, 54, 55, 57, 60, 63, 65, 66, 69, 70, 72, 75, 78, 80, 81, 84, 85, 87, 90, 93, 95, 96, 99, 100]\n"
     ]
    }
   ],
   "source": [
    "r = [i for i in range(1,101) if not i % 3 or not i % 5]\n",
    "print(r)"
   ]
  },
  {
   "cell_type": "markdown",
   "id": "2370b26a-7812-4592-8688-f99913391aa1",
   "metadata": {},
   "source": [
    "# zip()"
   ]
  },
  {
   "cell_type": "code",
   "execution_count": 56,
   "id": "ecbc816f-9747-4ae6-86c5-450ca8a9b137",
   "metadata": {},
   "outputs": [
    {
     "name": "stdout",
     "output_type": "stream",
     "text": [
      "[(1, 10), (2, 20), (3, 30), (4, 40), (5, 50)]\n",
      "[111, 222, 333, 444, 555]\n"
     ]
    }
   ],
   "source": [
    "data1 = [1,2,3,4,5]\n",
    "data2 = [10,20,30,40,50]\n",
    "data3 = [100,200,300,400,500]\n",
    "\n",
    "result1 = [x for x in zip(data1, data2)]\n",
    "print(result1)\n",
    "\n",
    "result2 = [sum(x) for x in zip(data1, data2, data3)]\n",
    "print(result2)"
   ]
  },
  {
   "cell_type": "code",
   "execution_count": 58,
   "id": "78121f4b-0cdf-4bbb-8835-caf919cac917",
   "metadata": {},
   "outputs": [
    {
     "name": "stdout",
     "output_type": "stream",
     "text": [
      "월요일 메뉴:갈비탕\n",
      "화요일 메뉴:순대국\n",
      "수요일 메뉴:칼국수\n",
      "목요일 메뉴:삼겹살\n"
     ]
    }
   ],
   "source": [
    "yoil = ['월','화','수','목','금','토','일']\n",
    "food = ['갈비탕','순대국','칼국수','삼겹살']\n",
    "for y, f in zip(yoil, food):\n",
    "    print(f'{y}요일 메뉴:{f}')"
   ]
  },
  {
   "cell_type": "code",
   "execution_count": 59,
   "id": "be78fa7e-f57c-486d-9204-0d8e5b78e84b",
   "metadata": {},
   "outputs": [
    {
     "name": "stdout",
     "output_type": "stream",
     "text": [
      "{'월': '갈비탕', '화': '순대국', '수': '칼국수', '목': '삼겹살'}\n"
     ]
    }
   ],
   "source": [
    "d = dict(zip(yoil,food))\n",
    "print(d)"
   ]
  },
  {
   "cell_type": "markdown",
   "id": "061b3434-b927-4638-bab0-2ba12a906dbb",
   "metadata": {},
   "source": [
    "# enumerate()"
   ]
  },
  {
   "cell_type": "code",
   "execution_count": 47,
   "id": "09f26b18-40e1-49f1-a746-8212732507dc",
   "metadata": {},
   "outputs": [
    {
     "name": "stdout",
     "output_type": "stream",
     "text": [
      "[(0, '월'), (1, '화'), (2, '수'), (3, '목'), (4, '금'), (5, '토'), (6, '일')]\n",
      "1 월\n",
      "2 화\n",
      "3 수\n",
      "4 목\n",
      "5 금\n",
      "6 토\n",
      "7 일\n"
     ]
    }
   ],
   "source": [
    "yoil = ['월','화','수','목','금','토','일']\n",
    "print(list(enumerate(yoil)))\n",
    "\n",
    "for i, item in enumerate(yoil, 1):\n",
    "    print(i, item)"
   ]
  },
  {
   "cell_type": "code",
   "execution_count": 63,
   "id": "e292dbc2-34ed-4825-aac7-e3dfc8213526",
   "metadata": {},
   "outputs": [
    {
     "name": "stdout",
     "output_type": "stream",
     "text": [
      "{'빨강': 0, '주황': 1, '노랑': 2, '초록': 3, '파랑': 4}\n"
     ]
    }
   ],
   "source": [
    "color = ['빨강','주황','노랑','초록','파랑'] # 명목형,범주형 데이터\n",
    "mapping = { v:i for i, v in enumerate(color)}\n",
    "print(mapping)"
   ]
  },
  {
   "cell_type": "markdown",
   "id": "d8e68408-522e-4f54-a20b-07eb8d65175b",
   "metadata": {},
   "source": [
    "# 함수"
   ]
  },
  {
   "cell_type": "code",
   "execution_count": 3,
   "id": "8529b1c7-c1ff-4749-9b9d-e741ef9a636d",
   "metadata": {},
   "outputs": [
    {
     "name": "stdout",
     "output_type": "stream",
     "text": [
      "{'food': '스테이크', 'drink': '포도주', 'dessert': '치즈케익'}\n",
      "{'food': '잔치국수', 'drink': '막걸리', 'dessert': '파전'}\n"
     ]
    }
   ],
   "source": [
    "def restaurant(food, drink, dessert):\n",
    "    return {'food': food, 'drink':drink, 'dessert':dessert}\n",
    "\n",
    "#위치 인자를 이용한 함수의 호출\n",
    "first = restaurant('스테이크','포도주','치즈케익')\n",
    "print(first)\n",
    "\n",
    "#키워드 인자를 이용한 함수의 호출 (정의된 매개변수 순서에 상관없이 호출 가능)\n",
    "second = restaurant(drink = '막걸리', dessert = '파전', food = '잔치국수')\n",
    "print(second)"
   ]
  },
  {
   "cell_type": "code",
   "execution_count": 4,
   "id": "cdfba990-9edf-461d-808d-f1210b0b8249",
   "metadata": {},
   "outputs": [
    {
     "name": "stdout",
     "output_type": "stream",
     "text": [
      "{'food': '연어초밥', 'drink': '사케', 'dessert': '아이스크림'}\n",
      "{'food': '돈부리', 'drink': '사케', 'dessert': '아이스크림'}\n"
     ]
    }
   ],
   "source": [
    "def restaurant(food='연어초밥', drink = '사케', dessert = '아이스크림'):\n",
    "    return {'food': food, 'drink':drink, 'dessert':dessert}\n",
    "\n",
    "print(restaurant())\n",
    "print(restaurant('돈부리'))"
   ]
  },
  {
   "cell_type": "code",
   "execution_count": 6,
   "id": "fcf8050a-0016-4fec-bfdf-c976339e0e72",
   "metadata": {},
   "outputs": [
    {
     "name": "stdout",
     "output_type": "stream",
     "text": [
      "1~10까지의 합 = 55\n"
     ]
    }
   ],
   "source": [
    "def calcstep(begin, end, step =1):\n",
    "    hap = 0\n",
    "    for num in range(begin, end+1, step):\n",
    "        hap += num\n",
    "    return hap\n",
    "print('1~10까지의 합 =',calcstep(1,10))"
   ]
  },
  {
   "cell_type": "code",
   "execution_count": null,
   "id": "bffc6a12-b54a-40a6-8d59-ae529a3e442a",
   "metadata": {
    "scrolled": true
   },
   "outputs": [],
   "source": [
    "price = 1000 # 전역변수\n",
    "\n",
    "def sales():\n",
    "    global price\n",
    "    price = 5000 # 지역변수\n",
    "    b_price = 500\n",
    "\n",
    "sales() #함수의 호출(사용)\n",
    "print('sales () 함수 호출 후 price 값: ',price)\n",
    "# print(b_price) # 지역변수는 함수 밖에서 호출 불가능"
   ]
  },
  {
   "cell_type": "markdown",
   "id": "828ea1c0-b9ea-4b0d-911d-abc1c1353da7",
   "metadata": {},
   "source": [
    "[문제] 다음과 같은 결과를 출력하는 함수를 정의하세요.\n",
    "<pre>\n",
    "    print_star(5)\n",
    "    *\n",
    "    **\n",
    "    ***\n",
    "    ****\n",
    "    *****\n",
    "</pre>"
   ]
  },
  {
   "cell_type": "code",
   "execution_count": 45,
   "id": "e892cb57-5737-4e02-a91a-833adc6989c4",
   "metadata": {},
   "outputs": [
    {
     "name": "stdout",
     "output_type": "stream",
     "text": [
      "*\n",
      "**\n",
      "***\n",
      "****\n",
      "*****\n"
     ]
    }
   ],
   "source": [
    "def print_star(n):\n",
    "\n",
    "    for i in range(1, n+1):\n",
    "        print('*' * i)\n",
    "        \n",
    "print_star(5)"
   ]
  },
  {
   "cell_type": "code",
   "execution_count": 48,
   "id": "619bb6f0-9177-4016-a8f7-628ca9792546",
   "metadata": {},
   "outputs": [
    {
     "name": "stdout",
     "output_type": "stream",
     "text": [
      "*\n",
      "**\n",
      "***\n",
      "****\n",
      "*****\n"
     ]
    }
   ],
   "source": [
    "# 굳이 리턴 값을 쓰려면\n",
    "def print_star(n):\n",
    "    result = []\n",
    "    for i in range(1, n+1):\n",
    "        result.append('*'*i)\n",
    "    return '\\n'.join(result)\n",
    "\n",
    "r = print_star(5)\n",
    "print(r)"
   ]
  },
  {
   "cell_type": "code",
   "execution_count": 49,
   "id": "23ad19fa-6f73-4010-9a70-e8083213934b",
   "metadata": {},
   "outputs": [
    {
     "name": "stdout",
     "output_type": "stream",
     "text": [
      "잔고 부족\n"
     ]
    }
   ],
   "source": [
    "balance = 100\n",
    "\n",
    "def deposit(amount):\n",
    "    global balance\n",
    "    balance += amount\n",
    "    return balance\n",
    "\n",
    "def withdraw(amount):\n",
    "    result = False # 출금 결과 저장(True:성공, False:실패)\n",
    "    global balance\n",
    "    if balance >= amount:\n",
    "        balance -= amount\n",
    "        result = True\n",
    "    return result\n",
    "\n",
    "success = withdraw(1000)\n",
    "if success:\n",
    "    print('출금 성공')\n",
    "else:\n",
    "    print('잔고 부족')"
   ]
  },
  {
   "cell_type": "markdown",
   "id": "825be44b-f12d-48a0-87f2-6bc8577a425e",
   "metadata": {},
   "source": [
    "[문제] 함수를 이용한 계산기\n",
    "<pre>\n",
    "    이항사칙연산식을 매개변수로 받아 연산의 결과를 출력하는 함수를 정의하세요.\n",
    "    - 함수 형식 : calculator(exp), 반환 값 없음\n",
    "    - exp: 사용자로부터 입력 받은 문자열 형태의 연산식\n",
    "    - +,-,*,/ 외 연산자 사용 시 오류 메세지 출력\n",
    "    - 나누기 연산에서 부모의 값이 0인 경우 오류 메세지 출력\n",
    "    (실행예시)\n",
    "    계산식을 입력하세요: 10+20\n",
    "    10+20 = 30.00\n",
    "    \n",
    "    계산식을 입력하세요: 1020\n",
    "    연산자 오류\n",
    "</pre>\n"
   ]
  },
  {
   "cell_type": "code",
   "execution_count": 83,
   "id": "497231ba-c101-490e-add6-61a3cc58d450",
   "metadata": {
    "scrolled": true
   },
   "outputs": [
    {
     "name": "stdin",
     "output_type": "stream",
     "text": [
      "계산식을 입력하세요:  20/10\n"
     ]
    },
    {
     "name": "stdout",
     "output_type": "stream",
     "text": [
      "20/10 = 2.00\n"
     ]
    }
   ],
   "source": [
    "# 함수의 정의\n",
    "def calculator(exp):\n",
    "    operator = '' #발견된 연산자 문자열을 저장 \n",
    "    for op in ['+','-','*','/']:\n",
    "        op_index = exp.find(op) #op 위치값 (발견 안되면 -1을 반환)\n",
    "        if op_index != -1: #연산식 내에서 찾고자 하는 연산자가 발견이 됐을 경우\n",
    "            operator = op\n",
    "            break\n",
    "    if op_index != -1: #for문을 다 돌아봐야 연산자 오류(-1)이 진짜인지 아닌지 알 수 있기 때문에 이 if문은 밖으로 빼줌\n",
    "        value1 = float(exp.split(operator)[0])\n",
    "        value2 = float(exp.split(operator)[1])\n",
    "\n",
    "        if operator == '+':\n",
    "            print(f'{exp} = {value1+value2:.2f}')\n",
    "        elif operator == '-':\n",
    "            print(f'{exp} = {value1-value2:.2f}')\n",
    "        elif operator == '*':\n",
    "            print(f'{exp} = {value1*value2:.2f}')\n",
    "        elif operator == '/':\n",
    "            if value2 != 0:\n",
    "                print(f'{exp} = {value1/value2:.2f}')\n",
    "            else:\n",
    "                print('0으로 나눌 수 없습니다.')\n",
    "    else: \n",
    "        print('연산자 오류!')\n",
    "d = input('계산식을 입력하세요: ')\n",
    "calculator(d)"
   ]
  },
  {
   "cell_type": "code",
   "execution_count": 84,
   "id": "203b86af-33d6-48d8-b292-8f1fa961b67e",
   "metadata": {
    "scrolled": true
   },
   "outputs": [
    {
     "name": "stdin",
     "output_type": "stream",
     "text": [
      "계산식을 입력하세요: 10+20\n"
     ]
    },
    {
     "name": "stdout",
     "output_type": "stream",
     "text": [
      "10+20=30.00\n"
     ]
    }
   ],
   "source": [
    "def calculator(exp):\n",
    "    operator = ''   # 발견된 연산자 문자열을 저장\n",
    "    for op in ['+','-','*','/'] :\n",
    "        op_index = exp.find(op)\n",
    "        if op_index != -1: # 연산식 내에서 찾고자 하는 연산자가 발견이 됐을 경우\n",
    "            operator = op\n",
    "            break\n",
    "    if op_index == -1:\n",
    "        print('연산자 오류')\n",
    "        return     # 함수의 실행을 끝내겠다.\n",
    "        \n",
    "    value1 = float(exp.split(operator)[0])\n",
    "    value2 = float(exp.split(operator)[1])\n",
    "\n",
    "    result = 0.0\n",
    "    \n",
    "    if operator == '+':\n",
    "        result = value1 + value2\n",
    "    elif operator == '-':\n",
    "        result = value1 - value2\n",
    "    elif operator == '*':\n",
    "        result = value1 * value2\n",
    "    elif operator == '/':\n",
    "        if value2 != 0:\n",
    "            result = value1 / value2\n",
    "        else:\n",
    "            print('0으로 나눌 수 없습니다.')\n",
    "            return\n",
    "\n",
    "    print(f'{exp}={result:.2f}')\n",
    "\n",
    "d = input('계산식을 입력하세요:')\n",
    "calculator(d)            "
   ]
  },
  {
   "cell_type": "markdown",
   "id": "302360da-6a72-4fe6-9e8f-a9a996340cc6",
   "metadata": {},
   "source": [
    "## eval() - 동적 코드 실행\n",
    "- eval 함수는 문자열 형태로 된 파이썬 표현식을 평가하여 그 결과를 리턴한다."
   ]
  },
  {
   "cell_type": "code",
   "execution_count": 102,
   "id": "0b692b95-0777-4f50-bcc9-2d0ca60f3bba",
   "metadata": {
    "scrolled": true
   },
   "outputs": [
    {
     "name": "stdout",
     "output_type": "stream",
     "text": [
      "7\n",
      "<class 'int'>\n",
      "5\n",
      "서울\n",
      "대전\n",
      "광주\n"
     ]
    }
   ],
   "source": [
    "result = eval('1+2*3')\n",
    "print(result)\n",
    "print(type(result))\n",
    "\n",
    "a = 2\n",
    "print(eval('a+3'))\n",
    "\n",
    "data = '[\"서울\",\"대전\",\"광주\"]'\n",
    "for c in eval(data):\n",
    "    print(c)"
   ]
  },
  {
   "cell_type": "markdown",
   "id": "54155337-ae26-42b1-82a5-d0b994febb3c",
   "metadata": {},
   "source": [
    "# *arg와 **kwargs 매개변수"
   ]
  },
  {
   "cell_type": "code",
   "execution_count": 105,
   "id": "ee8381ae-9f59-4734-b827-3e59b608ae90",
   "metadata": {},
   "outputs": [
    {
     "name": "stdout",
     "output_type": "stream",
     "text": [
      "매개변수 값:  ()\n",
      "매개변수 값:  (1,)\n",
      "매개변수 값:  (1, 2, 3, 'a', 'b', 'c')\n"
     ]
    }
   ],
   "source": [
    "def test(*args):\n",
    "    print('매개변수 값: ',args)\n",
    "\n",
    "test()\n",
    "test(1)\n",
    "test(1,2,3,'a','b','c')"
   ]
  },
  {
   "cell_type": "code",
   "execution_count": 106,
   "id": "9018a433-5dfe-4df4-a1cf-a5289beedf43",
   "metadata": {},
   "outputs": [
    {
     "name": "stdout",
     "output_type": "stream",
     "text": [
      "<class 'int'>\n",
      "<class 'tuple'>\n"
     ]
    }
   ],
   "source": [
    "a = (1)\n",
    "print(type(a))\n",
    "b = (1,)\n",
    "print(type(b))"
   ]
  },
  {
   "cell_type": "code",
   "execution_count": 108,
   "id": "ecc18c8a-4e28-4b08-a208-8b44289b2fd5",
   "metadata": {},
   "outputs": [
    {
     "name": "stdout",
     "output_type": "stream",
     "text": [
      "a-> 10\n",
      "b-> 20\n",
      "args-> ()\n",
      "a-> 10\n",
      "b-> 20\n",
      "args-> (30,)\n"
     ]
    }
   ],
   "source": [
    "def test(a, b, *args): #위치인수와 가변매개변수가 같이 올때는 위치인수가 앞\n",
    "    print('a->',a)\n",
    "    print('b->',b)\n",
    "    print('args->',args)\n",
    "\n",
    "test(10,20)\n",
    "test(10,20,30)"
   ]
  },
  {
   "cell_type": "code",
   "execution_count": 111,
   "id": "bca02e31-2987-42aa-9965-dda36c3a77c3",
   "metadata": {
    "scrolled": true
   },
   "outputs": [
    {
     "name": "stdout",
     "output_type": "stream",
     "text": [
      "10 {}\n",
      "10 {'b': 20}\n"
     ]
    }
   ],
   "source": [
    "def test(a, **kwargs):\n",
    "    print(a, kwargs)\n",
    "\n",
    "test(10)\n",
    "test(10, b=20)"
   ]
  },
  {
   "cell_type": "code",
   "execution_count": 112,
   "id": "fd108d30-ed16-4a5f-b034-f42b1470f51f",
   "metadata": {},
   "outputs": [
    {
     "name": "stdout",
     "output_type": "stream",
     "text": [
      "1~10 합계:  55\n"
     ]
    }
   ],
   "source": [
    "def calcstep(**kwargs):\n",
    "    begin = kwargs['begin'] #키워드 가변 매개변수는 get() 안쓰고 이 방법을 씀\n",
    "    end = kwargs['end']\n",
    "    step = kwargs['step']\n",
    "\n",
    "    hap = 0\n",
    "    for n in range(begin, end+1, step):\n",
    "        hap += n\n",
    "\n",
    "    return hap \n",
    "\n",
    "print('1~10 합계: ',calcstep(begin = 1, end = 10, step = 1))"
   ]
  },
  {
   "cell_type": "markdown",
   "id": "8b78c324-29c5-4d2c-9b91-7ddf637c5d0e",
   "metadata": {},
   "source": [
    "# Filter, Map, Reduce (데이터 처리에 많이 쓰임)"
   ]
  },
  {
   "cell_type": "code",
   "execution_count": 113,
   "id": "0cf94b63-f9c7-4baa-8a15-1b161dedb512",
   "metadata": {},
   "outputs": [
    {
     "name": "stdout",
     "output_type": "stream",
     "text": [
      "낙제 점수:  45\n",
      "낙제 점수:  53\n"
     ]
    }
   ],
   "source": [
    "#Filter\n",
    "def fluck(s):\n",
    "    return s < 60\n",
    "    \n",
    "score = [45, 89, 72, 53, 94]\n",
    "for s in filter(fluck, score):\n",
    "    print('낙제 점수: ',s)"
   ]
  },
  {
   "cell_type": "code",
   "execution_count": 115,
   "id": "c462d350-4dc8-42bb-8b1d-522e17331892",
   "metadata": {},
   "outputs": [
    {
     "name": "stdout",
     "output_type": "stream",
     "text": [
      "22.5 44.5 36.0 26.5 47.0 "
     ]
    }
   ],
   "source": [
    "#Map\n",
    "def half(s):\n",
    "    return s/2\n",
    "    \n",
    "score = [45, 89, 72, 53, 94]\n",
    "for s in map(half, score):\n",
    "    print(s, end=' ')"
   ]
  },
  {
   "cell_type": "code",
   "execution_count": 6,
   "id": "e2aa37ce-0922-4d28-b270-69dcc671897d",
   "metadata": {},
   "outputs": [
    {
     "name": "stdout",
     "output_type": "stream",
     "text": [
      "353\n",
      "Hello\n"
     ]
    }
   ],
   "source": [
    "#Reduce\n",
    "from functools import reduce\n",
    "\n",
    "# reduce 함수에 사용할 집계 함수는 두개의 인수를 받는다.\n",
    "# 첫 번째 매개변수는 누적자(accumulator)가 되고\n",
    "# 두 번째 매개변수는 현재 값이 넘어오게 된다.\n",
    "def hap(a, b):\n",
    "    return a + b # 현재 a에 b를 더해서 그걸 a값에 넣음 (a = a + b)\n",
    "\n",
    "score = [45, 89, 72, 53, 94]\n",
    "print(reduce(hap, score))\n",
    "\n",
    "alphabet = ['H','e','l','l','o']\n",
    "print(reduce(hap,alphabet))"
   ]
  },
  {
   "cell_type": "markdown",
   "id": "930ea017-7d14-4dfe-80c0-54a0786116b1",
   "metadata": {},
   "source": [
    "# Lambda "
   ]
  },
  {
   "cell_type": "code",
   "execution_count": 8,
   "id": "e1a1e2d6-b04d-4bf0-8cf9-eeae8dbb286e",
   "metadata": {},
   "outputs": [
    {
     "name": "stdout",
     "output_type": "stream",
     "text": [
      "30\n"
     ]
    }
   ],
   "source": [
    "def myfunc(x, y):\n",
    "    return x + y\n",
    "\n",
    "result = myfunc(10, 20)\n",
    "print(result)"
   ]
  },
  {
   "cell_type": "code",
   "execution_count": 9,
   "id": "f073192d-1ba8-4889-b156-642fcba0b33a",
   "metadata": {},
   "outputs": [
    {
     "name": "stdout",
     "output_type": "stream",
     "text": [
      "30\n"
     ]
    }
   ],
   "source": [
    "result = lambda x, y : x+y #이 문장 자체가 함수의 기능을 가짐\n",
    "print(result(10,20))"
   ]
  },
  {
   "cell_type": "code",
   "execution_count": 12,
   "id": "960dc519-c650-43c7-ae4e-67d321ae12fb",
   "metadata": {},
   "outputs": [
    {
     "name": "stdout",
     "output_type": "stream",
     "text": [
      "['a', 'b', 'c', 'd']\n",
      "[('b', 2), ('d', 7), ('a', 10), ('c', 13)]\n"
     ]
    }
   ],
   "source": [
    "data = {'a':10, 'b':2, 'c':13, 'd':7}\n",
    "print(sorted(data)) #key 정렬\n",
    "print(sorted(data.items(), key=lambda x:x[1]))"
   ]
  },
  {
   "cell_type": "code",
   "execution_count": 4,
   "id": "e3ebf482-be5a-47e7-9244-5bb1f1f71d95",
   "metadata": {},
   "outputs": [
    {
     "name": "stdout",
     "output_type": "stream",
     "text": [
      "[1, 4, 9, 16, 25]\n",
      "[1, 4, 9, 16, 25]\n"
     ]
    }
   ],
   "source": [
    "def squared(s):\n",
    "    return s**2\n",
    "\n",
    "a = [1,2,3,4,5]\n",
    "print(list(map(lambda x:x**2, a)))\n",
    "print(list(map(squared, a)))"
   ]
  },
  {
   "cell_type": "code",
   "execution_count": 16,
   "id": "6a1e0ad1-313c-40a8-9ab6-cc497a0dd40c",
   "metadata": {},
   "outputs": [
    {
     "name": "stdout",
     "output_type": "stream",
     "text": [
      "[3, 7, 11, 15, 19]\n"
     ]
    }
   ],
   "source": [
    "x = [1,3,5,7,9]\n",
    "y = [2,4,6,8,10]\n",
    "\n",
    "print(list(map(lambda x1, y1:x1+y1, x,y)))"
   ]
  },
  {
   "cell_type": "code",
   "execution_count": 18,
   "id": "1924f072-04dd-4009-9e65-003eab18016e",
   "metadata": {
    "scrolled": true
   },
   "outputs": [
    {
     "name": "stdout",
     "output_type": "stream",
     "text": [
      "[1, 2, 3, 4, 5, 6, 7, 8, 9, 10]\n",
      "[1, 4, 3, 16, 5, 36, 7, 64, 9, 100]\n"
     ]
    }
   ],
   "source": [
    "k = list(range(1,11))\n",
    "print(k)\n",
    "print(list(map(lambda x: x**2 if not x % 2 else x, k)))"
   ]
  },
  {
   "cell_type": "code",
   "execution_count": 19,
   "id": "627a1165-4ac3-452d-877a-882e99638d17",
   "metadata": {},
   "outputs": [
    {
     "name": "stdout",
     "output_type": "stream",
     "text": [
      "[45, 30]\n"
     ]
    }
   ],
   "source": [
    "score = [45, 30, 90, 100, 67]\n",
    "print(list(filter(lambda x:x<60, score)))"
   ]
  },
  {
   "cell_type": "code",
   "execution_count": 20,
   "id": "53bfd246-4bfb-4be9-a521-1e296680ceb8",
   "metadata": {
    "scrolled": true
   },
   "outputs": [
    {
     "name": "stdout",
     "output_type": "stream",
     "text": [
      "3\n",
      "6\n"
     ]
    }
   ],
   "source": [
    "def calc(op, a, b):\n",
    "    op(a, b)\n",
    "\n",
    "def add(a, b):\n",
    "    print(a+b)\n",
    "\n",
    "def multi(a, b):\n",
    "    print(a*b)\n",
    "\n",
    "calc(add, 1, 2)\n",
    "calc(multi, 2, 3)"
   ]
  },
  {
   "cell_type": "code",
   "execution_count": 21,
   "id": "fed539f8-71f9-40a6-bd9a-1acb876c7e3a",
   "metadata": {},
   "outputs": [
    {
     "name": "stdout",
     "output_type": "stream",
     "text": [
      "2.5\n"
     ]
    }
   ],
   "source": [
    "calc(lambda a, b:print(a/b), 5, 2)"
   ]
  },
  {
   "cell_type": "code",
   "execution_count": 25,
   "id": "1411b771-388a-450b-bd9d-4a20ca21cb64",
   "metadata": {},
   "outputs": [
    {
     "name": "stdout",
     "output_type": "stream",
     "text": [
      "Help on built-in function join:\n",
      "\n",
      "join(iterable, /) method of builtins.str instance\n",
      "    Concatenate any number of strings.\n",
      "    \n",
      "    The string whose method is called is inserted in between each given string.\n",
      "    The result is returned as a new string.\n",
      "    \n",
      "    Example: '.'.join(['ab', 'pq', 'rs']) -> 'ab.pq.rs'\n",
      "\n"
     ]
    }
   ],
   "source": [
    "help('a'.join)"
   ]
  },
  {
   "cell_type": "markdown",
   "id": "c98cbdae-2303-42a6-b78c-7c51cdbdffab",
   "metadata": {},
   "source": [
    "# 표준모듈"
   ]
  },
  {
   "cell_type": "code",
   "execution_count": 3,
   "id": "2a04939e-aad1-4804-88ec-27a10fe286e9",
   "metadata": {},
   "outputs": [
    {
     "name": "stdout",
     "output_type": "stream",
     "text": [
      "1711071034.839791\n",
      "Fri Mar 22 10:30:34 2024\n"
     ]
    }
   ],
   "source": [
    "#현재 시간 \n",
    "import time\n",
    "\n",
    "t = time.time()\n",
    "print(t)\n",
    "print(time.ctime())"
   ]
  },
  {
   "cell_type": "code",
   "execution_count": 6,
   "id": "3eac27a8-f188-4c73-9533-20483ca8037c",
   "metadata": {},
   "outputs": [
    {
     "name": "stdout",
     "output_type": "stream",
     "text": [
      "1~1억까지 합계 계산 총 소요 시간:  10.238561391830444\n"
     ]
    }
   ],
   "source": [
    "import time\n",
    "\n",
    "start = time.time()\n",
    "sum = 0\n",
    "for i in range(1,100000001):\n",
    "    sum += i\n",
    "end = time.time()\n",
    "print('1~1억까지 합계 계산 총 소요 시간: ', (end - start))"
   ]
  },
  {
   "cell_type": "code",
   "execution_count": 9,
   "id": "57459bef-1842-4efc-af5f-b2f4bfabe69a",
   "metadata": {},
   "outputs": [
    {
     "name": "stdout",
     "output_type": "stream",
     "text": [
      "2024년 3월 22일\n",
      "10시 40분 58초\n"
     ]
    }
   ],
   "source": [
    "import time\n",
    "\n",
    "now = time.localtime()\n",
    "# print(now)\n",
    "print('%d년 %d월 %d일'%(now.tm_year, now.tm_mon, now.tm_mday))\n",
    "print('%d시 %d분 %d초'%(now.tm_hour, now.tm_min, now.tm_sec))"
   ]
  },
  {
   "cell_type": "code",
   "execution_count": 10,
   "id": "0c307b91-82a4-49c0-b623-ece9ceaba386",
   "metadata": {},
   "outputs": [
    {
     "name": "stdout",
     "output_type": "stream",
     "text": [
      "이 문장은\n",
      "2초 단위로\n",
      "출력됩니다.\n"
     ]
    }
   ],
   "source": [
    "import time\n",
    "\n",
    "print('이 문장은')\n",
    "time.sleep(2)\n",
    "print('2초 단위로')\n",
    "time.sleep(2)\n",
    "print('출력됩니다.')"
   ]
  },
  {
   "cell_type": "code",
   "execution_count": 19,
   "id": "a2eb61f7-19f5-40a0-b1f2-0a9e93ae4de5",
   "metadata": {},
   "outputs": [
    {
     "name": "stdout",
     "output_type": "stream",
     "text": [
      "7\n",
      "7\n",
      "1\n",
      "5\n",
      "9\n"
     ]
    }
   ],
   "source": [
    "import random\n",
    "\n",
    "random.seed(0) # 난수를 발생하는 기준값이 고정되어 항상 동일한 난수가 발생\n",
    "for i in range(5):\n",
    "    print(random.randint(1,10))\n",
    "    "
   ]
  },
  {
   "cell_type": "code",
   "execution_count": 22,
   "id": "91a6c787-fb0c-40ed-84da-7374ab6abda0",
   "metadata": {},
   "outputs": [
    {
     "name": "stdout",
     "output_type": "stream",
     "text": [
      "['짜장면', '짬뽕', '탕수육', '군만두']\n",
      "['탕수육', '짜장면', '짬뽕', '군만두']\n"
     ]
    }
   ],
   "source": [
    "import random\n",
    "\n",
    "food = ['짜장면','짬뽕','탕수육','군만두']\n",
    "print(food)\n",
    "random.shuffle(food)\n",
    "print(food)"
   ]
  },
  {
   "cell_type": "code",
   "execution_count": 23,
   "id": "a272bacc-d53a-4c3e-924d-9c3d06709a94",
   "metadata": {},
   "outputs": [
    {
     "name": "stdout",
     "output_type": "stream",
     "text": [
      "짜장면\n"
     ]
    }
   ],
   "source": [
    "print(random.choice(food))"
   ]
  },
  {
   "cell_type": "code",
   "execution_count": 24,
   "id": "4a273db5-b291-42fb-aaca-c7c25e460d7b",
   "metadata": {},
   "outputs": [
    {
     "name": "stdout",
     "output_type": "stream",
     "text": [
      "['짬뽕', '탕수육']\n"
     ]
    }
   ],
   "source": [
    "print(random.sample(food, 2))"
   ]
  },
  {
   "cell_type": "markdown",
   "id": "a846176a-4b23-4c41-aba5-6ee8b1ce58ef",
   "metadata": {},
   "source": [
    "[문제] 숫자 맞추기 게임\n",
    "- 1~100 사이의 난수를 맞추는 게임\n",
    "- 입력 값과 난수 값을 비교하여 어떤 값이 더 큰지 힌트를 알려준다.\n",
    "- 난수를 맞추면 시도 횟수 출력과 함께 프로그램을 종료한다."
   ]
  },
  {
   "cell_type": "code",
   "execution_count": 32,
   "id": "62df9a2f-7db6-484e-8eb8-ccd884c258a8",
   "metadata": {
    "scrolled": true
   },
   "outputs": [
    {
     "name": "stdout",
     "output_type": "stream",
     "text": [
      "50\n"
     ]
    },
    {
     "name": "stdin",
     "output_type": "stream",
     "text": [
      "1~100 사이의 숫자를 입력하세요:  20\n"
     ]
    },
    {
     "name": "stdout",
     "output_type": "stream",
     "text": [
      "up\n"
     ]
    },
    {
     "name": "stdin",
     "output_type": "stream",
     "text": [
      "1~100 사이의 숫자를 입력하세요:  30\n"
     ]
    },
    {
     "name": "stdout",
     "output_type": "stream",
     "text": [
      "up\n"
     ]
    },
    {
     "name": "stdin",
     "output_type": "stream",
     "text": [
      "1~100 사이의 숫자를 입력하세요:  50\n"
     ]
    },
    {
     "name": "stdout",
     "output_type": "stream",
     "text": [
      "시도 횟수:  3\n"
     ]
    }
   ],
   "source": [
    "#내가 짠 코드\n",
    "import random\n",
    "\n",
    "num = random.randint(1,100)\n",
    "count = 0\n",
    "#print(random_num)\n",
    "\n",
    "while True:\n",
    "    guess = int(input('1~100 사이의 숫자를 입력하세요: '))\n",
    "    count += 1\n",
    "    if guess > num:\n",
    "        print('down')\n",
    "    elif guess < num:\n",
    "        print('up')\n",
    "    elif guess == num:\n",
    "        break\n",
    "print('시도 횟수: ', count)"
   ]
  },
  {
   "cell_type": "code",
   "execution_count": null,
   "id": "708020a3-ebb2-41c7-acb2-b44bf7544b2e",
   "metadata": {},
   "outputs": [],
   "source": [
    "#선생님 코드\n",
    "import random\n",
    "\n",
    "num = random.randint(1,100)\n",
    "count = 0\n",
    "#print(random_num)\n",
    "\n",
    "while True:\n",
    "    guess = int(input('1~100 사이의 숫자를 입력하세요: '))\n",
    "    count += 1\n",
    "    if num == guess:\n",
    "        print(f'{count}번 만에 맞췄습니다.')\n",
    "    elif guess > num:\n",
    "        print('입력한 숫자보다 더 작습니다.')\n",
    "    else:\n",
    "        print('입력한 숫자보다 더 큽니다.')"
   ]
  },
  {
   "cell_type": "markdown",
   "id": "a6033470-f48c-4aa2-8e54-9ca5f82189da",
   "metadata": {},
   "source": [
    "[문제] 로또 번호 생성기\n",
    "- 1~45 사이의 숫자 6개 뽑기\n",
    "- 단, 숫자를 뽑을 때 중복된 숫자는 사용할 수 없음\n",
    "- 결과는 오름차순으로 정렬해서 출력한다."
   ]
  },
  {
   "cell_type": "code",
   "execution_count": 19,
   "id": "ea91f10f-af0b-485f-ade7-fd8978290ee0",
   "metadata": {
    "scrolled": true
   },
   "outputs": [
    {
     "name": "stdout",
     "output_type": "stream",
     "text": [
      "[8, 9, 28, 33, 40]\n"
     ]
    }
   ],
   "source": [
    "# #내가 짠 코드\n",
    "import random\n",
    "lotto = set()\n",
    "\n",
    "for i in range(6):\n",
    "    num = random.randint(1, 45)\n",
    "    lotto.add(num)\n",
    "\n",
    "print(sorted(lotto))"
   ]
  },
  {
   "cell_type": "code",
   "execution_count": 5,
   "id": "dd298cb7-07f9-4fce-81d9-f13ada99e9ed",
   "metadata": {},
   "outputs": [
    {
     "name": "stdout",
     "output_type": "stream",
     "text": [
      "[5, 21, 26, 39, 42, 45]\n"
     ]
    }
   ],
   "source": [
    "import random\n",
    "\n",
    "lotto = set() # 원소의 중복을 허용하지 않는다\n",
    "while True:\n",
    "    lotto.add(random.randint(1,45))\n",
    "    if len(lotto) == 6:break\n",
    "print(sorted(list(lotto)))"
   ]
  },
  {
   "cell_type": "code",
   "execution_count": 3,
   "id": "a9f3c2c1-4749-4986-ac04-98e7ba2ba8a9",
   "metadata": {},
   "outputs": [
    {
     "name": "stdout",
     "output_type": "stream",
     "text": [
      "[1, 10, 15, 18, 23, 42]\n"
     ]
    }
   ],
   "source": [
    "import random\n",
    "lotto = []\n",
    "while True:\n",
    "    num = random.randint(1,45)\n",
    "    if num not in lotto:\n",
    "        lotto.append(num)\n",
    "    if len(lotto) == 6: break\n",
    "lotto.sort()\n",
    "print(lotto)"
   ]
  },
  {
   "cell_type": "code",
   "execution_count": 4,
   "id": "318dbcdc-6979-480b-81ec-a88db52b4f69",
   "metadata": {},
   "outputs": [
    {
     "name": "stdout",
     "output_type": "stream",
     "text": [
      "[4, 6, 9, 12, 31, 40]\n"
     ]
    }
   ],
   "source": [
    "import random\n",
    "num_list = list(range(1, 46))\n",
    "lotto = random.sample(num_list, 6)\n",
    "print(sorted(lotto))"
   ]
  },
  {
   "cell_type": "markdown",
   "id": "af7becc1-446b-49d9-8a76-e8d7c4b99706",
   "metadata": {},
   "source": [
    "# File I/O"
   ]
  },
  {
   "cell_type": "code",
   "execution_count": 1,
   "id": "a54e4e62-3f5c-451a-a11b-306933d83a9f",
   "metadata": {},
   "outputs": [
    {
     "name": "stdout",
     "output_type": "stream",
     "text": [
      "End\n"
     ]
    }
   ],
   "source": [
    "# 파일 생성\n",
    "f = open('myfile.txt', 'w')\n",
    "f.close()\n",
    "print('End')"
   ]
  },
  {
   "cell_type": "code",
   "execution_count": 4,
   "id": "df189281-f0c5-45ec-abdc-7591c2d93f0b",
   "metadata": {},
   "outputs": [
    {
     "name": "stdout",
     "output_type": "stream",
     "text": [
      "End\n"
     ]
    }
   ],
   "source": [
    "# 파일 생성 후 문자열 쓰기\n",
    "f = open('myfile.txt', 'w')\n",
    "f.write('Hello World')\n",
    "f.close()\n",
    "print('End')"
   ]
  },
  {
   "cell_type": "code",
   "execution_count": 3,
   "id": "b7f502a2-4657-4377-8847-b24f07888beb",
   "metadata": {},
   "outputs": [],
   "source": [
    "# 파일 생성 후 한글이 포함된 문자열 쓰기\n",
    "f = open('myfile.txt', 'w', encoding='utf-8')\n",
    "f.write('안녕하세요!')\n",
    "f.close()"
   ]
  },
  {
   "cell_type": "code",
   "execution_count": 17,
   "id": "2d6bf862-00d5-4505-a5aa-501625629a84",
   "metadata": {
    "scrolled": true
   },
   "outputs": [
    {
     "name": "stdout",
     "output_type": "stream",
     "text": [
      "[\"Hello, it's me \\n\", \"I was wondering if after all these years you'd like to meet\\n\", 'To go over everything\\n', \"They say that time's supposed to heal ya\\n\", \"But I ain't done much healing\\n\", 'Hello, can you hear me?\\n', \"I'm in California dreaming about who we used to be\\n\", 'When we were younger and free\\n', \"I've forgotten how it felt before the world fell at our feet\\n\", \"There's such a difference between us\\n\", 'And a million miles\\n', 'Hello from the other side\\n', \"I must've called a thousand times\\n\", \"To tell you I'm sorry for everything that I've done\\n\", 'But when I call, you never seem to be home\\n', 'Hello from the outside\\n', \"At least I can say that I've tried\\n\", \"To tell you I'm sorry for breaking your heart\\n\", \"But it don't matter, it clearly doesn't tear you apart anymore\\n\", 'Hello, how are you?\\n', \"It's so typical of me to talk about myself, I'm sorry\\n\", \"I hope that you're well\\n\", 'Did you ever make it out of that town where nothing ever happened?\\n', \"It's no secret that the both of us are running out of time\\n\", 'So hello from the other side (Other side)\\n', \"I must've called a thousand times (Thousand times)\\n\", \"To tell you I'm sorry for everything that I've done\\n\", 'But when I call, you never seem to be home\\n', 'Hello from the outside (Outside)\\n', \"At least I can say that I've tried (I've tried)\\n\", \"To tell you I'm sorry for breaking your heart\\n\", \"But it don't matter, it clearly doesn't tear you apart anymore\\n\", 'Ooh-ooh, anymore\\n', 'Ooh-ooh-ooh, anymore\\n', 'Ooh-ooh, anymore\\n', 'Anymore\\n', 'Hello from the other side (Other side)\\n', \"I must've called a thousand times (Thousand times)\\n\", \"To tell you I'm sorry for everything that I've done\\n\", 'But when I call, you never seem to be home\\n', 'Hello from the outside (Outside)\\n', \"At least I can say that I've tried (I've tried)\\n\", \"To tell you I'm sorry for breaking your heart\\n\", \"But it don't matter, it clearly doesn't tear you apart anymore========================================\"]\n"
     ]
    }
   ],
   "source": [
    "f = open('song .txt', 'r')\n",
    "data = f.readlines()\n",
    "print(data)\n",
    "f.close()"
   ]
  },
  {
   "cell_type": "code",
   "execution_count": null,
   "id": "835cb23b-1865-4b71-990b-9b4788596e78",
   "metadata": {},
   "outputs": [],
   "source": [
    "f = open('song .txt', 'r')\n",
    "data = f.read()\n",
    "print(data)\n",
    "f.close()"
   ]
  },
  {
   "cell_type": "code",
   "execution_count": 8,
   "id": "5f838331-03d3-47bb-b8a3-80c9ce120f47",
   "metadata": {},
   "outputs": [
    {
     "name": "stdout",
     "output_type": "stream",
     "text": [
      "Hello, it's me \n",
      "I was wondering if after all these years you'd like to meet\n",
      "To go over everything\n",
      "They say that time's supposed to heal ya\n",
      "But I ain't done much healing\n",
      "Hello, can you hear me?\n",
      "I'm in California dreaming about who we used to be\n",
      "When we were younger and free\n",
      "I've forgotten how it felt before the world fell at our feet\n",
      "There's such a difference between us\n",
      "And a million miles\n",
      "Hello from the other side\n",
      "I must've called a thousand times\n",
      "To tell you I'm sorry for everything that I've done\n",
      "But when I call, you never seem to be home\n",
      "Hello from the outside\n",
      "At least I can say that I've tried\n",
      "To tell you I'm sorry for breaking your heart\n",
      "But it don't matter, it clearly doesn't tear you apart anymore\n",
      "Hello, how are you?\n",
      "It's so typical of me to talk about myself, I'm sorry\n",
      "I hope that you're well\n",
      "Did you ever make it out of that town where nothing ever happened?\n",
      "It's no secret that the both of us are running out of time\n",
      "So hello from the other side (Other side)\n",
      "I must've called a thousand times (Thousand times)\n",
      "To tell you I'm sorry for everything that I've done\n",
      "But when I call, you never seem to be home\n",
      "Hello from the outside (Outside)\n",
      "At least I can say that I've tried (I've tried)\n",
      "To tell you I'm sorry for breaking your heart\n",
      "But it don't matter, it clearly doesn't tear you apart anymore\n",
      "Ooh-ooh, anymore\n",
      "Ooh-ooh-ooh, anymore\n",
      "Ooh-ooh, anymore\n",
      "Anymore\n",
      "Hello from the other side (Other side)\n",
      "I must've called a thousand times (Thousand times)\n",
      "To tell you I'm sorry for everything that I've done\n",
      "But when I call, you never seem to be home\n",
      "Hello from the outside (Outside)\n",
      "At least I can say that I've tried (I've tried)\n",
      "To tell you I'm sorry for breaking your heart\n",
      "But it don't matter, it clearly doesn't tear you apart anymore"
     ]
    }
   ],
   "source": [
    "f = open('song .txt', 'r')\n",
    "while True:\n",
    "    line = f.readline()\n",
    "    if not line: break\n",
    "    print(line, end='')\n",
    "f.close()"
   ]
  },
  {
   "cell_type": "code",
   "execution_count": 9,
   "id": "9f7a8038-ffe2-47e2-8034-edd7419c3354",
   "metadata": {},
   "outputs": [
    {
     "name": "stdout",
     "output_type": "stream",
     "text": [
      "End\n"
     ]
    }
   ],
   "source": [
    "# 데이터 추가\n",
    "f = open('song .txt', 'a')\n",
    "f.write('========================================')\n",
    "f.close()\n",
    "print('End')"
   ]
  },
  {
   "cell_type": "markdown",
   "id": "d2cdc7ea-3916-4ddd-894a-1a4aab32362f",
   "metadata": {},
   "source": [
    "## with문 사용\n",
    "- with문을 사용하면 with 블럭을 벗어나는 순간 열린 파일 객체가 자동으로 닫힌다."
   ]
  },
  {
   "cell_type": "code",
   "execution_count": null,
   "id": "29df743d-a99e-496f-b7c9-a7d9e0d35132",
   "metadata": {},
   "outputs": [],
   "source": [
    "with open('song .txt','r') as f:\n",
    "    print(f.read())"
   ]
  },
  {
   "cell_type": "code",
   "execution_count": 11,
   "id": "a128d140-25e4-4bfb-bd1d-bed42efddcdb",
   "metadata": {},
   "outputs": [],
   "source": [
    "poem = \"\"\"Program is fun\n",
    "When the word is done \n",
    "if you wanna make your work also fun\n",
    "use Python!\n",
    "\"\"\"\n",
    "\n",
    "with open('poem.txt', 'w') as f:\n",
    "    f.write(poem)"
   ]
  },
  {
   "cell_type": "code",
   "execution_count": 12,
   "id": "ebcb96d6-eec9-4841-81ff-5cba29bb44a5",
   "metadata": {},
   "outputs": [
    {
     "name": "stdout",
     "output_type": "stream",
     "text": [
      "gram is fun\n",
      "When the word is done \n",
      "if you wanna make your work also fun\n",
      "use Python!\n",
      "\n"
     ]
    }
   ],
   "source": [
    "f = open('poem.txt', 'r')\n",
    "f.seek(3,0)\n",
    "print(f.read())\n",
    "f.close()"
   ]
  },
  {
   "cell_type": "code",
   "execution_count": 13,
   "id": "ed06c1e8-de2d-4a6d-b66e-d9f6779cb6ac",
   "metadata": {},
   "outputs": [
    {
     "name": "stdout",
     "output_type": "stream",
     "text": [
      "End\n"
     ]
    }
   ],
   "source": [
    "original = open('python.jpg', 'rb')\n",
    "target = open('copy_python.jpg','wb')\n",
    "data = original.read()\n",
    "target.write(data)\n",
    "original.close()\n",
    "target.close()\n",
    "print('End')"
   ]
  },
  {
   "cell_type": "markdown",
   "id": "af01cd15-d054-4493-b270-0ad6ef1b9f27",
   "metadata": {},
   "source": [
    "[문제] 학생들의 성적 합계, 평균 구하여 저장하기\n",
    "<pre> \n",
    "    score.txt 파일에 저장되어 있는 학생들의 점수를 읽어서 합계와 평균을 구한 후 result.txt에 결과를 저장하세요.\n",
    "    (저장형식)\n",
    "    이름 합계 평균\n",
    "    홍길동 270 89.0\n",
    "    임꺽정 291 93.0\n",
    "         :\n",
    "</pre>"
   ]
  },
  {
   "cell_type": "code",
   "execution_count": null,
   "id": "50d24575-5670-483d-b585-4ecd20ac68c1",
   "metadata": {},
   "outputs": [],
   "source": [
    "source = open('score.txt', 'r', encoding ='utf-8')\n",
    "target = open('result.txt', 'w', encoding = 'utf-8')\n",
    "target.write ('이름\\t합계\\t평균\\n')\n",
    "while True:\n",
    "    score = source.readline()\n",
    "    if not score: break\n",
    "    data = score.split()\n",
    "    total = int(data[1])+int(data[2])+int(data[3])\n",
    "    avg = total / 3\n",
    "    target.write('%3s\\t%4d\\t%.2f\\n'%(data[0],total,avg))\n",
    "source.close()\n",
    "target.close()\n",
    "print('End')"
   ]
  },
  {
   "cell_type": "markdown",
   "id": "9d4d1359-7ece-4839-9def-34c10dd90294",
   "metadata": {},
   "source": [
    "# File과 Directory"
   ]
  },
  {
   "cell_type": "markdown",
   "id": "c4ecd51c-8223-4fb1-94cf-cb0712cb8ca9",
   "metadata": {},
   "source": [
    "## os 모듈"
   ]
  },
  {
   "cell_type": "code",
   "execution_count": 34,
   "id": "987c2ca9-1d13-46e7-b8c3-ce6fc29a671f",
   "metadata": {},
   "outputs": [],
   "source": [
    "import os\n",
    "\n",
    "path = r'g:\\내 드라이브\\DIMA4\\01.Python'\n",
    "os.chdir(path)"
   ]
  },
  {
   "cell_type": "code",
   "execution_count": 36,
   "id": "1587aae6-eaef-4511-91a8-e0b7a9ac2748",
   "metadata": {},
   "outputs": [
    {
     "name": "stdout",
     "output_type": "stream",
     "text": [
      "현재 작업 디렉토리:  g:\\내 드라이브\\DIMA4\\01.Python\n",
      "상위 디렉토리 이동\n",
      "현재 작업 디렉토리:  g:\\내 드라이브\\DIMA4\n"
     ]
    }
   ],
   "source": [
    "# 현재 작업 디렉토리 및 경로 변경\n",
    "\n",
    "c_path = os.getcwd()\n",
    "print('현재 작업 디렉토리: ',c_path)\n",
    "os.chdir('..')\n",
    "print('상위 디렉토리 이동')\n",
    "c_path = os.getcwd()\n",
    "print('현재 작업 디렉토리: ',c_path)"
   ]
  },
  {
   "cell_type": "code",
   "execution_count": 41,
   "id": "adad4be4-f8f2-49e8-a538-285cbae02bec",
   "metadata": {},
   "outputs": [
    {
     "name": "stdout",
     "output_type": "stream",
     "text": [
      "File:  Python_basic.ipynb , 128733 bytes\n",
      "Dir:  .ipynb_checkpoints\n",
      "File:  python.jpg , 19117 bytes\n",
      "File:  Coding_test.ipynb , 27161 bytes\n",
      "File:  sysargv.py , 100 bytes\n",
      "File:  song .txt , 1836 bytes\n",
      "File:  myfile.txt , 11 bytes\n",
      "File:  poem.txt , 91 bytes\n",
      "File:  copy_python.jpg , 19117 bytes\n",
      "File:  score.txt , 96 bytes\n",
      "File:  result.txt , 132 bytes\n"
     ]
    }
   ],
   "source": [
    "# 파일 및 디렉토리 목록 확인\n",
    "path = r'g:\\내 드라이브\\DIMA4\\01.Python'\n",
    "os.chdir(path)\n",
    "\n",
    "list = os.listdir()\n",
    "for item in list:\n",
    "    if os.path.isfile(item):\n",
    "        print('File: ',item,',',os.path.getsize(item),'bytes')\n",
    "    else:\n",
    "        print('Dir: ',item)"
   ]
  },
  {
   "cell_type": "markdown",
   "id": "c7d0fcd5-06da-4529-9a8f-e78aae8b968a",
   "metadata": {},
   "source": [
    "## glob 모듈"
   ]
  },
  {
   "cell_type": "code",
   "execution_count": 44,
   "id": "17851c99-c4b0-4d4e-955f-53478054b2cf",
   "metadata": {},
   "outputs": [
    {
     "name": "stdout",
     "output_type": "stream",
     "text": [
      "현재 작업 디렉토리:  g:\\내 드라이브\\DIMA4\n",
      "01.Python\\\n"
     ]
    }
   ],
   "source": [
    "import os\n",
    "import glob\n",
    "\n",
    "os.chdir('..')\n",
    "print('현재 작업 디렉토리: ', os.getcwd())\n",
    "# 현재 디렉토리 내 모든 디렉토리 출력: **/, */\n",
    "for f in glob.glob('**/'): \n",
    "    print(f)"
   ]
  },
  {
   "cell_type": "code",
   "execution_count": 46,
   "id": "263bae05-e271-44af-8ba1-13ad0191d0b0",
   "metadata": {
    "scrolled": true
   },
   "outputs": [
    {
     "name": "stdout",
     "output_type": "stream",
     "text": [
      "Python_basic.ipynb\n",
      "python.jpg\n",
      "Coding_test.ipynb\n",
      "sysargv.py\n",
      "song .txt\n",
      "myfile.txt\n",
      "poem.txt\n",
      "copy_python.jpg\n",
      "score.txt\n",
      "result.txt\n"
     ]
    }
   ],
   "source": [
    "# 현재 디렉토리 내 디렉토리와 파일 출력: **, *\n",
    "os.chdir('./01.Python/')\n",
    "for f in glob.glob('**'):\n",
    "    print(f)"
   ]
  },
  {
   "cell_type": "code",
   "execution_count": 47,
   "id": "ad5e11a6-3f96-4e8f-9e2e-5ca32a1ca090",
   "metadata": {},
   "outputs": [
    {
     "name": "stdout",
     "output_type": "stream",
     "text": [
      "Python_basic.ipynb\n",
      "Coding_test.ipynb\n"
     ]
    }
   ],
   "source": [
    "os.chdir(r'g:\\내 드라이브\\DIMA4\\01.Python')\n",
    "for f in glob.glob('*.ipynb'):\n",
    "    print(f)"
   ]
  },
  {
   "cell_type": "markdown",
   "id": "1c8be0dc-ecf7-4f37-bfcf-47c4f69b3680",
   "metadata": {},
   "source": [
    "# 예외(Exception)"
   ]
  },
  {
   "cell_type": "markdown",
   "id": "ee21c2d3-6b03-414f-92cc-59d18cc95042",
   "metadata": {},
   "source": [
    "## 예외 발생 상황"
   ]
  },
  {
   "cell_type": "code",
   "execution_count": 52,
   "id": "d1d1da15-c173-4683-a6ae-af98459e8248",
   "metadata": {},
   "outputs": [
    {
     "ename": "FileNotFoundError",
     "evalue": "[Errno 2] No such file or directory: 'not_exists.txt'",
     "output_type": "error",
     "traceback": [
      "\u001b[1;31m---------------------------------------------------------------------------\u001b[0m",
      "\u001b[1;31mFileNotFoundError\u001b[0m                         Traceback (most recent call last)",
      "Cell \u001b[1;32mIn[52], line 13\u001b[0m\n\u001b[0;32m      6\u001b[0m b \u001b[38;5;241m=\u001b[39m \u001b[38;5;124m'\u001b[39m\u001b[38;5;124m1234b\u001b[39m\u001b[38;5;124m'\u001b[39m\n\u001b[0;32m      7\u001b[0m \u001b[38;5;66;03m# c = int(b)\u001b[39;00m\n\u001b[0;32m      8\u001b[0m \n\u001b[0;32m      9\u001b[0m \u001b[38;5;66;03m#ZeroDivisionError\u001b[39;00m\n\u001b[0;32m     10\u001b[0m \u001b[38;5;66;03m# print(10/0)\u001b[39;00m\n\u001b[0;32m     11\u001b[0m \n\u001b[0;32m     12\u001b[0m \u001b[38;5;66;03m# FileNotFoundError\u001b[39;00m\n\u001b[1;32m---> 13\u001b[0m f \u001b[38;5;241m=\u001b[39m \u001b[38;5;28mopen\u001b[39m(\u001b[38;5;124m'\u001b[39m\u001b[38;5;124mnot_exists.txt\u001b[39m\u001b[38;5;124m'\u001b[39m, \u001b[38;5;124m'\u001b[39m\u001b[38;5;124mr\u001b[39m\u001b[38;5;124m'\u001b[39m)\n",
      "File \u001b[1;32m~\\anaconda3\\Lib\\site-packages\\IPython\\core\\interactiveshell.py:310\u001b[0m, in \u001b[0;36m_modified_open\u001b[1;34m(file, *args, **kwargs)\u001b[0m\n\u001b[0;32m    303\u001b[0m \u001b[38;5;28;01mif\u001b[39;00m file \u001b[38;5;129;01min\u001b[39;00m {\u001b[38;5;241m0\u001b[39m, \u001b[38;5;241m1\u001b[39m, \u001b[38;5;241m2\u001b[39m}:\n\u001b[0;32m    304\u001b[0m     \u001b[38;5;28;01mraise\u001b[39;00m \u001b[38;5;167;01mValueError\u001b[39;00m(\n\u001b[0;32m    305\u001b[0m         \u001b[38;5;124mf\u001b[39m\u001b[38;5;124m\"\u001b[39m\u001b[38;5;124mIPython won\u001b[39m\u001b[38;5;124m'\u001b[39m\u001b[38;5;124mt let you open fd=\u001b[39m\u001b[38;5;132;01m{\u001b[39;00mfile\u001b[38;5;132;01m}\u001b[39;00m\u001b[38;5;124m by default \u001b[39m\u001b[38;5;124m\"\u001b[39m\n\u001b[0;32m    306\u001b[0m         \u001b[38;5;124m\"\u001b[39m\u001b[38;5;124mas it is likely to crash IPython. If you know what you are doing, \u001b[39m\u001b[38;5;124m\"\u001b[39m\n\u001b[0;32m    307\u001b[0m         \u001b[38;5;124m\"\u001b[39m\u001b[38;5;124myou can use builtins\u001b[39m\u001b[38;5;124m'\u001b[39m\u001b[38;5;124m open.\u001b[39m\u001b[38;5;124m\"\u001b[39m\n\u001b[0;32m    308\u001b[0m     )\n\u001b[1;32m--> 310\u001b[0m \u001b[38;5;28;01mreturn\u001b[39;00m io_open(file, \u001b[38;5;241m*\u001b[39margs, \u001b[38;5;241m*\u001b[39m\u001b[38;5;241m*\u001b[39mkwargs)\n",
      "\u001b[1;31mFileNotFoundError\u001b[0m: [Errno 2] No such file or directory: 'not_exists.txt'"
     ]
    }
   ],
   "source": [
    "# IndexError\n",
    "a = [1,2,3,4,5]\n",
    "# print(a[5])\n",
    "\n",
    "#ValueError\n",
    "b = '1234b'\n",
    "# c = int(b)\n",
    "\n",
    "#ZeroDivisionError\n",
    "# print(10/0)\n",
    "\n",
    "# FileNotFoundError\n",
    "f = open('not_exists.txt', 'r')"
   ]
  },
  {
   "cell_type": "markdown",
   "id": "24c33cec-984e-4ca8-92c0-65fbc69e86d6",
   "metadata": {},
   "source": [
    "## 예외 처리 (try ~ except)"
   ]
  },
  {
   "cell_type": "code",
   "execution_count": 54,
   "id": "19d37abd-3a16-4c57-bee1-c6f50934627b",
   "metadata": {},
   "outputs": [
    {
     "name": "stdout",
     "output_type": "stream",
     "text": [
      "0으로 나눌 수 없습니다.\n",
      "End\n"
     ]
    }
   ],
   "source": [
    "try:\n",
    "    data = 10/0\n",
    "except:\n",
    "    print('0으로 나눌 수 없습니다.')\n",
    "\n",
    "print('End')"
   ]
  },
  {
   "cell_type": "markdown",
   "id": "7cb11c49-456d-44de-8fe2-369a9ea5bf1d",
   "metadata": {},
   "source": [
    "## 예외 처리 (try ~ except ~ except)"
   ]
  },
  {
   "cell_type": "code",
   "execution_count": 57,
   "id": "103813f2-2488-4609-b4dc-7dd4d364e824",
   "metadata": {},
   "outputs": [
    {
     "name": "stdout",
     "output_type": "stream",
     "text": [
      "리스트의 범위를 벗어났습니다.\n",
      "list index out of range\n",
      "End\n"
     ]
    }
   ],
   "source": [
    "try:\n",
    "    a = [1,2,3]\n",
    "    # print(10/0)\n",
    "    print(a[3])\n",
    "except ZeroDivisionError as ze:\n",
    "    print('0으로 나눌 수 없습니다.')\n",
    "    print(ze)\n",
    "except IndexError as ie:\n",
    "    print('리스트의 범위를 벗어났습니다.')\n",
    "    print(ie)\n",
    "print('End')"
   ]
  },
  {
   "cell_type": "code",
   "execution_count": 59,
   "id": "2946ccb7-d676-4c8e-9fec-dc1da2608355",
   "metadata": {},
   "outputs": [
    {
     "name": "stdout",
     "output_type": "stream",
     "text": [
      "division by zero\n"
     ]
    }
   ],
   "source": [
    "try:\n",
    "    a = [1,2,3]\n",
    "    print(10/0)\n",
    "    print(a[3])\n",
    "except (ZeroDivisionError, IndexError) as e:\n",
    "    print(e)"
   ]
  },
  {
   "cell_type": "markdown",
   "id": "9f6de4d1-4ae4-41b7-858c-2db2e5a52905",
   "metadata": {},
   "source": [
    "## 예외 처리 (try ~ except ~ finally)"
   ]
  },
  {
   "cell_type": "code",
   "execution_count": 62,
   "id": "20d74391-b249-416d-85a8-ddfb1cadcb9e",
   "metadata": {},
   "outputs": [
    {
     "name": "stdout",
     "output_type": "stream",
     "text": [
      "리스트의 범위를 벗어났습니다.\n",
      "항상 실행되는 코드\n",
      "End\n"
     ]
    }
   ],
   "source": [
    "try:\n",
    "    a = [1,2,3]\n",
    "    print(a[3]) \n",
    "except IndexError:\n",
    "    print('리스트의 범위를 벗어났습니다.')\n",
    "finally:\n",
    "    print('항상 실행되는 코드')\n",
    "print('End')"
   ]
  },
  {
   "cell_type": "code",
   "execution_count": 64,
   "id": "05bc95e0-e395-471c-b49e-f7b4e471a65f",
   "metadata": {},
   "outputs": [
    {
     "name": "stdin",
     "output_type": "stream",
     "text": [
      "양수 입력:  -3\n"
     ]
    },
    {
     "name": "stdout",
     "output_type": "stream",
     "text": [
      "양의 정수만 입력\n"
     ]
    }
   ],
   "source": [
    "def inputNum():\n",
    "    num = int(input('양수 입력: '))\n",
    "    if num < 0:\n",
    "        raise ValueError('양의 정수만 입력')\n",
    "    return num\n",
    "\n",
    "try:\n",
    "    num = inputNum()\n",
    "    print(num)\n",
    "except ValueError as e:\n",
    "    print(e)"
   ]
  },
  {
   "cell_type": "code",
   "execution_count": 65,
   "id": "3b9a5952-6fa3-40f2-8808-fce8a08ca6f5",
   "metadata": {},
   "outputs": [
    {
     "name": "stdout",
     "output_type": "stream",
     "text": [
      "<class 'int'>\n",
      "<class 'str'>\n"
     ]
    }
   ],
   "source": [
    "a = 10\n",
    "print(type(a))\n",
    "\n",
    "b = 'abc'\n",
    "print(type(b))"
   ]
  },
  {
   "cell_type": "markdown",
   "id": "4e8e25b5-7808-4690-8043-8861e8faaa0c",
   "metadata": {},
   "source": [
    "# Class"
   ]
  },
  {
   "cell_type": "code",
   "execution_count": 1,
   "id": "e0e3ea0e-f412-4e97-bf92-15078215709f",
   "metadata": {},
   "outputs": [],
   "source": [
    "class FourCal:\n",
    "    pass\n",
    "    #생성자: 클래스의 객체를 생성할 때 멤버 변수를 초기화하기 위한 함수\n",
    "    # def __init__(self, first, second):\n",
    "    #     self.first = first #FourCal 클래스의 멤버 변수\n",
    "    #     self.second = second #FourCal 클래스의 멤버 변수\n",
    "\n",
    "a = FourCal()\n",
    "# a = FourCal(3, 4)\n",
    "# print(a.first)\n",
    "# print(a.second)"
   ]
  },
  {
   "cell_type": "code",
   "execution_count": 6,
   "id": "36c23b09-d550-4362-806d-95b81c2cac8a",
   "metadata": {},
   "outputs": [
    {
     "name": "stdout",
     "output_type": "stream",
     "text": [
      "계좌번호 : 11-11, 소유주 : 홍길동\n",
      "잔고 :  500\n",
      "계좌번호 : 11-12, 소유주 : 손오공\n"
     ]
    }
   ],
   "source": [
    "class Account:\n",
    "    #Account 클래스의 속성(멤버 변수)을 특정 값으로 초기화 하기 위한 생성자\n",
    "    def __init__(self, accNo, balance, owner):\n",
    "        self.accNo = accNo\n",
    "        self.balance = balance\n",
    "        self.owner = owner\n",
    "    # Account 객체가 가지고 있는 잔고 값을 조회하는 함수\n",
    "    def getBalance(self):\n",
    "        return self.balance\n",
    "\n",
    "    def accountInfo(self):\n",
    "        print(f'계좌번호 : {self.accNo}, 소유주 : {self.owner}')\n",
    "\n",
    "a1 = Account('11-11',500,'홍길동')\n",
    "a2 = Account('11-12',600,'손오공')\n",
    "\n",
    "a1.accountInfo()\n",
    "print('잔고 : ',a1.getBalance())\n",
    "a2.accountInfo()"
   ]
  },
  {
   "cell_type": "markdown",
   "id": "466cbf87-5973-4cf9-b488-eb2bf9279aff",
   "metadata": {},
   "source": [
    "# 상속(Inheritance)"
   ]
  },
  {
   "cell_type": "code",
   "execution_count": 11,
   "id": "ae7b4de7-b0e6-413c-bd0c-fd738a939a66",
   "metadata": {},
   "outputs": [
    {
     "name": "stdout",
     "output_type": "stream",
     "text": [
      "저는 29살 김철수입니다.\n",
      "저는 19살 이길동입니다.\n"
     ]
    }
   ],
   "source": [
    "class Human:\n",
    "    def __init__(self, name, age):\n",
    "        self.name = name\n",
    "        self.age = age\n",
    "\n",
    "    def intro(self):\n",
    "        print(f'저는 {self.age}살 {self.name}입니다.')\n",
    "\n",
    "kim = Human('김철수', 29)\n",
    "kim.intro()\n",
    "\n",
    "lee = Human('이길동', 19)\n",
    "lee.intro()"
   ]
  },
  {
   "cell_type": "code",
   "execution_count": 54,
   "id": "f9f04315-2506-49cb-8934-08668204168e",
   "metadata": {
    "scrolled": true
   },
   "outputs": [
    {
     "name": "stdout",
     "output_type": "stream",
     "text": [
      "Study Hard~!!\n",
      "저는 21살 김한별입니다.\n",
      "학번은 2024입니다.\n"
     ]
    }
   ],
   "source": [
    "class Student(Human):\n",
    "    def __init__(self, name, age, stdNo):\n",
    "        super().__init__(name,age) # 부모 클래스(Human)의 생성자 호출\n",
    "        self.stdNo = stdNo\n",
    "\n",
    "    def study(self):\n",
    "        print('Study Hard~!!')\n",
    "    \n",
    "    # method overriding(메서드 재정의)\n",
    "    # 상속관계에서 부모 클래스에 정의된 메서드(함수)를 자식 클래스의 상황에 맞게 재정의하는 것\n",
    "    def intro(self): # 이 부분은 부모 클래스랑 같아야 함\n",
    "        super().intro() #부모 클래스(Human)의 intro() 메서드 호출\n",
    "        print(f'학번은 {self.stdNo}입니다.')\n",
    "\n",
    "kim = Student('김한별', 21, '2024')\n",
    "kim.study()\n",
    "kim.intro()"
   ]
  },
  {
   "cell_type": "markdown",
   "id": "27bbaf3a-3e98-4377-8f4a-60b17c1ebb5d",
   "metadata": {},
   "source": [
    "# 은닉 (Encapsulation)"
   ]
  },
  {
   "cell_type": "markdown",
   "id": "c8789641-1fdc-428a-a15d-c250d8df8080",
   "metadata": {},
   "source": [
    "- property를 이용한 setter/getter\n",
    "    - 멤버 변수에 접근할 때 getter / setter 메서드를 이용하지 않고 직접 멤버 변수를 호출하여 사용 가능\n",
    "    - 하지만 내부적으로는 getter / setter 메서드를 통해 값을 읽고 쓰게 된다."
   ]
  },
  {
   "cell_type": "code",
   "execution_count": 31,
   "id": "d451e132-0253-413b-9ab1-fd92dfd73dee",
   "metadata": {},
   "outputs": [
    {
     "name": "stdout",
     "output_type": "stream",
     "text": [
      "{'_Date__inner_month': 3, '__inner_month': 10}\n"
     ]
    }
   ],
   "source": [
    "class Date:\n",
    "    def __init__(self, month):\n",
    "        #가급적 멤버 변수의 이름을 어렵게 설정 \n",
    "        self.__inner_month = month\n",
    "\n",
    "    def getMonth(self):\n",
    "        print('getMonth() call')\n",
    "        return self.__inner_month\n",
    "\n",
    "    def setMonth(self, month): #getMonth의 값을 다른 걸로 바꿈\n",
    "        if 1 <= month <= 12:\n",
    "            self.__inner_month = month\n",
    "        print('setMonth() call')\n",
    "\n",
    "    month = property(getMonth, setMonth)\n",
    "\n",
    "today = Date(3)\n",
    "# print(today.month)\n",
    "# today.month = 12\n",
    "# print(today.month)\n",
    "today.__inner_month = 10 # 은닉된 멤버 변수에 새로운 값을 쓴 것이 아니라, 새로운 멤버 변수를 추가한 것임\n",
    "# print(today.month)\n",
    "print(today.__dict__)"
   ]
  },
  {
   "cell_type": "markdown",
   "id": "04564f56-0355-4a07-9bc2-8ba399142a6c",
   "metadata": {},
   "source": [
    "- @property 데코레이터를 이용한 setter / getter\n",
    "    - getter 메서드 앞 : @property\n",
    "    - setter 메서드 앞 : @<프로퍼티 이름>.setter"
   ]
  },
  {
   "cell_type": "code",
   "execution_count": 37,
   "id": "75d5e83b-0370-46cb-bdc3-b8678d932d8b",
   "metadata": {},
   "outputs": [
    {
     "name": "stdout",
     "output_type": "stream",
     "text": [
      "getMonth() call\n",
      "3\n",
      "setMonth() call\n"
     ]
    }
   ],
   "source": [
    "class Date:\n",
    "    def __init__(self, month):\n",
    "        self.__inner_month = month\n",
    "\n",
    "    @property\n",
    "    def month(self):\n",
    "        print('getMonth() call')\n",
    "        return self.__inner_month\n",
    "\n",
    "    @month.setter\n",
    "    def month(self, month):\n",
    "         if 1 <= month <= 12:\n",
    "            self.__inner_month = month\n",
    "         print('setMonth() call')\n",
    "\n",
    "today = Date(3)\n",
    "print(today.month)\n",
    "today.month = 4"
   ]
  },
  {
   "cell_type": "markdown",
   "id": "0a85ebad-e2e5-4a2f-be68-8945b2d6b1c2",
   "metadata": {},
   "source": [
    "# 사용자 정의 예외 클래스"
   ]
  },
  {
   "cell_type": "code",
   "execution_count": 38,
   "id": "f85cdae6-9851-4806-99a4-4125835d19ce",
   "metadata": {},
   "outputs": [
    {
     "ename": "MyException",
     "evalue": "Test",
     "output_type": "error",
     "traceback": [
      "\u001b[1;31m---------------------------------------------------------------------------\u001b[0m",
      "\u001b[1;31mMyException\u001b[0m                               Traceback (most recent call last)",
      "Cell \u001b[1;32mIn[38], line 5\u001b[0m\n\u001b[0;32m      2\u001b[0m     \u001b[38;5;28;01mdef\u001b[39;00m \u001b[38;5;21m__init__\u001b[39m(\u001b[38;5;28mself\u001b[39m, message):\n\u001b[0;32m      3\u001b[0m         \u001b[38;5;28msuper\u001b[39m()\u001b[38;5;241m.\u001b[39m\u001b[38;5;21m__init__\u001b[39m(message)\n\u001b[1;32m----> 5\u001b[0m \u001b[38;5;28;01mraise\u001b[39;00m MyException(\u001b[38;5;124m\"\u001b[39m\u001b[38;5;124mTest\u001b[39m\u001b[38;5;124m\"\u001b[39m)\n",
      "\u001b[1;31mMyException\u001b[0m: Test"
     ]
    }
   ],
   "source": [
    "class MyException(Exception):\n",
    "    def __init__(self, message):\n",
    "        super().__init__(message)\n",
    "\n",
    "raise MyException(\"Test\")"
   ]
  },
  {
   "cell_type": "markdown",
   "id": "e48f7e44-f6c3-4397-a6ca-e3927f4ff73b",
   "metadata": {},
   "source": [
    "# 다형성(Polymorphism) - 오버라이딩 "
   ]
  },
  {
   "cell_type": "code",
   "execution_count": 53,
   "id": "c022c5da-7cd7-4eff-a60d-8bbb1190ce2b",
   "metadata": {},
   "outputs": [
    {
     "name": "stdout",
     "output_type": "stream",
     "text": [
      "True\n"
     ]
    }
   ],
   "source": [
    "class MyDate:\n",
    "    def __init__(self, year, month, day):\n",
    "        self.year = year\n",
    "        self.month = month\n",
    "        self.day = day\n",
    "    # object 클래스에 있는 __str__ 메서드 재정의\n",
    "    def __str__(self):\n",
    "        return f'{self.year}-{self.month}-{self.day}'\n",
    "\n",
    "    def __eq__(self, other):\n",
    "        return self.year == other.year and self.month == other.month and self.day == other.day\n",
    "\n",
    "    def __gt__(self, other):\n",
    "        if self.year > other.year:\n",
    "            return True\n",
    "        elif self.year == other.year and self.month > other.month:\n",
    "            return True\n",
    "        elif self.year == other.year and self.month == other.month and self.day > other.day:\n",
    "            return True\n",
    "        else:\n",
    "            return False\n",
    "        \n",
    "\n",
    "d1 = MyDate(2024, 3, 26)\n",
    "d2 = MyDate(2024, 3, 25)\n",
    "# d2 = d1\n",
    "# print(d)\n",
    "# print(d1 == d2)\n",
    "print(d1 > d2)"
   ]
  },
  {
   "cell_type": "markdown",
   "id": "31201a50-c4ce-4a06-84c6-dc8731746f05",
   "metadata": {},
   "source": [
    "# Banking System"
   ]
  },
  {
   "cell_type": "code",
   "execution_count": 1,
   "id": "c2c54679-c99d-4485-b031-778e52a8af4e",
   "metadata": {},
   "outputs": [
    {
     "name": "stdout",
     "output_type": "stream",
     "text": [
      "소유주 : 홍길동, 계좌번호 : 11-11, 잔고 : 500\n",
      "소유주 : 김철수, 계좌번호 : 11-12, 잔고 : 1000\n",
      "홍길동->김철수 계좌이체\n",
      "이체 잔고가 부족합니다.\n",
      "소유주 : 홍길동, 계좌번호 : 11-11, 잔고 : 500\n",
      "소유주 : 김철수, 계좌번호 : 11-12, 잔고 : 1000\n",
      "11-11 계좌 검색\n",
      "검색 결과가 없습니다.\n"
     ]
    }
   ],
   "source": [
    "from bank import Account, BankManager, InvalidTransactionException\n",
    "\n",
    "a1 = Account('홍길동','11-11',500)\n",
    "print(a1.showAccountInfo())\n",
    "\n",
    "a2 = Account('김철수','11-12',1000)\n",
    "print(a2.showAccountInfo())\n",
    "\n",
    "print('홍길동->김철수 계좌이체')\n",
    "try:\n",
    "    a1.transfer(600, a2)\n",
    "except InvalidTransactionException as e:\n",
    "    print(e)\n",
    "print(a1.showAccountInfo())\n",
    "print(a2.showAccountInfo())\n",
    "\n",
    "bm = BankManager()\n",
    "bm.addAccount(a1)\n",
    "bm.addAccount(a2)\n",
    "print('11-11 계좌 검색')\n",
    "r = bm.searchAccount('11-13') \n",
    "if r == None:\n",
    "    print('검색 결과가 없습니다.')\n",
    "else:\n",
    "    print(r.showAccountInfo())"
   ]
  },
  {
   "cell_type": "code",
   "execution_count": null,
   "id": "3098ab94-85d0-44cf-b4c3-efe68b00f7e9",
   "metadata": {},
   "outputs": [
    {
     "name": "stdout",
     "output_type": "stream",
     "text": [
      "--------------------\n",
      "Welcome to DIMA Bank\n",
      "--------------------\n",
      "1. 계좌 생성\n",
      "2. 입금\n",
      "3. 출금\n",
      "4. 이체\n",
      "5. 전체 계좌정보 출력\n",
      "6. 종료\n"
     ]
    },
    {
     "name": "stdin",
     "output_type": "stream",
     "text": [
      "메뉴 선택:  5\n"
     ]
    },
    {
     "name": "stdout",
     "output_type": "stream",
     "text": [
      "--------------------\n",
      "Welcome to DIMA Bank\n",
      "--------------------\n",
      "1. 계좌 생성\n",
      "2. 입금\n",
      "3. 출금\n",
      "4. 이체\n",
      "5. 전체 계좌정보 출력\n",
      "6. 종료\n"
     ]
    },
    {
     "name": "stdin",
     "output_type": "stream",
     "text": [
      "메뉴 선택:  1\n",
      "이름 :  조인영\n",
      "계좌번호 :  42546\n",
      "잔고 :  656\n"
     ]
    },
    {
     "name": "stdout",
     "output_type": "stream",
     "text": [
      "계좌 생성 완료\n",
      "--------------------\n",
      "Welcome to DIMA Bank\n",
      "--------------------\n",
      "1. 계좌 생성\n",
      "2. 입금\n",
      "3. 출금\n",
      "4. 이체\n",
      "5. 전체 계좌정보 출력\n",
      "6. 종료\n"
     ]
    },
    {
     "name": "stdin",
     "output_type": "stream",
     "text": [
      "메뉴 선택:  5\n"
     ]
    },
    {
     "name": "stdout",
     "output_type": "stream",
     "text": [
      "소유주 : 조인영, 계좌번호 : 42546, 잔고 : 656\n",
      "--------------------\n",
      "Welcome to DIMA Bank\n",
      "--------------------\n",
      "1. 계좌 생성\n",
      "2. 입금\n",
      "3. 출금\n",
      "4. 이체\n",
      "5. 전체 계좌정보 출력\n",
      "6. 종료\n"
     ]
    },
    {
     "name": "stdin",
     "output_type": "stream",
     "text": [
      "메뉴 선택:  3\n",
      "출금 계좌번호 :  21\n",
      "출금 금액 :  32\n"
     ]
    },
    {
     "name": "stdout",
     "output_type": "stream",
     "text": [
      "21계좌가 존재하지 않습니다.\n",
      "--------------------\n",
      "Welcome to DIMA Bank\n",
      "--------------------\n",
      "1. 계좌 생성\n",
      "2. 입금\n",
      "3. 출금\n",
      "4. 이체\n",
      "5. 전체 계좌정보 출력\n",
      "6. 종료\n"
     ]
    }
   ],
   "source": [
    "from bank import Account, BankManager, InvalidTransactionException\n",
    "\n",
    "def print_main_menu():\n",
    "    print('--------------------')\n",
    "    print('Welcome to DIMA Bank')\n",
    "    print('--------------------')\n",
    "    print('1. 계좌 생성')\n",
    "    print('2. 입금')\n",
    "    print('3. 출금')\n",
    "    print('4. 이체')\n",
    "    print('5. 전체 계좌정보 출력')\n",
    "    print('6. 종료')\n",
    "\n",
    "manager = BankManager()\n",
    "manager.loadData()\n",
    "\n",
    "while True:\n",
    "    print_main_menu()\n",
    "    num = input('메뉴 선택: ')\n",
    "    if num == '1':\n",
    "        name = input('이름 : ')\n",
    "        accNo = input('계좌번호 : ')\n",
    "        balance = int(input('잔고 : '))\n",
    "        a = Account(name,accNo,balance)\n",
    "        manager.addAccount(a)\n",
    "        print('계좌 생성 완료')\n",
    "    elif num == '2':\n",
    "        accNo = input('입금 계좌번호 : ')\n",
    "        amount = int(input('입금 금액 : '))\n",
    "        a = manager.searchAccount(accNo)\n",
    "        if a != None:\n",
    "            a.deposit(amount)\n",
    "            print('입금 완료 : ',a.showAccountInfo())\n",
    "        else:\n",
    "            print(f'{accNo}계좌가 존재하지 않습니다.')\n",
    "    elif num == '3':\n",
    "        accNo = input('출금 계좌번호 : ')\n",
    "        amount = int(input('출금 금액 : '))\n",
    "        a = manager.searchAccount(accNo)\n",
    "        if a != None:\n",
    "            try:\n",
    "                a.withdraw(amount)\n",
    "                print('출금 완료 : ', a.showAccountInfo())\n",
    "            except InvalidTransactionException as e:\n",
    "                print(e)\n",
    "        else:\n",
    "            print(f'{accNo}계좌가 존재하지 않습니다.')\n",
    "    elif num == '4':\n",
    "        from_accNo = input('출금 계좌번호 : ')\n",
    "        to_accNo = input('입금 계좌번호 : ')\n",
    "        amount = int(input('이체 금액 : '))\n",
    "        from_a = manager.searchAccount(from_accNo)\n",
    "        to_a = manager.searchAccount(to_accNo)\n",
    "        if from_a != None and to_a != None : \n",
    "            try:\n",
    "                from_a.transfer(amount, to_a)\n",
    "                print('이체 완료 : ',from_a.showAccountInfo())\n",
    "            except InvalidTransactionException as e:\n",
    "                print(e)\n",
    "        else:\n",
    "            print('출금 또는 입금 계좌가 존재하지 않습니다.')\n",
    "        transfer(amount, target)\n",
    "    elif num == '5':\n",
    "        all_account = manager.getAllAccountList()\n",
    "        for a in all_account:\n",
    "            print(a.showAccountInfo())\n",
    "    elif num == '6':\n",
    "        manager.saveData()\n",
    "        print('뱅킹 시스템 종료')\n",
    "        break\n",
    "    else :\n",
    "        print('메뉴 선택 오류')"
   ]
  },
  {
   "cell_type": "code",
   "execution_count": null,
   "id": "e04c627e-1f2b-4d2d-b2e7-1651b510b7f0",
   "metadata": {},
   "outputs": [],
   "source": []
  }
 ],
 "metadata": {
  "kernelspec": {
   "display_name": "Python 3 (ipykernel)",
   "language": "python",
   "name": "python3"
  },
  "language_info": {
   "codemirror_mode": {
    "name": "ipython",
    "version": 3
   },
   "file_extension": ".py",
   "mimetype": "text/x-python",
   "name": "python",
   "nbconvert_exporter": "python",
   "pygments_lexer": "ipython3",
   "version": "3.11.7"
  }
 },
 "nbformat": 4,
 "nbformat_minor": 5
}
